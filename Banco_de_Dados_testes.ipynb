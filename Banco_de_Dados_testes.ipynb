{
 "cells": [
  {
   "cell_type": "code",
   "execution_count": 34,
   "id": "dd5163f8",
   "metadata": {},
   "outputs": [],
   "source": [
    "!pip install -q -U pymysql sqlalchemy"
   ]
  },
  {
   "cell_type": "code",
   "execution_count": 19,
   "id": "7d917a97",
   "metadata": {},
   "outputs": [],
   "source": [
    "import os\n",
    "import sys\n",
    "import time\n",
    "import datetime\n",
    "import numpy as np\n",
    "import pandas as pd\n",
    "import pathlib\n",
    "import getpass\n",
    "import geopandas as gpd\n",
    "import geoplot.crs as gcrs\n",
    "import geoplot as gplt\n",
    "import matplotlib.pyplot as plt\n",
    "import matplotlib as ptl\n",
    "import pymysql\n",
    "import seaborn as sns\n",
    "\n",
    "import plotly.express as px\n",
    "from plotly.subplots import make_subplots"
   ]
  },
  {
   "cell_type": "code",
   "execution_count": 20,
   "id": "38da6ad5",
   "metadata": {},
   "outputs": [
    {
     "data": {
      "text/html": [
       "<div>\n",
       "<style scoped>\n",
       "    .dataframe tbody tr th:only-of-type {\n",
       "        vertical-align: middle;\n",
       "    }\n",
       "\n",
       "    .dataframe tbody tr th {\n",
       "        vertical-align: top;\n",
       "    }\n",
       "\n",
       "    .dataframe thead th {\n",
       "        text-align: right;\n",
       "    }\n",
       "</style>\n",
       "<table border=\"1\" class=\"dataframe\">\n",
       "  <thead>\n",
       "    <tr style=\"text-align: right;\">\n",
       "      <th></th>\n",
       "      <th>id</th>\n",
       "      <th>name</th>\n",
       "      <th>geometry</th>\n",
       "    </tr>\n",
       "  </thead>\n",
       "  <tbody>\n",
       "    <tr>\n",
       "      <th>0</th>\n",
       "      <td>3500105</td>\n",
       "      <td>Adamantina</td>\n",
       "      <td>POLYGON ((-51.05787 -21.39888, -51.05365 -21.4...</td>\n",
       "    </tr>\n",
       "    <tr>\n",
       "      <th>1</th>\n",
       "      <td>3500204</td>\n",
       "      <td>Adolfo</td>\n",
       "      <td>POLYGON ((-49.65478 -21.20607, -49.63847 -21.2...</td>\n",
       "    </tr>\n",
       "    <tr>\n",
       "      <th>2</th>\n",
       "      <td>3500303</td>\n",
       "      <td>Aguaí</td>\n",
       "      <td>POLYGON ((-47.20890 -21.97129, -47.20297 -21.9...</td>\n",
       "    </tr>\n",
       "    <tr>\n",
       "      <th>3</th>\n",
       "      <td>3500402</td>\n",
       "      <td>Águas da Prata</td>\n",
       "      <td>POLYGON ((-46.70755 -21.82895, -46.70380 -21.8...</td>\n",
       "    </tr>\n",
       "    <tr>\n",
       "      <th>4</th>\n",
       "      <td>3500501</td>\n",
       "      <td>Águas de Lindóia</td>\n",
       "      <td>POLYGON ((-46.61147 -22.43496, -46.60302 -22.4...</td>\n",
       "    </tr>\n",
       "    <tr>\n",
       "      <th>...</th>\n",
       "      <td>...</td>\n",
       "      <td>...</td>\n",
       "      <td>...</td>\n",
       "    </tr>\n",
       "    <tr>\n",
       "      <th>640</th>\n",
       "      <td>3557006</td>\n",
       "      <td>Votorantim</td>\n",
       "      <td>POLYGON ((-47.37268 -23.51783, -47.37047 -23.5...</td>\n",
       "    </tr>\n",
       "    <tr>\n",
       "      <th>641</th>\n",
       "      <td>3557105</td>\n",
       "      <td>Votuporanga</td>\n",
       "      <td>POLYGON ((-50.02073 -20.33347, -50.01275 -20.3...</td>\n",
       "    </tr>\n",
       "    <tr>\n",
       "      <th>642</th>\n",
       "      <td>3557154</td>\n",
       "      <td>Zacarias</td>\n",
       "      <td>POLYGON ((-49.99521 -21.03253, -49.98434 -21.0...</td>\n",
       "    </tr>\n",
       "    <tr>\n",
       "      <th>643</th>\n",
       "      <td>3557204</td>\n",
       "      <td>Chavantes</td>\n",
       "      <td>POLYGON ((-49.68539 -22.94866, -49.68396 -22.9...</td>\n",
       "    </tr>\n",
       "    <tr>\n",
       "      <th>644</th>\n",
       "      <td>3557303</td>\n",
       "      <td>Estiva Gerbi</td>\n",
       "      <td>POLYGON ((-46.91399 -22.19933, -46.91221 -22.2...</td>\n",
       "    </tr>\n",
       "  </tbody>\n",
       "</table>\n",
       "<p>645 rows × 3 columns</p>\n",
       "</div>"
      ],
      "text/plain": [
       "          id              name  \\\n",
       "0    3500105        Adamantina   \n",
       "1    3500204            Adolfo   \n",
       "2    3500303             Aguaí   \n",
       "3    3500402    Águas da Prata   \n",
       "4    3500501  Águas de Lindóia   \n",
       "..       ...               ...   \n",
       "640  3557006        Votorantim   \n",
       "641  3557105       Votuporanga   \n",
       "642  3557154          Zacarias   \n",
       "643  3557204         Chavantes   \n",
       "644  3557303      Estiva Gerbi   \n",
       "\n",
       "                                              geometry  \n",
       "0    POLYGON ((-51.05787 -21.39888, -51.05365 -21.4...  \n",
       "1    POLYGON ((-49.65478 -21.20607, -49.63847 -21.2...  \n",
       "2    POLYGON ((-47.20890 -21.97129, -47.20297 -21.9...  \n",
       "3    POLYGON ((-46.70755 -21.82895, -46.70380 -21.8...  \n",
       "4    POLYGON ((-46.61147 -22.43496, -46.60302 -22.4...  \n",
       "..                                                 ...  \n",
       "640  POLYGON ((-47.37268 -23.51783, -47.37047 -23.5...  \n",
       "641  POLYGON ((-50.02073 -20.33347, -50.01275 -20.3...  \n",
       "642  POLYGON ((-49.99521 -21.03253, -49.98434 -21.0...  \n",
       "643  POLYGON ((-49.68539 -22.94866, -49.68396 -22.9...  \n",
       "644  POLYGON ((-46.91399 -22.19933, -46.91221 -22.2...  \n",
       "\n",
       "[645 rows x 3 columns]"
      ]
     },
     "execution_count": 20,
     "metadata": {},
     "output_type": "execute_result"
    }
   ],
   "source": [
    "mapassp = gpd.read_file(\".//bases_de_dados//geojs-35-mun.json\")\n",
    "mapassp = mapassp[['id','name', \"geometry\"]]\n",
    "mapassp"
   ]
  },
  {
   "cell_type": "markdown",
   "id": "eda55277",
   "metadata": {},
   "source": [
    "## Índice de Nível Socieconômico"
   ]
  },
  {
   "cell_type": "markdown",
   "id": "97e46bc8",
   "metadata": {},
   "source": [
    "Para esta análise, usou-se uma tabela que contém dados que caracterizam brevemente a escola e, principalmente, dados do indicador socioeconômico da escola, o INSE. O indicador varia de 0 a 10, sendo 10 a escola com o nível socioeconômico mais baixo e 0 a escola com nível mais alto. O INSE é calculado a partir dos questionários do SARESP. Ele considera as seguintes variáveis: grau de escolaridade dos pais, posse de bens de consumo duráveis na residência e renda familiar."
   ]
  },
  {
   "cell_type": "markdown",
   "id": "f8e3dc67",
   "metadata": {},
   "source": [
    "Inicialmente, realizou-se a leitura da base com Geopandas e uma filtragem nos dados, para trabalhar somente com o necessário. Posteriormente, ainda, foram unidas as bases de dados com informações espaciais e do INSE do munícipio. "
   ]
  },
  {
   "cell_type": "code",
   "execution_count": 21,
   "id": "0dd995c8",
   "metadata": {},
   "outputs": [
    {
     "data": {
      "text/html": [
       "<div>\n",
       "<style scoped>\n",
       "    .dataframe tbody tr th:only-of-type {\n",
       "        vertical-align: middle;\n",
       "    }\n",
       "\n",
       "    .dataframe tbody tr th {\n",
       "        vertical-align: top;\n",
       "    }\n",
       "\n",
       "    .dataframe thead th {\n",
       "        text-align: right;\n",
       "    }\n",
       "</style>\n",
       "<table border=\"1\" class=\"dataframe\">\n",
       "  <thead>\n",
       "    <tr style=\"text-align: right;\">\n",
       "      <th></th>\n",
       "      <th>id</th>\n",
       "      <th>name</th>\n",
       "      <th>geometry</th>\n",
       "      <th>nivel_socio_economico</th>\n",
       "    </tr>\n",
       "  </thead>\n",
       "  <tbody>\n",
       "    <tr>\n",
       "      <th>0</th>\n",
       "      <td>3500105</td>\n",
       "      <td>Adamantina</td>\n",
       "      <td>POLYGON ((-51.05787 -21.39888, -51.05365 -21.4...</td>\n",
       "      <td>4.000000</td>\n",
       "    </tr>\n",
       "    <tr>\n",
       "      <th>1</th>\n",
       "      <td>3500204</td>\n",
       "      <td>Adolfo</td>\n",
       "      <td>POLYGON ((-49.65478 -21.20607, -49.63847 -21.2...</td>\n",
       "      <td>4.190000</td>\n",
       "    </tr>\n",
       "    <tr>\n",
       "      <th>2</th>\n",
       "      <td>3500303</td>\n",
       "      <td>Aguaí</td>\n",
       "      <td>POLYGON ((-47.20890 -21.97129, -47.20297 -21.9...</td>\n",
       "      <td>5.119091</td>\n",
       "    </tr>\n",
       "    <tr>\n",
       "      <th>3</th>\n",
       "      <td>3500402</td>\n",
       "      <td>Águas da Prata</td>\n",
       "      <td>POLYGON ((-46.70755 -21.82895, -46.70380 -21.8...</td>\n",
       "      <td>5.600000</td>\n",
       "    </tr>\n",
       "    <tr>\n",
       "      <th>4</th>\n",
       "      <td>3500501</td>\n",
       "      <td>Águas de Lindóia</td>\n",
       "      <td>POLYGON ((-46.61147 -22.43496, -46.60302 -22.4...</td>\n",
       "      <td>3.940000</td>\n",
       "    </tr>\n",
       "    <tr>\n",
       "      <th>...</th>\n",
       "      <td>...</td>\n",
       "      <td>...</td>\n",
       "      <td>...</td>\n",
       "      <td>...</td>\n",
       "    </tr>\n",
       "    <tr>\n",
       "      <th>640</th>\n",
       "      <td>3557006</td>\n",
       "      <td>Votorantim</td>\n",
       "      <td>POLYGON ((-47.37268 -23.51783, -47.37047 -23.5...</td>\n",
       "      <td>4.268462</td>\n",
       "    </tr>\n",
       "    <tr>\n",
       "      <th>641</th>\n",
       "      <td>3557105</td>\n",
       "      <td>Votuporanga</td>\n",
       "      <td>POLYGON ((-50.02073 -20.33347, -50.01275 -20.3...</td>\n",
       "      <td>4.268889</td>\n",
       "    </tr>\n",
       "    <tr>\n",
       "      <th>642</th>\n",
       "      <td>3557154</td>\n",
       "      <td>Zacarias</td>\n",
       "      <td>POLYGON ((-49.99521 -21.03253, -49.98434 -21.0...</td>\n",
       "      <td>4.450000</td>\n",
       "    </tr>\n",
       "    <tr>\n",
       "      <th>643</th>\n",
       "      <td>3557204</td>\n",
       "      <td>Chavantes</td>\n",
       "      <td>POLYGON ((-49.68539 -22.94866, -49.68396 -22.9...</td>\n",
       "      <td>5.020000</td>\n",
       "    </tr>\n",
       "    <tr>\n",
       "      <th>644</th>\n",
       "      <td>3557303</td>\n",
       "      <td>Estiva Gerbi</td>\n",
       "      <td>POLYGON ((-46.91399 -22.19933, -46.91221 -22.2...</td>\n",
       "      <td>3.860000</td>\n",
       "    </tr>\n",
       "  </tbody>\n",
       "</table>\n",
       "<p>645 rows × 4 columns</p>\n",
       "</div>"
      ],
      "text/plain": [
       "          id              name  \\\n",
       "0    3500105        Adamantina   \n",
       "1    3500204            Adolfo   \n",
       "2    3500303             Aguaí   \n",
       "3    3500402    Águas da Prata   \n",
       "4    3500501  Águas de Lindóia   \n",
       "..       ...               ...   \n",
       "640  3557006        Votorantim   \n",
       "641  3557105       Votuporanga   \n",
       "642  3557154          Zacarias   \n",
       "643  3557204         Chavantes   \n",
       "644  3557303      Estiva Gerbi   \n",
       "\n",
       "                                              geometry  nivel_socio_economico  \n",
       "0    POLYGON ((-51.05787 -21.39888, -51.05365 -21.4...               4.000000  \n",
       "1    POLYGON ((-49.65478 -21.20607, -49.63847 -21.2...               4.190000  \n",
       "2    POLYGON ((-47.20890 -21.97129, -47.20297 -21.9...               5.119091  \n",
       "3    POLYGON ((-46.70755 -21.82895, -46.70380 -21.8...               5.600000  \n",
       "4    POLYGON ((-46.61147 -22.43496, -46.60302 -22.4...               3.940000  \n",
       "..                                                 ...                    ...  \n",
       "640  POLYGON ((-47.37268 -23.51783, -47.37047 -23.5...               4.268462  \n",
       "641  POLYGON ((-50.02073 -20.33347, -50.01275 -20.3...               4.268889  \n",
       "642  POLYGON ((-49.99521 -21.03253, -49.98434 -21.0...               4.450000  \n",
       "643  POLYGON ((-49.68539 -22.94866, -49.68396 -22.9...               5.020000  \n",
       "644  POLYGON ((-46.91399 -22.19933, -46.91221 -22.2...               3.860000  \n",
       "\n",
       "[645 rows x 4 columns]"
      ]
     },
     "execution_count": 21,
     "metadata": {},
     "output_type": "execute_result"
    }
   ],
   "source": [
    "sp_nse = gpd.read_file('.//bases_de_dados//escola_nse.csv')\n",
    "\n",
    "#sp_nse = gpd.read_file(\"C://Users//vanes//OneDrive//Área de trabalho//arquivos bd//escola_nse.csv\")\n",
    "\n",
    "sp_nse = sp_nse[['id_municipio','nivel_socio_economico']]\n",
    "sp_nse[\"nivel_socio_economico\"] = pd.to_numeric(sp_nse[\"nivel_socio_economico\"])\n",
    "\n",
    "sp_nse.fillna(0, inplace = True)\n",
    "sp_nse.rename(columns={\"id_municipio\": \"id\"}, inplace = 1)\n",
    "\n",
    "sp_nse=sp_nse.groupby(\"id\").mean()\n",
    "\n",
    "sp_nse_f = mapassp.join(sp_nse, on=\"id\", how=\"left\")\n",
    "sp_nse_f"
   ]
  },
  {
   "cell_type": "markdown",
   "id": "e13bc409",
   "metadata": {},
   "source": [
    "Na primeira plotagem, abaixo, é possível visualizar os nível socioeconômico (média das escolas) por município. "
   ]
  },
  {
   "cell_type": "code",
   "execution_count": 22,
   "id": "27879f02",
   "metadata": {},
   "outputs": [
    {
     "data": {
      "image/png": "[encoded data removed]",
      "text/plain": [
       "<Figure size 720x720 with 2 Axes>"
      ]
     },
     "metadata": {
      "needs_background": "light"
     },
     "output_type": "display_data"
    }
   ],
   "source": [
    "fig, ax = plt.subplots(figsize=(10, 10))\n",
    "sp_nse_f.plot(ax=ax, column='nivel_socio_economico', cmap='coolwarm', legend=True,\n",
    "                legend_kwds={'label': \"Nível socioeconômico\", 'shrink': 0.3} )\n",
    "plt.title('Nível socioeconômico (média das escolas) por município') \n",
    "ax.axis('off');"
   ]
  },
  {
   "cell_type": "markdown",
   "id": "c0276525",
   "metadata": {},
   "source": [
    "Pelo mapa, é vísivel que alguns munícipios possuem níveis socioeconômicos (média das escolas) mais elevados que outros. O município com melhor índice de nível socioecônomico é águas de São Pedro (1.66), já com o pior INSE, é Itaóca (8.56), como verificado pelos gráficos de barras a seguir, que indicam os 10 melhores e 10 piores INSE. "
   ]
  },
  {
   "cell_type": "code",
   "execution_count": 23,
   "id": "8a3b7369",
   "metadata": {},
   "outputs": [],
   "source": [
    "df = sp_nse_f[['name','nivel_socio_economico']] #tabela com os dados necessários\n",
    "df1=df.sort_values('nivel_socio_economico', ascending=False).reset_index().head(10) #ordenação dos dados \n",
    "df2=df.sort_values('nivel_socio_economico').reset_index().head(10)"
   ]
  },
  {
   "cell_type": "code",
   "execution_count": 24,
   "id": "0e3f08b8",
   "metadata": {},
   "outputs": [
    {
     "data": {
      "application/vnd.plotly.v1+json": {
       "config": {
        "plotlyServerURL": "https://plot.ly"
       },
       "data": [
        {
         "alignmentgroup": "True",
         "hovertemplate": "Nome=%{x}<br>Nível socioeconômico =%{y}<extra></extra>",
         "legendgroup": "",
         "marker": {
          "color": "#636efa",
          "pattern": {
           "shape": ""
          }
         },
         "name": "",
         "offsetgroup": "",
         "orientation": "v",
         "showlegend": false,
         "textposition": "auto",
         "type": "bar",
         "x": [
          "Itaóca",
          "Itapirapuã Paulista",
          "Barra do Chapéu",
          "Barra do Turvo",
          "Guapiara",
          "Ribeirão Branco",
          "Cunha",
          "Bom Sucesso de Itararé",
          "Itaberá",
          "Eldorado"
         ],
         "xaxis": "x",
         "y": [
          8.563333333333333,
          8.515,
          8.453333333333333,
          8.085,
          7.958571428571429,
          7.875,
          7.825,
          7.67,
          7.638181818181818,
          7.580000000000001
         ],
         "yaxis": "y"
        }
       ],
       "layout": {
        "barmode": "stack",
        "height": 500,
        "legend": {
         "tracegroupgap": 0
        },
        "margin": {
         "t": 60
        },
        "template": {
         "data": {
          "bar": [
           {
            "error_x": {
             "color": "#2a3f5f"
            },
            "error_y": {
             "color": "#2a3f5f"
            },
            "marker": {
             "line": {
              "color": "#E5ECF6",
              "width": 0.5
             },
             "pattern": {
              "fillmode": "overlay",
              "size": 10,
              "solidity": 0.2
             }
            },
            "type": "bar"
           }
          ],
          "barpolar": [
           {
            "marker": {
             "line": {
              "color": "#E5ECF6",
              "width": 0.5
             },
             "pattern": {
              "fillmode": "overlay",
              "size": 10,
              "solidity": 0.2
             }
            },
            "type": "barpolar"
           }
          ],
          "carpet": [
           {
            "aaxis": {
             "endlinecolor": "#2a3f5f",
             "gridcolor": "white",
             "linecolor": "white",
             "minorgridcolor": "white",
             "startlinecolor": "#2a3f5f"
            },
            "baxis": {
             "endlinecolor": "#2a3f5f",
             "gridcolor": "white",
             "linecolor": "white",
             "minorgridcolor": "white",
             "startlinecolor": "#2a3f5f"
            },
            "type": "carpet"
           }
          ],
          "choropleth": [
           {
            "colorbar": {
             "outlinewidth": 0,
             "ticks": ""
            },
            "type": "choropleth"
           }
          ],
          "contour": [
           {
            "colorbar": {
             "outlinewidth": 0,
             "ticks": ""
            },
            "colorscale": [
             [
              0,
              "#0d0887"
             ],
             [
              0.1111111111111111,
              "#46039f"
             ],
             [
              0.2222222222222222,
              "#7201a8"
             ],
             [
              0.3333333333333333,
              "#9c179e"
             ],
             [
              0.4444444444444444,
              "#bd3786"
             ],
             [
              0.5555555555555556,
              "#d8576b"
             ],
             [
              0.6666666666666666,
              "#ed7953"
             ],
             [
              0.7777777777777778,
              "#fb9f3a"
             ],
             [
              0.8888888888888888,
              "#fdca26"
             ],
             [
              1,
              "#f0f921"
             ]
            ],
            "type": "contour"
           }
          ],
          "contourcarpet": [
           {
            "colorbar": {
             "outlinewidth": 0,
             "ticks": ""
            },
            "type": "contourcarpet"
           }
          ],
          "heatmap": [
           {
            "colorbar": {
             "outlinewidth": 0,
             "ticks": ""
            },
            "colorscale": [
             [
              0,
              "#0d0887"
             ],
             [
              0.1111111111111111,
              "#46039f"
             ],
             [
              0.2222222222222222,
              "#7201a8"
             ],
             [
              0.3333333333333333,
              "#9c179e"
             ],
             [
              0.4444444444444444,
              "#bd3786"
             ],
             [
              0.5555555555555556,
              "#d8576b"
             ],
             [
              0.6666666666666666,
              "#ed7953"
             ],
             [
              0.7777777777777778,
              "#fb9f3a"
             ],
             [
              0.8888888888888888,
              "#fdca26"
             ],
             [
              1,
              "#f0f921"
             ]
            ],
            "type": "heatmap"
           }
          ],
          "heatmapgl": [
           {
            "colorbar": {
             "outlinewidth": 0,
             "ticks": ""
            },
            "colorscale": [
             [
              0,
              "#0d0887"
             ],
             [
              0.1111111111111111,
              "#46039f"
             ],
             [
              0.2222222222222222,
              "#7201a8"
             ],
             [
              0.3333333333333333,
              "#9c179e"
             ],
             [
              0.4444444444444444,
              "#bd3786"
             ],
             [
              0.5555555555555556,
              "#d8576b"
             ],
             [
              0.6666666666666666,
              "#ed7953"
             ],
             [
              0.7777777777777778,
              "#fb9f3a"
             ],
             [
              0.8888888888888888,
              "#fdca26"
             ],
             [
              1,
              "#f0f921"
             ]
            ],
            "type": "heatmapgl"
           }
          ],
          "histogram": [
           {
            "marker": {
             "pattern": {
              "fillmode": "overlay",
              "size": 10,
              "solidity": 0.2
             }
            },
            "type": "histogram"
           }
          ],
          "histogram2d": [
           {
            "colorbar": {
             "outlinewidth": 0,
             "ticks": ""
            },
            "colorscale": [
             [
              0,
              "#0d0887"
             ],
             [
              0.1111111111111111,
              "#46039f"
             ],
             [
              0.2222222222222222,
              "#7201a8"
             ],
             [
              0.3333333333333333,
              "#9c179e"
             ],
             [
              0.4444444444444444,
              "#bd3786"
             ],
             [
              0.5555555555555556,
              "#d8576b"
             ],
             [
              0.6666666666666666,
              "#ed7953"
             ],
             [
              0.7777777777777778,
              "#fb9f3a"
             ],
             [
              0.8888888888888888,
              "#fdca26"
             ],
             [
              1,
              "#f0f921"
             ]
            ],
            "type": "histogram2d"
           }
          ],
          "histogram2dcontour": [
           {
            "colorbar": {
             "outlinewidth": 0,
             "ticks": ""
            },
            "colorscale": [
             [
              0,
              "#0d0887"
             ],
             [
              0.1111111111111111,
              "#46039f"
             ],
             [
              0.2222222222222222,
              "#7201a8"
             ],
             [
              0.3333333333333333,
              "#9c179e"
             ],
             [
              0.4444444444444444,
              "#bd3786"
             ],
             [
              0.5555555555555556,
              "#d8576b"
             ],
             [
              0.6666666666666666,
              "#ed7953"
             ],
             [
              0.7777777777777778,
              "#fb9f3a"
             ],
             [
              0.8888888888888888,
              "#fdca26"
             ],
             [
              1,
              "#f0f921"
             ]
            ],
            "type": "histogram2dcontour"
           }
          ],
          "mesh3d": [
           {
            "colorbar": {
             "outlinewidth": 0,
             "ticks": ""
            },
            "type": "mesh3d"
           }
          ],
          "parcoords": [
           {
            "line": {
             "colorbar": {
              "outlinewidth": 0,
              "ticks": ""
             }
            },
            "type": "parcoords"
           }
          ],
          "pie": [
           {
            "automargin": true,
            "type": "pie"
           }
          ],
          "scatter": [
           {
            "marker": {
             "colorbar": {
              "outlinewidth": 0,
              "ticks": ""
             }
            },
            "type": "scatter"
           }
          ],
          "scatter3d": [
           {
            "line": {
             "colorbar": {
              "outlinewidth": 0,
              "ticks": ""
             }
            },
            "marker": {
             "colorbar": {
              "outlinewidth": 0,
              "ticks": ""
             }
            },
            "type": "scatter3d"
           }
          ],
          "scattercarpet": [
           {
            "marker": {
             "colorbar": {
              "outlinewidth": 0,
              "ticks": ""
             }
            },
            "type": "scattercarpet"
           }
          ],
          "scattergeo": [
           {
            "marker": {
             "colorbar": {
              "outlinewidth": 0,
              "ticks": ""
             }
            },
            "type": "scattergeo"
           }
          ],
          "scattergl": [
           {
            "marker": {
             "colorbar": {
              "outlinewidth": 0,
              "ticks": ""
             }
            },
            "type": "scattergl"
           }
          ],
          "scattermapbox": [
           {
            "marker": {
             "colorbar": {
              "outlinewidth": 0,
              "ticks": ""
             }
            },
            "type": "scattermapbox"
           }
          ],
          "scatterpolar": [
           {
            "marker": {
             "colorbar": {
              "outlinewidth": 0,
              "ticks": ""
             }
            },
            "type": "scatterpolar"
           }
          ],
          "scatterpolargl": [
           {
            "marker": {
             "colorbar": {
              "outlinewidth": 0,
              "ticks": ""
             }
            },
            "type": "scatterpolargl"
           }
          ],
          "scatterternary": [
           {
            "marker": {
             "colorbar": {
              "outlinewidth": 0,
              "ticks": ""
             }
            },
            "type": "scatterternary"
           }
          ],
          "surface": [
           {
            "colorbar": {
             "outlinewidth": 0,
             "ticks": ""
            },
            "colorscale": [
             [
              0,
              "#0d0887"
             ],
             [
              0.1111111111111111,
              "#46039f"
             ],
             [
              0.2222222222222222,
              "#7201a8"
             ],
             [
              0.3333333333333333,
              "#9c179e"
             ],
             [
              0.4444444444444444,
              "#bd3786"
             ],
             [
              0.5555555555555556,
              "#d8576b"
             ],
             [
              0.6666666666666666,
              "#ed7953"
             ],
             [
              0.7777777777777778,
              "#fb9f3a"
             ],
             [
              0.8888888888888888,
              "#fdca26"
             ],
             [
              1,
              "#f0f921"
             ]
            ],
            "type": "surface"
           }
          ],
          "table": [
           {
            "cells": {
             "fill": {
              "color": "#EBF0F8"
             },
             "line": {
              "color": "white"
             }
            },
            "header": {
             "fill": {
              "color": "#C8D4E3"
             },
             "line": {
              "color": "white"
             }
            },
            "type": "table"
           }
          ]
         },
         "layout": {
          "annotationdefaults": {
           "arrowcolor": "#2a3f5f",
           "arrowhead": 0,
           "arrowwidth": 1
          },
          "autotypenumbers": "strict",
          "coloraxis": {
           "colorbar": {
            "outlinewidth": 0,
            "ticks": ""
           }
          },
          "colorscale": {
           "diverging": [
            [
             0,
             "#8e0152"
            ],
            [
             0.1,
             "#c51b7d"
            ],
            [
             0.2,
             "#de77ae"
            ],
            [
             0.3,
             "#f1b6da"
            ],
            [
             0.4,
             "#fde0ef"
            ],
            [
             0.5,
             "#f7f7f7"
            ],
            [
             0.6,
             "#e6f5d0"
            ],
            [
             0.7,
             "#b8e186"
            ],
            [
             0.8,
             "#7fbc41"
            ],
            [
             0.9,
             "#4d9221"
            ],
            [
             1,
             "#276419"
            ]
           ],
           "sequential": [
            [
             0,
             "#0d0887"
            ],
            [
             0.1111111111111111,
             "#46039f"
            ],
            [
             0.2222222222222222,
             "#7201a8"
            ],
            [
             0.3333333333333333,
             "#9c179e"
            ],
            [
             0.4444444444444444,
             "#bd3786"
            ],
            [
             0.5555555555555556,
             "#d8576b"
            ],
            [
             0.6666666666666666,
             "#ed7953"
            ],
            [
             0.7777777777777778,
             "#fb9f3a"
            ],
            [
             0.8888888888888888,
             "#fdca26"
            ],
            [
             1,
             "#f0f921"
            ]
           ],
           "sequentialminus": [
            [
             0,
             "#0d0887"
            ],
            [
             0.1111111111111111,
             "#46039f"
            ],
            [
             0.2222222222222222,
             "#7201a8"
            ],
            [
             0.3333333333333333,
             "#9c179e"
            ],
            [
             0.4444444444444444,
             "#bd3786"
            ],
            [
             0.5555555555555556,
             "#d8576b"
            ],
            [
             0.6666666666666666,
             "#ed7953"
            ],
            [
             0.7777777777777778,
             "#fb9f3a"
            ],
            [
             0.8888888888888888,
             "#fdca26"
            ],
            [
             1,
             "#f0f921"
            ]
           ]
          },
          "colorway": [
           "#636efa",
           "#EF553B",
           "#00cc96",
           "#ab63fa",
           "#FFA15A",
           "#19d3f3",
           "#FF6692",
           "#B6E880",
           "#FF97FF",
           "#FECB52"
          ],
          "font": {
           "color": "#2a3f5f"
          },
          "geo": {
           "bgcolor": "white",
           "lakecolor": "white",
           "landcolor": "#E5ECF6",
           "showlakes": true,
           "showland": true,
           "subunitcolor": "white"
          },
          "hoverlabel": {
           "align": "left"
          },
          "hovermode": "closest",
          "mapbox": {
           "style": "light"
          },
          "paper_bgcolor": "white",
          "plot_bgcolor": "#E5ECF6",
          "polar": {
           "angularaxis": {
            "gridcolor": "white",
            "linecolor": "white",
            "ticks": ""
           },
           "bgcolor": "#E5ECF6",
           "radialaxis": {
            "gridcolor": "white",
            "linecolor": "white",
            "ticks": ""
           }
          },
          "scene": {
           "xaxis": {
            "backgroundcolor": "#E5ECF6",
            "gridcolor": "white",
            "gridwidth": 2,
            "linecolor": "white",
            "showbackground": true,
            "ticks": "",
            "zerolinecolor": "white"
           },
           "yaxis": {
            "backgroundcolor": "#E5ECF6",
            "gridcolor": "white",
            "gridwidth": 2,
            "linecolor": "white",
            "showbackground": true,
            "ticks": "",
            "zerolinecolor": "white"
           },
           "zaxis": {
            "backgroundcolor": "#E5ECF6",
            "gridcolor": "white",
            "gridwidth": 2,
            "linecolor": "white",
            "showbackground": true,
            "ticks": "",
            "zerolinecolor": "white"
           }
          },
          "shapedefaults": {
           "line": {
            "color": "#2a3f5f"
           }
          },
          "ternary": {
           "aaxis": {
            "gridcolor": "white",
            "linecolor": "white",
            "ticks": ""
           },
           "baxis": {
            "gridcolor": "white",
            "linecolor": "white",
            "ticks": ""
           },
           "bgcolor": "#E5ECF6",
           "caxis": {
            "gridcolor": "white",
            "linecolor": "white",
            "ticks": ""
           }
          },
          "title": {
           "x": 0.05
          },
          "xaxis": {
           "automargin": true,
           "gridcolor": "white",
           "linecolor": "white",
           "ticks": "",
           "title": {
            "standoff": 15
           },
           "zerolinecolor": "white",
           "zerolinewidth": 2
          },
          "yaxis": {
           "automargin": true,
           "gridcolor": "white",
           "linecolor": "white",
           "ticks": "",
           "title": {
            "standoff": 15
           },
           "zerolinecolor": "white",
           "zerolinewidth": 2
          }
         }
        },
        "title": {
         "text": "10 municípios com piores níveis socioeconômicos (média das escolas)"
        },
        "width": 700,
        "xaxis": {
         "anchor": "y",
         "domain": [
          0,
          1
         ],
         "title": {
          "text": "Município"
         }
        },
        "yaxis": {
         "anchor": "x",
         "domain": [
          0,
          1
         ],
         "title": {
          "text": "Nível socioeconômico médio das escolas"
         }
        }
       }
      },
      "text/html": [
       "<div>                            <div id=\"c9629bc3-52ff-48f2-911a-7b6e558a19e5\" class=\"plotly-graph-div\" style=\"height:500px; width:700px;\"></div>            <script type=\"text/javascript\">                require([\"plotly\"], function(Plotly) {                    window.PLOTLYENV=window.PLOTLYENV || {};                                    if (document.getElementById(\"c9629bc3-52ff-48f2-911a-7b6e558a19e5\")) {                    Plotly.newPlot(                        \"c9629bc3-52ff-48f2-911a-7b6e558a19e5\",                        [{\"alignmentgroup\":\"True\",\"hovertemplate\":\"Nome=%{x}<br>N\\u00edvel socioecon\\u00f4mico =%{y}<extra></extra>\",\"legendgroup\":\"\",\"marker\":{\"color\":\"#636efa\",\"pattern\":{\"shape\":\"\"}},\"name\":\"\",\"offsetgroup\":\"\",\"orientation\":\"v\",\"showlegend\":false,\"textposition\":\"auto\",\"x\":[\"Ita\\u00f3ca\",\"Itapirapu\\u00e3 Paulista\",\"Barra do Chap\\u00e9u\",\"Barra do Turvo\",\"Guapiara\",\"Ribeir\\u00e3o Branco\",\"Cunha\",\"Bom Sucesso de Itarar\\u00e9\",\"Itaber\\u00e1\",\"Eldorado\"],\"xaxis\":\"x\",\"y\":[8.563333333333333,8.515,8.453333333333333,8.085,7.958571428571429,7.875,7.825,7.67,7.638181818181818,7.580000000000001],\"yaxis\":\"y\",\"type\":\"bar\"}],                        {\"template\":{\"data\":{\"bar\":[{\"error_x\":{\"color\":\"#2a3f5f\"},\"error_y\":{\"color\":\"#2a3f5f\"},\"marker\":{\"line\":{\"color\":\"#E5ECF6\",\"width\":0.5},\"pattern\":{\"fillmode\":\"overlay\",\"size\":10,\"solidity\":0.2}},\"type\":\"bar\"}],\"barpolar\":[{\"marker\":{\"line\":{\"color\":\"#E5ECF6\",\"width\":0.5},\"pattern\":{\"fillmode\":\"overlay\",\"size\":10,\"solidity\":0.2}},\"type\":\"barpolar\"}],\"carpet\":[{\"aaxis\":{\"endlinecolor\":\"#2a3f5f\",\"gridcolor\":\"white\",\"linecolor\":\"white\",\"minorgridcolor\":\"white\",\"startlinecolor\":\"#2a3f5f\"},\"baxis\":{\"endlinecolor\":\"#2a3f5f\",\"gridcolor\":\"white\",\"linecolor\":\"white\",\"minorgridcolor\":\"white\",\"startlinecolor\":\"#2a3f5f\"},\"type\":\"carpet\"}],\"choropleth\":[{\"colorbar\":{\"outlinewidth\":0,\"ticks\":\"\"},\"type\":\"choropleth\"}],\"contour\":[{\"colorbar\":{\"outlinewidth\":0,\"ticks\":\"\"},\"colorscale\":[[0.0,\"#0d0887\"],[0.1111111111111111,\"#46039f\"],[0.2222222222222222,\"#7201a8\"],[0.3333333333333333,\"#9c179e\"],[0.4444444444444444,\"#bd3786\"],[0.5555555555555556,\"#d8576b\"],[0.6666666666666666,\"#ed7953\"],[0.7777777777777778,\"#fb9f3a\"],[0.8888888888888888,\"#fdca26\"],[1.0,\"#f0f921\"]],\"type\":\"contour\"}],\"contourcarpet\":[{\"colorbar\":{\"outlinewidth\":0,\"ticks\":\"\"},\"type\":\"contourcarpet\"}],\"heatmap\":[{\"colorbar\":{\"outlinewidth\":0,\"ticks\":\"\"},\"colorscale\":[[0.0,\"#0d0887\"],[0.1111111111111111,\"#46039f\"],[0.2222222222222222,\"#7201a8\"],[0.3333333333333333,\"#9c179e\"],[0.4444444444444444,\"#bd3786\"],[0.5555555555555556,\"#d8576b\"],[0.6666666666666666,\"#ed7953\"],[0.7777777777777778,\"#fb9f3a\"],[0.8888888888888888,\"#fdca26\"],[1.0,\"#f0f921\"]],\"type\":\"heatmap\"}],\"heatmapgl\":[{\"colorbar\":{\"outlinewidth\":0,\"ticks\":\"\"},\"colorscale\":[[0.0,\"#0d0887\"],[0.1111111111111111,\"#46039f\"],[0.2222222222222222,\"#7201a8\"],[0.3333333333333333,\"#9c179e\"],[0.4444444444444444,\"#bd3786\"],[0.5555555555555556,\"#d8576b\"],[0.6666666666666666,\"#ed7953\"],[0.7777777777777778,\"#fb9f3a\"],[0.8888888888888888,\"#fdca26\"],[1.0,\"#f0f921\"]],\"type\":\"heatmapgl\"}],\"histogram\":[{\"marker\":{\"pattern\":{\"fillmode\":\"overlay\",\"size\":10,\"solidity\":0.2}},\"type\":\"histogram\"}],\"histogram2d\":[{\"colorbar\":{\"outlinewidth\":0,\"ticks\":\"\"},\"colorscale\":[[0.0,\"#0d0887\"],[0.1111111111111111,\"#46039f\"],[0.2222222222222222,\"#7201a8\"],[0.3333333333333333,\"#9c179e\"],[0.4444444444444444,\"#bd3786\"],[0.5555555555555556,\"#d8576b\"],[0.6666666666666666,\"#ed7953\"],[0.7777777777777778,\"#fb9f3a\"],[0.8888888888888888,\"#fdca26\"],[1.0,\"#f0f921\"]],\"type\":\"histogram2d\"}],\"histogram2dcontour\":[{\"colorbar\":{\"outlinewidth\":0,\"ticks\":\"\"},\"colorscale\":[[0.0,\"#0d0887\"],[0.1111111111111111,\"#46039f\"],[0.2222222222222222,\"#7201a8\"],[0.3333333333333333,\"#9c179e\"],[0.4444444444444444,\"#bd3786\"],[0.5555555555555556,\"#d8576b\"],[0.6666666666666666,\"#ed7953\"],[0.7777777777777778,\"#fb9f3a\"],[0.8888888888888888,\"#fdca26\"],[1.0,\"#f0f921\"]],\"type\":\"histogram2dcontour\"}],\"mesh3d\":[{\"colorbar\":{\"outlinewidth\":0,\"ticks\":\"\"},\"type\":\"mesh3d\"}],\"parcoords\":[{\"line\":{\"colorbar\":{\"outlinewidth\":0,\"ticks\":\"\"}},\"type\":\"parcoords\"}],\"pie\":[{\"automargin\":true,\"type\":\"pie\"}],\"scatter\":[{\"marker\":{\"colorbar\":{\"outlinewidth\":0,\"ticks\":\"\"}},\"type\":\"scatter\"}],\"scatter3d\":[{\"line\":{\"colorbar\":{\"outlinewidth\":0,\"ticks\":\"\"}},\"marker\":{\"colorbar\":{\"outlinewidth\":0,\"ticks\":\"\"}},\"type\":\"scatter3d\"}],\"scattercarpet\":[{\"marker\":{\"colorbar\":{\"outlinewidth\":0,\"ticks\":\"\"}},\"type\":\"scattercarpet\"}],\"scattergeo\":[{\"marker\":{\"colorbar\":{\"outlinewidth\":0,\"ticks\":\"\"}},\"type\":\"scattergeo\"}],\"scattergl\":[{\"marker\":{\"colorbar\":{\"outlinewidth\":0,\"ticks\":\"\"}},\"type\":\"scattergl\"}],\"scattermapbox\":[{\"marker\":{\"colorbar\":{\"outlinewidth\":0,\"ticks\":\"\"}},\"type\":\"scattermapbox\"}],\"scatterpolar\":[{\"marker\":{\"colorbar\":{\"outlinewidth\":0,\"ticks\":\"\"}},\"type\":\"scatterpolar\"}],\"scatterpolargl\":[{\"marker\":{\"colorbar\":{\"outlinewidth\":0,\"ticks\":\"\"}},\"type\":\"scatterpolargl\"}],\"scatterternary\":[{\"marker\":{\"colorbar\":{\"outlinewidth\":0,\"ticks\":\"\"}},\"type\":\"scatterternary\"}],\"surface\":[{\"colorbar\":{\"outlinewidth\":0,\"ticks\":\"\"},\"colorscale\":[[0.0,\"#0d0887\"],[0.1111111111111111,\"#46039f\"],[0.2222222222222222,\"#7201a8\"],[0.3333333333333333,\"#9c179e\"],[0.4444444444444444,\"#bd3786\"],[0.5555555555555556,\"#d8576b\"],[0.6666666666666666,\"#ed7953\"],[0.7777777777777778,\"#fb9f3a\"],[0.8888888888888888,\"#fdca26\"],[1.0,\"#f0f921\"]],\"type\":\"surface\"}],\"table\":[{\"cells\":{\"fill\":{\"color\":\"#EBF0F8\"},\"line\":{\"color\":\"white\"}},\"header\":{\"fill\":{\"color\":\"#C8D4E3\"},\"line\":{\"color\":\"white\"}},\"type\":\"table\"}]},\"layout\":{\"annotationdefaults\":{\"arrowcolor\":\"#2a3f5f\",\"arrowhead\":0,\"arrowwidth\":1},\"autotypenumbers\":\"strict\",\"coloraxis\":{\"colorbar\":{\"outlinewidth\":0,\"ticks\":\"\"}},\"colorscale\":{\"diverging\":[[0,\"#8e0152\"],[0.1,\"#c51b7d\"],[0.2,\"#de77ae\"],[0.3,\"#f1b6da\"],[0.4,\"#fde0ef\"],[0.5,\"#f7f7f7\"],[0.6,\"#e6f5d0\"],[0.7,\"#b8e186\"],[0.8,\"#7fbc41\"],[0.9,\"#4d9221\"],[1,\"#276419\"]],\"sequential\":[[0.0,\"#0d0887\"],[0.1111111111111111,\"#46039f\"],[0.2222222222222222,\"#7201a8\"],[0.3333333333333333,\"#9c179e\"],[0.4444444444444444,\"#bd3786\"],[0.5555555555555556,\"#d8576b\"],[0.6666666666666666,\"#ed7953\"],[0.7777777777777778,\"#fb9f3a\"],[0.8888888888888888,\"#fdca26\"],[1.0,\"#f0f921\"]],\"sequentialminus\":[[0.0,\"#0d0887\"],[0.1111111111111111,\"#46039f\"],[0.2222222222222222,\"#7201a8\"],[0.3333333333333333,\"#9c179e\"],[0.4444444444444444,\"#bd3786\"],[0.5555555555555556,\"#d8576b\"],[0.6666666666666666,\"#ed7953\"],[0.7777777777777778,\"#fb9f3a\"],[0.8888888888888888,\"#fdca26\"],[1.0,\"#f0f921\"]]},\"colorway\":[\"#636efa\",\"#EF553B\",\"#00cc96\",\"#ab63fa\",\"#FFA15A\",\"#19d3f3\",\"#FF6692\",\"#B6E880\",\"#FF97FF\",\"#FECB52\"],\"font\":{\"color\":\"#2a3f5f\"},\"geo\":{\"bgcolor\":\"white\",\"lakecolor\":\"white\",\"landcolor\":\"#E5ECF6\",\"showlakes\":true,\"showland\":true,\"subunitcolor\":\"white\"},\"hoverlabel\":{\"align\":\"left\"},\"hovermode\":\"closest\",\"mapbox\":{\"style\":\"light\"},\"paper_bgcolor\":\"white\",\"plot_bgcolor\":\"#E5ECF6\",\"polar\":{\"angularaxis\":{\"gridcolor\":\"white\",\"linecolor\":\"white\",\"ticks\":\"\"},\"bgcolor\":\"#E5ECF6\",\"radialaxis\":{\"gridcolor\":\"white\",\"linecolor\":\"white\",\"ticks\":\"\"}},\"scene\":{\"xaxis\":{\"backgroundcolor\":\"#E5ECF6\",\"gridcolor\":\"white\",\"gridwidth\":2,\"linecolor\":\"white\",\"showbackground\":true,\"ticks\":\"\",\"zerolinecolor\":\"white\"},\"yaxis\":{\"backgroundcolor\":\"#E5ECF6\",\"gridcolor\":\"white\",\"gridwidth\":2,\"linecolor\":\"white\",\"showbackground\":true,\"ticks\":\"\",\"zerolinecolor\":\"white\"},\"zaxis\":{\"backgroundcolor\":\"#E5ECF6\",\"gridcolor\":\"white\",\"gridwidth\":2,\"linecolor\":\"white\",\"showbackground\":true,\"ticks\":\"\",\"zerolinecolor\":\"white\"}},\"shapedefaults\":{\"line\":{\"color\":\"#2a3f5f\"}},\"ternary\":{\"aaxis\":{\"gridcolor\":\"white\",\"linecolor\":\"white\",\"ticks\":\"\"},\"baxis\":{\"gridcolor\":\"white\",\"linecolor\":\"white\",\"ticks\":\"\"},\"bgcolor\":\"#E5ECF6\",\"caxis\":{\"gridcolor\":\"white\",\"linecolor\":\"white\",\"ticks\":\"\"}},\"title\":{\"x\":0.05},\"xaxis\":{\"automargin\":true,\"gridcolor\":\"white\",\"linecolor\":\"white\",\"ticks\":\"\",\"title\":{\"standoff\":15},\"zerolinecolor\":\"white\",\"zerolinewidth\":2},\"yaxis\":{\"automargin\":true,\"gridcolor\":\"white\",\"linecolor\":\"white\",\"ticks\":\"\",\"title\":{\"standoff\":15},\"zerolinecolor\":\"white\",\"zerolinewidth\":2}}},\"xaxis\":{\"anchor\":\"y\",\"domain\":[0.0,1.0],\"title\":{\"text\":\"Munic\\u00edpio\"}},\"yaxis\":{\"anchor\":\"x\",\"domain\":[0.0,1.0],\"title\":{\"text\":\"N\\u00edvel socioecon\\u00f4mico m\\u00e9dio das escolas\"}},\"legend\":{\"tracegroupgap\":0},\"margin\":{\"t\":60},\"barmode\":\"stack\",\"height\":500,\"width\":700,\"title\":{\"text\":\"10 munic\\u00edpios com piores n\\u00edveis socioecon\\u00f4micos (m\\u00e9dia das escolas)\"}},                        {\"responsive\": true}                    ).then(function(){\n",
       "                            \n",
       "var gd = document.getElementById('c9629bc3-52ff-48f2-911a-7b6e558a19e5');\n",
       "var x = new MutationObserver(function (mutations, observer) {{\n",
       "        var display = window.getComputedStyle(gd).display;\n",
       "        if (!display || display === 'none') {{\n",
       "            console.log([gd, 'removed!']);\n",
       "            Plotly.purge(gd);\n",
       "            observer.disconnect();\n",
       "        }}\n",
       "}});\n",
       "\n",
       "// Listen for the removal of the full notebook cells\n",
       "var notebookContainer = gd.closest('#notebook-container');\n",
       "if (notebookContainer) {{\n",
       "    x.observe(notebookContainer, {childList: true});\n",
       "}}\n",
       "\n",
       "// Listen for the clearing of the current output cell\n",
       "var outputEl = gd.closest('.output');\n",
       "if (outputEl) {{\n",
       "    x.observe(outputEl, {childList: true});\n",
       "}}\n",
       "\n",
       "                        })                };                });            </script>        </div>"
      ]
     },
     "metadata": {},
     "output_type": "display_data"
    }
   ],
   "source": [
    "fig = px.bar(df1,\n",
    "             x='name', y=\"nivel_socio_economico\", height=500, width=700,\n",
    "             barmode='stack', labels={\"name\": \"Nome\", 'nivel_socio_economico':\"Nível socioeconômico \"})\n",
    "fig.update_layout(title = '10 municípios com piores níveis socioeconômicos (média das escolas)')\n",
    "fig.update_xaxes(title = 'Município')\n",
    "fig.update_yaxes(title = 'Nível socioeconômico médio das escolas')\n",
    "fig.show()"
   ]
  },
  {
   "cell_type": "code",
   "execution_count": 25,
   "id": "b1adee86",
   "metadata": {},
   "outputs": [
    {
     "data": {
      "application/vnd.plotly.v1+json": {
       "config": {
        "plotlyServerURL": "https://plot.ly"
       },
       "data": [
        {
         "alignmentgroup": "True",
         "hovertemplate": "Nome=%{x}<br>Nível socioeconômico =%{y}<extra></extra>",
         "legendgroup": "",
         "marker": {
          "color": "#636efa",
          "pattern": {
           "shape": ""
          }
         },
         "name": "",
         "offsetgroup": "",
         "orientation": "v",
         "showlegend": false,
         "textposition": "auto",
         "type": "bar",
         "x": [
          "Águas de São Pedro",
          "São Caetano do Sul",
          "Monte Alegre do Sul",
          "Cerquilho",
          "Alumínio",
          "Valinhos",
          "Holambra",
          "Jaguariúna",
          "Buritizal",
          "Lindóia"
         ],
         "xaxis": "x",
         "y": [
          1.66,
          1.9129999999999998,
          2.57,
          2.58,
          2.59,
          2.7457142857142856,
          2.83,
          2.85,
          2.92,
          3.04
         ],
         "yaxis": "y"
        }
       ],
       "layout": {
        "barmode": "stack",
        "height": 500,
        "legend": {
         "tracegroupgap": 0
        },
        "margin": {
         "t": 60
        },
        "template": {
         "data": {
          "bar": [
           {
            "error_x": {
             "color": "#2a3f5f"
            },
            "error_y": {
             "color": "#2a3f5f"
            },
            "marker": {
             "line": {
              "color": "#E5ECF6",
              "width": 0.5
             },
             "pattern": {
              "fillmode": "overlay",
              "size": 10,
              "solidity": 0.2
             }
            },
            "type": "bar"
           }
          ],
          "barpolar": [
           {
            "marker": {
             "line": {
              "color": "#E5ECF6",
              "width": 0.5
             },
             "pattern": {
              "fillmode": "overlay",
              "size": 10,
              "solidity": 0.2
             }
            },
            "type": "barpolar"
           }
          ],
          "carpet": [
           {
            "aaxis": {
             "endlinecolor": "#2a3f5f",
             "gridcolor": "white",
             "linecolor": "white",
             "minorgridcolor": "white",
             "startlinecolor": "#2a3f5f"
            },
            "baxis": {
             "endlinecolor": "#2a3f5f",
             "gridcolor": "white",
             "linecolor": "white",
             "minorgridcolor": "white",
             "startlinecolor": "#2a3f5f"
            },
            "type": "carpet"
           }
          ],
          "choropleth": [
           {
            "colorbar": {
             "outlinewidth": 0,
             "ticks": ""
            },
            "type": "choropleth"
           }
          ],
          "contour": [
           {
            "colorbar": {
             "outlinewidth": 0,
             "ticks": ""
            },
            "colorscale": [
             [
              0,
              "#0d0887"
             ],
             [
              0.1111111111111111,
              "#46039f"
             ],
             [
              0.2222222222222222,
              "#7201a8"
             ],
             [
              0.3333333333333333,
              "#9c179e"
             ],
             [
              0.4444444444444444,
              "#bd3786"
             ],
             [
              0.5555555555555556,
              "#d8576b"
             ],
             [
              0.6666666666666666,
              "#ed7953"
             ],
             [
              0.7777777777777778,
              "#fb9f3a"
             ],
             [
              0.8888888888888888,
              "#fdca26"
             ],
             [
              1,
              "#f0f921"
             ]
            ],
            "type": "contour"
           }
          ],
          "contourcarpet": [
           {
            "colorbar": {
             "outlinewidth": 0,
             "ticks": ""
            },
            "type": "contourcarpet"
           }
          ],
          "heatmap": [
           {
            "colorbar": {
             "outlinewidth": 0,
             "ticks": ""
            },
            "colorscale": [
             [
              0,
              "#0d0887"
             ],
             [
              0.1111111111111111,
              "#46039f"
             ],
             [
              0.2222222222222222,
              "#7201a8"
             ],
             [
              0.3333333333333333,
              "#9c179e"
             ],
             [
              0.4444444444444444,
              "#bd3786"
             ],
             [
              0.5555555555555556,
              "#d8576b"
             ],
             [
              0.6666666666666666,
              "#ed7953"
             ],
             [
              0.7777777777777778,
              "#fb9f3a"
             ],
             [
              0.8888888888888888,
              "#fdca26"
             ],
             [
              1,
              "#f0f921"
             ]
            ],
            "type": "heatmap"
           }
          ],
          "heatmapgl": [
           {
            "colorbar": {
             "outlinewidth": 0,
             "ticks": ""
            },
            "colorscale": [
             [
              0,
              "#0d0887"
             ],
             [
              0.1111111111111111,
              "#46039f"
             ],
             [
              0.2222222222222222,
              "#7201a8"
             ],
             [
              0.3333333333333333,
              "#9c179e"
             ],
             [
              0.4444444444444444,
              "#bd3786"
             ],
             [
              0.5555555555555556,
              "#d8576b"
             ],
             [
              0.6666666666666666,
              "#ed7953"
             ],
             [
              0.7777777777777778,
              "#fb9f3a"
             ],
             [
              0.8888888888888888,
              "#fdca26"
             ],
             [
              1,
              "#f0f921"
             ]
            ],
            "type": "heatmapgl"
           }
          ],
          "histogram": [
           {
            "marker": {
             "pattern": {
              "fillmode": "overlay",
              "size": 10,
              "solidity": 0.2
             }
            },
            "type": "histogram"
           }
          ],
          "histogram2d": [
           {
            "colorbar": {
             "outlinewidth": 0,
             "ticks": ""
            },
            "colorscale": [
             [
              0,
              "#0d0887"
             ],
             [
              0.1111111111111111,
              "#46039f"
             ],
             [
              0.2222222222222222,
              "#7201a8"
             ],
             [
              0.3333333333333333,
              "#9c179e"
             ],
             [
              0.4444444444444444,
              "#bd3786"
             ],
             [
              0.5555555555555556,
              "#d8576b"
             ],
             [
              0.6666666666666666,
              "#ed7953"
             ],
             [
              0.7777777777777778,
              "#fb9f3a"
             ],
             [
              0.8888888888888888,
              "#fdca26"
             ],
             [
              1,
              "#f0f921"
             ]
            ],
            "type": "histogram2d"
           }
          ],
          "histogram2dcontour": [
           {
            "colorbar": {
             "outlinewidth": 0,
             "ticks": ""
            },
            "colorscale": [
             [
              0,
              "#0d0887"
             ],
             [
              0.1111111111111111,
              "#46039f"
             ],
             [
              0.2222222222222222,
              "#7201a8"
             ],
             [
              0.3333333333333333,
              "#9c179e"
             ],
             [
              0.4444444444444444,
              "#bd3786"
             ],
             [
              0.5555555555555556,
              "#d8576b"
             ],
             [
              0.6666666666666666,
              "#ed7953"
             ],
             [
              0.7777777777777778,
              "#fb9f3a"
             ],
             [
              0.8888888888888888,
              "#fdca26"
             ],
             [
              1,
              "#f0f921"
             ]
            ],
            "type": "histogram2dcontour"
           }
          ],
          "mesh3d": [
           {
            "colorbar": {
             "outlinewidth": 0,
             "ticks": ""
            },
            "type": "mesh3d"
           }
          ],
          "parcoords": [
           {
            "line": {
             "colorbar": {
              "outlinewidth": 0,
              "ticks": ""
             }
            },
            "type": "parcoords"
           }
          ],
          "pie": [
           {
            "automargin": true,
            "type": "pie"
           }
          ],
          "scatter": [
           {
            "marker": {
             "colorbar": {
              "outlinewidth": 0,
              "ticks": ""
             }
            },
            "type": "scatter"
           }
          ],
          "scatter3d": [
           {
            "line": {
             "colorbar": {
              "outlinewidth": 0,
              "ticks": ""
             }
            },
            "marker": {
             "colorbar": {
              "outlinewidth": 0,
              "ticks": ""
             }
            },
            "type": "scatter3d"
           }
          ],
          "scattercarpet": [
           {
            "marker": {
             "colorbar": {
              "outlinewidth": 0,
              "ticks": ""
             }
            },
            "type": "scattercarpet"
           }
          ],
          "scattergeo": [
           {
            "marker": {
             "colorbar": {
              "outlinewidth": 0,
              "ticks": ""
             }
            },
            "type": "scattergeo"
           }
          ],
          "scattergl": [
           {
            "marker": {
             "colorbar": {
              "outlinewidth": 0,
              "ticks": ""
             }
            },
            "type": "scattergl"
           }
          ],
          "scattermapbox": [
           {
            "marker": {
             "colorbar": {
              "outlinewidth": 0,
              "ticks": ""
             }
            },
            "type": "scattermapbox"
           }
          ],
          "scatterpolar": [
           {
            "marker": {
             "colorbar": {
              "outlinewidth": 0,
              "ticks": ""
             }
            },
            "type": "scatterpolar"
           }
          ],
          "scatterpolargl": [
           {
            "marker": {
             "colorbar": {
              "outlinewidth": 0,
              "ticks": ""
             }
            },
            "type": "scatterpolargl"
           }
          ],
          "scatterternary": [
           {
            "marker": {
             "colorbar": {
              "outlinewidth": 0,
              "ticks": ""
             }
            },
            "type": "scatterternary"
           }
          ],
          "surface": [
           {
            "colorbar": {
             "outlinewidth": 0,
             "ticks": ""
            },
            "colorscale": [
             [
              0,
              "#0d0887"
             ],
             [
              0.1111111111111111,
              "#46039f"
             ],
             [
              0.2222222222222222,
              "#7201a8"
             ],
             [
              0.3333333333333333,
              "#9c179e"
             ],
             [
              0.4444444444444444,
              "#bd3786"
             ],
             [
              0.5555555555555556,
              "#d8576b"
             ],
             [
              0.6666666666666666,
              "#ed7953"
             ],
             [
              0.7777777777777778,
              "#fb9f3a"
             ],
             [
              0.8888888888888888,
              "#fdca26"
             ],
             [
              1,
              "#f0f921"
             ]
            ],
            "type": "surface"
           }
          ],
          "table": [
           {
            "cells": {
             "fill": {
              "color": "#EBF0F8"
             },
             "line": {
              "color": "white"
             }
            },
            "header": {
             "fill": {
              "color": "#C8D4E3"
             },
             "line": {
              "color": "white"
             }
            },
            "type": "table"
           }
          ]
         },
         "layout": {
          "annotationdefaults": {
           "arrowcolor": "#2a3f5f",
           "arrowhead": 0,
           "arrowwidth": 1
          },
          "autotypenumbers": "strict",
          "coloraxis": {
           "colorbar": {
            "outlinewidth": 0,
            "ticks": ""
           }
          },
          "colorscale": {
           "diverging": [
            [
             0,
             "#8e0152"
            ],
            [
             0.1,
             "#c51b7d"
            ],
            [
             0.2,
             "#de77ae"
            ],
            [
             0.3,
             "#f1b6da"
            ],
            [
             0.4,
             "#fde0ef"
            ],
            [
             0.5,
             "#f7f7f7"
            ],
            [
             0.6,
             "#e6f5d0"
            ],
            [
             0.7,
             "#b8e186"
            ],
            [
             0.8,
             "#7fbc41"
            ],
            [
             0.9,
             "#4d9221"
            ],
            [
             1,
             "#276419"
            ]
           ],
           "sequential": [
            [
             0,
             "#0d0887"
            ],
            [
             0.1111111111111111,
             "#46039f"
            ],
            [
             0.2222222222222222,
             "#7201a8"
            ],
            [
             0.3333333333333333,
             "#9c179e"
            ],
            [
             0.4444444444444444,
             "#bd3786"
            ],
            [
             0.5555555555555556,
             "#d8576b"
            ],
            [
             0.6666666666666666,
             "#ed7953"
            ],
            [
             0.7777777777777778,
             "#fb9f3a"
            ],
            [
             0.8888888888888888,
             "#fdca26"
            ],
            [
             1,
             "#f0f921"
            ]
           ],
           "sequentialminus": [
            [
             0,
             "#0d0887"
            ],
            [
             0.1111111111111111,
             "#46039f"
            ],
            [
             0.2222222222222222,
             "#7201a8"
            ],
            [
             0.3333333333333333,
             "#9c179e"
            ],
            [
             0.4444444444444444,
             "#bd3786"
            ],
            [
             0.5555555555555556,
             "#d8576b"
            ],
            [
             0.6666666666666666,
             "#ed7953"
            ],
            [
             0.7777777777777778,
             "#fb9f3a"
            ],
            [
             0.8888888888888888,
             "#fdca26"
            ],
            [
             1,
             "#f0f921"
            ]
           ]
          },
          "colorway": [
           "#636efa",
           "#EF553B",
           "#00cc96",
           "#ab63fa",
           "#FFA15A",
           "#19d3f3",
           "#FF6692",
           "#B6E880",
           "#FF97FF",
           "#FECB52"
          ],
          "font": {
           "color": "#2a3f5f"
          },
          "geo": {
           "bgcolor": "white",
           "lakecolor": "white",
           "landcolor": "#E5ECF6",
           "showlakes": true,
           "showland": true,
           "subunitcolor": "white"
          },
          "hoverlabel": {
           "align": "left"
          },
          "hovermode": "closest",
          "mapbox": {
           "style": "light"
          },
          "paper_bgcolor": "white",
          "plot_bgcolor": "#E5ECF6",
          "polar": {
           "angularaxis": {
            "gridcolor": "white",
            "linecolor": "white",
            "ticks": ""
           },
           "bgcolor": "#E5ECF6",
           "radialaxis": {
            "gridcolor": "white",
            "linecolor": "white",
            "ticks": ""
           }
          },
          "scene": {
           "xaxis": {
            "backgroundcolor": "#E5ECF6",
            "gridcolor": "white",
            "gridwidth": 2,
            "linecolor": "white",
            "showbackground": true,
            "ticks": "",
            "zerolinecolor": "white"
           },
           "yaxis": {
            "backgroundcolor": "#E5ECF6",
            "gridcolor": "white",
            "gridwidth": 2,
            "linecolor": "white",
            "showbackground": true,
            "ticks": "",
            "zerolinecolor": "white"
           },
           "zaxis": {
            "backgroundcolor": "#E5ECF6",
            "gridcolor": "white",
            "gridwidth": 2,
            "linecolor": "white",
            "showbackground": true,
            "ticks": "",
            "zerolinecolor": "white"
           }
          },
          "shapedefaults": {
           "line": {
            "color": "#2a3f5f"
           }
          },
          "ternary": {
           "aaxis": {
            "gridcolor": "white",
            "linecolor": "white",
            "ticks": ""
           },
           "baxis": {
            "gridcolor": "white",
            "linecolor": "white",
            "ticks": ""
           },
           "bgcolor": "#E5ECF6",
           "caxis": {
            "gridcolor": "white",
            "linecolor": "white",
            "ticks": ""
           }
          },
          "title": {
           "x": 0.05
          },
          "xaxis": {
           "automargin": true,
           "gridcolor": "white",
           "linecolor": "white",
           "ticks": "",
           "title": {
            "standoff": 15
           },
           "zerolinecolor": "white",
           "zerolinewidth": 2
          },
          "yaxis": {
           "automargin": true,
           "gridcolor": "white",
           "linecolor": "white",
           "ticks": "",
           "title": {
            "standoff": 15
           },
           "zerolinecolor": "white",
           "zerolinewidth": 2
          }
         }
        },
        "title": {
         "text": "10 municípios com melhores nível socioeconômico (média das escolas)"
        },
        "width": 700,
        "xaxis": {
         "anchor": "y",
         "domain": [
          0,
          1
         ],
         "title": {
          "text": "Município"
         }
        },
        "yaxis": {
         "anchor": "x",
         "domain": [
          0,
          1
         ],
         "title": {
          "text": "Nível socioeconômico médio das escolas"
         }
        }
       }
      },
      "text/html": [
       "<div>                            <div id=\"61bf3375-1a39-4d94-9cef-6df6bda0d43a\" class=\"plotly-graph-div\" style=\"height:500px; width:700px;\"></div>            <script type=\"text/javascript\">                require([\"plotly\"], function(Plotly) {                    window.PLOTLYENV=window.PLOTLYENV || {};                                    if (document.getElementById(\"61bf3375-1a39-4d94-9cef-6df6bda0d43a\")) {                    Plotly.newPlot(                        \"61bf3375-1a39-4d94-9cef-6df6bda0d43a\",                        [{\"alignmentgroup\":\"True\",\"hovertemplate\":\"Nome=%{x}<br>N\\u00edvel socioecon\\u00f4mico =%{y}<extra></extra>\",\"legendgroup\":\"\",\"marker\":{\"color\":\"#636efa\",\"pattern\":{\"shape\":\"\"}},\"name\":\"\",\"offsetgroup\":\"\",\"orientation\":\"v\",\"showlegend\":false,\"textposition\":\"auto\",\"x\":[\"\\u00c1guas de S\\u00e3o Pedro\",\"S\\u00e3o Caetano do Sul\",\"Monte Alegre do Sul\",\"Cerquilho\",\"Alum\\u00ednio\",\"Valinhos\",\"Holambra\",\"Jaguari\\u00fana\",\"Buritizal\",\"Lind\\u00f3ia\"],\"xaxis\":\"x\",\"y\":[1.66,1.9129999999999998,2.57,2.58,2.59,2.7457142857142856,2.83,2.85,2.92,3.04],\"yaxis\":\"y\",\"type\":\"bar\"}],                        {\"template\":{\"data\":{\"bar\":[{\"error_x\":{\"color\":\"#2a3f5f\"},\"error_y\":{\"color\":\"#2a3f5f\"},\"marker\":{\"line\":{\"color\":\"#E5ECF6\",\"width\":0.5},\"pattern\":{\"fillmode\":\"overlay\",\"size\":10,\"solidity\":0.2}},\"type\":\"bar\"}],\"barpolar\":[{\"marker\":{\"line\":{\"color\":\"#E5ECF6\",\"width\":0.5},\"pattern\":{\"fillmode\":\"overlay\",\"size\":10,\"solidity\":0.2}},\"type\":\"barpolar\"}],\"carpet\":[{\"aaxis\":{\"endlinecolor\":\"#2a3f5f\",\"gridcolor\":\"white\",\"linecolor\":\"white\",\"minorgridcolor\":\"white\",\"startlinecolor\":\"#2a3f5f\"},\"baxis\":{\"endlinecolor\":\"#2a3f5f\",\"gridcolor\":\"white\",\"linecolor\":\"white\",\"minorgridcolor\":\"white\",\"startlinecolor\":\"#2a3f5f\"},\"type\":\"carpet\"}],\"choropleth\":[{\"colorbar\":{\"outlinewidth\":0,\"ticks\":\"\"},\"type\":\"choropleth\"}],\"contour\":[{\"colorbar\":{\"outlinewidth\":0,\"ticks\":\"\"},\"colorscale\":[[0.0,\"#0d0887\"],[0.1111111111111111,\"#46039f\"],[0.2222222222222222,\"#7201a8\"],[0.3333333333333333,\"#9c179e\"],[0.4444444444444444,\"#bd3786\"],[0.5555555555555556,\"#d8576b\"],[0.6666666666666666,\"#ed7953\"],[0.7777777777777778,\"#fb9f3a\"],[0.8888888888888888,\"#fdca26\"],[1.0,\"#f0f921\"]],\"type\":\"contour\"}],\"contourcarpet\":[{\"colorbar\":{\"outlinewidth\":0,\"ticks\":\"\"},\"type\":\"contourcarpet\"}],\"heatmap\":[{\"colorbar\":{\"outlinewidth\":0,\"ticks\":\"\"},\"colorscale\":[[0.0,\"#0d0887\"],[0.1111111111111111,\"#46039f\"],[0.2222222222222222,\"#7201a8\"],[0.3333333333333333,\"#9c179e\"],[0.4444444444444444,\"#bd3786\"],[0.5555555555555556,\"#d8576b\"],[0.6666666666666666,\"#ed7953\"],[0.7777777777777778,\"#fb9f3a\"],[0.8888888888888888,\"#fdca26\"],[1.0,\"#f0f921\"]],\"type\":\"heatmap\"}],\"heatmapgl\":[{\"colorbar\":{\"outlinewidth\":0,\"ticks\":\"\"},\"colorscale\":[[0.0,\"#0d0887\"],[0.1111111111111111,\"#46039f\"],[0.2222222222222222,\"#7201a8\"],[0.3333333333333333,\"#9c179e\"],[0.4444444444444444,\"#bd3786\"],[0.5555555555555556,\"#d8576b\"],[0.6666666666666666,\"#ed7953\"],[0.7777777777777778,\"#fb9f3a\"],[0.8888888888888888,\"#fdca26\"],[1.0,\"#f0f921\"]],\"type\":\"heatmapgl\"}],\"histogram\":[{\"marker\":{\"pattern\":{\"fillmode\":\"overlay\",\"size\":10,\"solidity\":0.2}},\"type\":\"histogram\"}],\"histogram2d\":[{\"colorbar\":{\"outlinewidth\":0,\"ticks\":\"\"},\"colorscale\":[[0.0,\"#0d0887\"],[0.1111111111111111,\"#46039f\"],[0.2222222222222222,\"#7201a8\"],[0.3333333333333333,\"#9c179e\"],[0.4444444444444444,\"#bd3786\"],[0.5555555555555556,\"#d8576b\"],[0.6666666666666666,\"#ed7953\"],[0.7777777777777778,\"#fb9f3a\"],[0.8888888888888888,\"#fdca26\"],[1.0,\"#f0f921\"]],\"type\":\"histogram2d\"}],\"histogram2dcontour\":[{\"colorbar\":{\"outlinewidth\":0,\"ticks\":\"\"},\"colorscale\":[[0.0,\"#0d0887\"],[0.1111111111111111,\"#46039f\"],[0.2222222222222222,\"#7201a8\"],[0.3333333333333333,\"#9c179e\"],[0.4444444444444444,\"#bd3786\"],[0.5555555555555556,\"#d8576b\"],[0.6666666666666666,\"#ed7953\"],[0.7777777777777778,\"#fb9f3a\"],[0.8888888888888888,\"#fdca26\"],[1.0,\"#f0f921\"]],\"type\":\"histogram2dcontour\"}],\"mesh3d\":[{\"colorbar\":{\"outlinewidth\":0,\"ticks\":\"\"},\"type\":\"mesh3d\"}],\"parcoords\":[{\"line\":{\"colorbar\":{\"outlinewidth\":0,\"ticks\":\"\"}},\"type\":\"parcoords\"}],\"pie\":[{\"automargin\":true,\"type\":\"pie\"}],\"scatter\":[{\"marker\":{\"colorbar\":{\"outlinewidth\":0,\"ticks\":\"\"}},\"type\":\"scatter\"}],\"scatter3d\":[{\"line\":{\"colorbar\":{\"outlinewidth\":0,\"ticks\":\"\"}},\"marker\":{\"colorbar\":{\"outlinewidth\":0,\"ticks\":\"\"}},\"type\":\"scatter3d\"}],\"scattercarpet\":[{\"marker\":{\"colorbar\":{\"outlinewidth\":0,\"ticks\":\"\"}},\"type\":\"scattercarpet\"}],\"scattergeo\":[{\"marker\":{\"colorbar\":{\"outlinewidth\":0,\"ticks\":\"\"}},\"type\":\"scattergeo\"}],\"scattergl\":[{\"marker\":{\"colorbar\":{\"outlinewidth\":0,\"ticks\":\"\"}},\"type\":\"scattergl\"}],\"scattermapbox\":[{\"marker\":{\"colorbar\":{\"outlinewidth\":0,\"ticks\":\"\"}},\"type\":\"scattermapbox\"}],\"scatterpolar\":[{\"marker\":{\"colorbar\":{\"outlinewidth\":0,\"ticks\":\"\"}},\"type\":\"scatterpolar\"}],\"scatterpolargl\":[{\"marker\":{\"colorbar\":{\"outlinewidth\":0,\"ticks\":\"\"}},\"type\":\"scatterpolargl\"}],\"scatterternary\":[{\"marker\":{\"colorbar\":{\"outlinewidth\":0,\"ticks\":\"\"}},\"type\":\"scatterternary\"}],\"surface\":[{\"colorbar\":{\"outlinewidth\":0,\"ticks\":\"\"},\"colorscale\":[[0.0,\"#0d0887\"],[0.1111111111111111,\"#46039f\"],[0.2222222222222222,\"#7201a8\"],[0.3333333333333333,\"#9c179e\"],[0.4444444444444444,\"#bd3786\"],[0.5555555555555556,\"#d8576b\"],[0.6666666666666666,\"#ed7953\"],[0.7777777777777778,\"#fb9f3a\"],[0.8888888888888888,\"#fdca26\"],[1.0,\"#f0f921\"]],\"type\":\"surface\"}],\"table\":[{\"cells\":{\"fill\":{\"color\":\"#EBF0F8\"},\"line\":{\"color\":\"white\"}},\"header\":{\"fill\":{\"color\":\"#C8D4E3\"},\"line\":{\"color\":\"white\"}},\"type\":\"table\"}]},\"layout\":{\"annotationdefaults\":{\"arrowcolor\":\"#2a3f5f\",\"arrowhead\":0,\"arrowwidth\":1},\"autotypenumbers\":\"strict\",\"coloraxis\":{\"colorbar\":{\"outlinewidth\":0,\"ticks\":\"\"}},\"colorscale\":{\"diverging\":[[0,\"#8e0152\"],[0.1,\"#c51b7d\"],[0.2,\"#de77ae\"],[0.3,\"#f1b6da\"],[0.4,\"#fde0ef\"],[0.5,\"#f7f7f7\"],[0.6,\"#e6f5d0\"],[0.7,\"#b8e186\"],[0.8,\"#7fbc41\"],[0.9,\"#4d9221\"],[1,\"#276419\"]],\"sequential\":[[0.0,\"#0d0887\"],[0.1111111111111111,\"#46039f\"],[0.2222222222222222,\"#7201a8\"],[0.3333333333333333,\"#9c179e\"],[0.4444444444444444,\"#bd3786\"],[0.5555555555555556,\"#d8576b\"],[0.6666666666666666,\"#ed7953\"],[0.7777777777777778,\"#fb9f3a\"],[0.8888888888888888,\"#fdca26\"],[1.0,\"#f0f921\"]],\"sequentialminus\":[[0.0,\"#0d0887\"],[0.1111111111111111,\"#46039f\"],[0.2222222222222222,\"#7201a8\"],[0.3333333333333333,\"#9c179e\"],[0.4444444444444444,\"#bd3786\"],[0.5555555555555556,\"#d8576b\"],[0.6666666666666666,\"#ed7953\"],[0.7777777777777778,\"#fb9f3a\"],[0.8888888888888888,\"#fdca26\"],[1.0,\"#f0f921\"]]},\"colorway\":[\"#636efa\",\"#EF553B\",\"#00cc96\",\"#ab63fa\",\"#FFA15A\",\"#19d3f3\",\"#FF6692\",\"#B6E880\",\"#FF97FF\",\"#FECB52\"],\"font\":{\"color\":\"#2a3f5f\"},\"geo\":{\"bgcolor\":\"white\",\"lakecolor\":\"white\",\"landcolor\":\"#E5ECF6\",\"showlakes\":true,\"showland\":true,\"subunitcolor\":\"white\"},\"hoverlabel\":{\"align\":\"left\"},\"hovermode\":\"closest\",\"mapbox\":{\"style\":\"light\"},\"paper_bgcolor\":\"white\",\"plot_bgcolor\":\"#E5ECF6\",\"polar\":{\"angularaxis\":{\"gridcolor\":\"white\",\"linecolor\":\"white\",\"ticks\":\"\"},\"bgcolor\":\"#E5ECF6\",\"radialaxis\":{\"gridcolor\":\"white\",\"linecolor\":\"white\",\"ticks\":\"\"}},\"scene\":{\"xaxis\":{\"backgroundcolor\":\"#E5ECF6\",\"gridcolor\":\"white\",\"gridwidth\":2,\"linecolor\":\"white\",\"showbackground\":true,\"ticks\":\"\",\"zerolinecolor\":\"white\"},\"yaxis\":{\"backgroundcolor\":\"#E5ECF6\",\"gridcolor\":\"white\",\"gridwidth\":2,\"linecolor\":\"white\",\"showbackground\":true,\"ticks\":\"\",\"zerolinecolor\":\"white\"},\"zaxis\":{\"backgroundcolor\":\"#E5ECF6\",\"gridcolor\":\"white\",\"gridwidth\":2,\"linecolor\":\"white\",\"showbackground\":true,\"ticks\":\"\",\"zerolinecolor\":\"white\"}},\"shapedefaults\":{\"line\":{\"color\":\"#2a3f5f\"}},\"ternary\":{\"aaxis\":{\"gridcolor\":\"white\",\"linecolor\":\"white\",\"ticks\":\"\"},\"baxis\":{\"gridcolor\":\"white\",\"linecolor\":\"white\",\"ticks\":\"\"},\"bgcolor\":\"#E5ECF6\",\"caxis\":{\"gridcolor\":\"white\",\"linecolor\":\"white\",\"ticks\":\"\"}},\"title\":{\"x\":0.05},\"xaxis\":{\"automargin\":true,\"gridcolor\":\"white\",\"linecolor\":\"white\",\"ticks\":\"\",\"title\":{\"standoff\":15},\"zerolinecolor\":\"white\",\"zerolinewidth\":2},\"yaxis\":{\"automargin\":true,\"gridcolor\":\"white\",\"linecolor\":\"white\",\"ticks\":\"\",\"title\":{\"standoff\":15},\"zerolinecolor\":\"white\",\"zerolinewidth\":2}}},\"xaxis\":{\"anchor\":\"y\",\"domain\":[0.0,1.0],\"title\":{\"text\":\"Munic\\u00edpio\"}},\"yaxis\":{\"anchor\":\"x\",\"domain\":[0.0,1.0],\"title\":{\"text\":\"N\\u00edvel socioecon\\u00f4mico m\\u00e9dio das escolas\"}},\"legend\":{\"tracegroupgap\":0},\"margin\":{\"t\":60},\"barmode\":\"stack\",\"height\":500,\"width\":700,\"title\":{\"text\":\"10 munic\\u00edpios com melhores n\\u00edvel socioecon\\u00f4mico (m\\u00e9dia das escolas)\"}},                        {\"responsive\": true}                    ).then(function(){\n",
       "                            \n",
       "var gd = document.getElementById('61bf3375-1a39-4d94-9cef-6df6bda0d43a');\n",
       "var x = new MutationObserver(function (mutations, observer) {{\n",
       "        var display = window.getComputedStyle(gd).display;\n",
       "        if (!display || display === 'none') {{\n",
       "            console.log([gd, 'removed!']);\n",
       "            Plotly.purge(gd);\n",
       "            observer.disconnect();\n",
       "        }}\n",
       "}});\n",
       "\n",
       "// Listen for the removal of the full notebook cells\n",
       "var notebookContainer = gd.closest('#notebook-container');\n",
       "if (notebookContainer) {{\n",
       "    x.observe(notebookContainer, {childList: true});\n",
       "}}\n",
       "\n",
       "// Listen for the clearing of the current output cell\n",
       "var outputEl = gd.closest('.output');\n",
       "if (outputEl) {{\n",
       "    x.observe(outputEl, {childList: true});\n",
       "}}\n",
       "\n",
       "                        })                };                });            </script>        </div>"
      ]
     },
     "metadata": {},
     "output_type": "display_data"
    }
   ],
   "source": [
    "fig = px.bar(df2,\n",
    "             x='name', y=\"nivel_socio_economico\", height=500, width=700,\n",
    "             barmode='stack', labels={\"name\": \"Nome\", 'nivel_socio_economico':\"Nível socioeconômico \"})\n",
    "fig.update_layout(title = '10 municípios com melhores nível socioeconômico (média das escolas)')\n",
    "fig.update_xaxes(title = 'Município')\n",
    "fig.update_yaxes(title = 'Nível socioeconômico médio das escolas')\n",
    "fig.show()"
   ]
  },
  {
   "cell_type": "markdown",
   "id": "e541e2ea",
   "metadata": {},
   "source": [
    "##  Índice de Desenvolvimento da Educação do Estado de São Paulo"
   ]
  },
  {
   "cell_type": "markdown",
   "id": "741dfb3f",
   "metadata": {},
   "source": [
    "A tabela usada, nesse caso, contém dados da nota do Índice de Desenvolvimento da Educação do Estado de São Paulo (IDESP) para cada escola da rede estadual do estado de São Paulo, estabelecendo metas que as escolas devem alcançar ano a ano e seus resultados. Disponibilizada pela Secretaria de Educação do Estado de São Paulo, a tabela identifica cada escola através de códigos nacionais e estaduais e disponibiliza variáveis que demonstram para aquela dada escola, seu aproveitamento no IDESP. O IDESP é um indicador que avalia a qualidade da escola, sendo composto por dois critérios: o desempenho dos alunos nos exames de proficiência do SARESP (o quanto aprenderam) e o fluxo escolar (em quanto tempo aprenderam).Assim, nesta avaliação, considera–se que uma boa escola é aquela em que a maior parte dos alunos aprende as competências e habilidades requeridas para a sua série/ano, num período de tempo ideal – o ano letivo. "
   ]
  },
  {
   "cell_type": "markdown",
   "id": "9a8cbd27",
   "metadata": {},
   "source": [
    "Para a realização das análises, novamente realizou-se uma limpeza nos dados e selecionou-se o ano de 2018."
   ]
  },
  {
   "cell_type": "code",
   "execution_count": 26,
   "id": "1817c95d",
   "metadata": {},
   "outputs": [
    {
     "data": {
      "text/html": [
       "<div>\n",
       "<style scoped>\n",
       "    .dataframe tbody tr th:only-of-type {\n",
       "        vertical-align: middle;\n",
       "    }\n",
       "\n",
       "    .dataframe tbody tr th {\n",
       "        vertical-align: top;\n",
       "    }\n",
       "\n",
       "    .dataframe thead th {\n",
       "        text-align: right;\n",
       "    }\n",
       "</style>\n",
       "<table border=\"1\" class=\"dataframe\">\n",
       "  <thead>\n",
       "    <tr style=\"text-align: right;\">\n",
       "      <th></th>\n",
       "      <th>id</th>\n",
       "      <th>name</th>\n",
       "      <th>geometry</th>\n",
       "      <th>nota_idesp_ef_iniciais</th>\n",
       "      <th>nota_idesp_ef_finais</th>\n",
       "      <th>nota_idesp_em</th>\n",
       "    </tr>\n",
       "  </thead>\n",
       "  <tbody>\n",
       "    <tr>\n",
       "      <th>0</th>\n",
       "      <td>3500105</td>\n",
       "      <td>Adamantina</td>\n",
       "      <td>POLYGON ((-51.05787 -21.39888, -51.05365 -21.4...</td>\n",
       "      <td>0.00</td>\n",
       "      <td>3.423333</td>\n",
       "      <td>2.250000</td>\n",
       "    </tr>\n",
       "    <tr>\n",
       "      <th>1</th>\n",
       "      <td>3500204</td>\n",
       "      <td>Adolfo</td>\n",
       "      <td>POLYGON ((-49.65478 -21.20607, -49.63847 -21.2...</td>\n",
       "      <td>0.00</td>\n",
       "      <td>0.000000</td>\n",
       "      <td>3.170000</td>\n",
       "    </tr>\n",
       "    <tr>\n",
       "      <th>2</th>\n",
       "      <td>3500303</td>\n",
       "      <td>Aguaí</td>\n",
       "      <td>POLYGON ((-47.20890 -21.97129, -47.20297 -21.9...</td>\n",
       "      <td>6.70</td>\n",
       "      <td>2.943333</td>\n",
       "      <td>2.436667</td>\n",
       "    </tr>\n",
       "    <tr>\n",
       "      <th>3</th>\n",
       "      <td>3500402</td>\n",
       "      <td>Águas da Prata</td>\n",
       "      <td>POLYGON ((-46.70755 -21.82895, -46.70380 -21.8...</td>\n",
       "      <td>0.00</td>\n",
       "      <td>4.250000</td>\n",
       "      <td>3.110000</td>\n",
       "    </tr>\n",
       "    <tr>\n",
       "      <th>4</th>\n",
       "      <td>3500501</td>\n",
       "      <td>Águas de Lindóia</td>\n",
       "      <td>POLYGON ((-46.61147 -22.43496, -46.60302 -22.4...</td>\n",
       "      <td>6.97</td>\n",
       "      <td>3.650000</td>\n",
       "      <td>3.630000</td>\n",
       "    </tr>\n",
       "    <tr>\n",
       "      <th>...</th>\n",
       "      <td>...</td>\n",
       "      <td>...</td>\n",
       "      <td>...</td>\n",
       "      <td>...</td>\n",
       "      <td>...</td>\n",
       "      <td>...</td>\n",
       "    </tr>\n",
       "    <tr>\n",
       "      <th>640</th>\n",
       "      <td>3557006</td>\n",
       "      <td>Votorantim</td>\n",
       "      <td>POLYGON ((-47.37268 -23.51783, -47.37047 -23.5...</td>\n",
       "      <td>0.00</td>\n",
       "      <td>3.728462</td>\n",
       "      <td>2.754615</td>\n",
       "    </tr>\n",
       "    <tr>\n",
       "      <th>641</th>\n",
       "      <td>3557105</td>\n",
       "      <td>Votuporanga</td>\n",
       "      <td>POLYGON ((-50.02073 -20.33347, -50.01275 -20.3...</td>\n",
       "      <td>0.00</td>\n",
       "      <td>3.665556</td>\n",
       "      <td>2.413750</td>\n",
       "    </tr>\n",
       "    <tr>\n",
       "      <th>642</th>\n",
       "      <td>3557154</td>\n",
       "      <td>Zacarias</td>\n",
       "      <td>POLYGON ((-49.99521 -21.03253, -49.98434 -21.0...</td>\n",
       "      <td>0.00</td>\n",
       "      <td>2.800000</td>\n",
       "      <td>2.650000</td>\n",
       "    </tr>\n",
       "    <tr>\n",
       "      <th>643</th>\n",
       "      <td>3557204</td>\n",
       "      <td>Chavantes</td>\n",
       "      <td>POLYGON ((-49.68539 -22.94866, -49.68396 -22.9...</td>\n",
       "      <td>0.00</td>\n",
       "      <td>2.620000</td>\n",
       "      <td>2.560000</td>\n",
       "    </tr>\n",
       "    <tr>\n",
       "      <th>644</th>\n",
       "      <td>3557303</td>\n",
       "      <td>Estiva Gerbi</td>\n",
       "      <td>POLYGON ((-46.91399 -22.19933, -46.91221 -22.2...</td>\n",
       "      <td>0.00</td>\n",
       "      <td>0.000000</td>\n",
       "      <td>3.560000</td>\n",
       "    </tr>\n",
       "  </tbody>\n",
       "</table>\n",
       "<p>645 rows × 6 columns</p>\n",
       "</div>"
      ],
      "text/plain": [
       "          id              name  \\\n",
       "0    3500105        Adamantina   \n",
       "1    3500204            Adolfo   \n",
       "2    3500303             Aguaí   \n",
       "3    3500402    Águas da Prata   \n",
       "4    3500501  Águas de Lindóia   \n",
       "..       ...               ...   \n",
       "640  3557006        Votorantim   \n",
       "641  3557105       Votuporanga   \n",
       "642  3557154          Zacarias   \n",
       "643  3557204         Chavantes   \n",
       "644  3557303      Estiva Gerbi   \n",
       "\n",
       "                                              geometry  \\\n",
       "0    POLYGON ((-51.05787 -21.39888, -51.05365 -21.4...   \n",
       "1    POLYGON ((-49.65478 -21.20607, -49.63847 -21.2...   \n",
       "2    POLYGON ((-47.20890 -21.97129, -47.20297 -21.9...   \n",
       "3    POLYGON ((-46.70755 -21.82895, -46.70380 -21.8...   \n",
       "4    POLYGON ((-46.61147 -22.43496, -46.60302 -22.4...   \n",
       "..                                                 ...   \n",
       "640  POLYGON ((-47.37268 -23.51783, -47.37047 -23.5...   \n",
       "641  POLYGON ((-50.02073 -20.33347, -50.01275 -20.3...   \n",
       "642  POLYGON ((-49.99521 -21.03253, -49.98434 -21.0...   \n",
       "643  POLYGON ((-49.68539 -22.94866, -49.68396 -22.9...   \n",
       "644  POLYGON ((-46.91399 -22.19933, -46.91221 -22.2...   \n",
       "\n",
       "     nota_idesp_ef_iniciais  nota_idesp_ef_finais  nota_idesp_em  \n",
       "0                      0.00              3.423333       2.250000  \n",
       "1                      0.00              0.000000       3.170000  \n",
       "2                      6.70              2.943333       2.436667  \n",
       "3                      0.00              4.250000       3.110000  \n",
       "4                      6.97              3.650000       3.630000  \n",
       "..                      ...                   ...            ...  \n",
       "640                    0.00              3.728462       2.754615  \n",
       "641                    0.00              3.665556       2.413750  \n",
       "642                    0.00              2.800000       2.650000  \n",
       "643                    0.00              2.620000       2.560000  \n",
       "644                    0.00              0.000000       3.560000  \n",
       "\n",
       "[645 rows x 6 columns]"
      ]
     },
     "execution_count": 26,
     "metadata": {},
     "output_type": "execute_result"
    }
   ],
   "source": [
    "sp_idesp = gpd.read_file('.//bases_de_dados//escola_IDESP.csv')\n",
    "sp_idesp = sp_idesp[[\"ano\",'id_municipio','nota_idesp_ef_iniciais', \"nota_idesp_ef_finais\", \"nota_idesp_em\"]]\n",
    "sp_idesp['nota_idesp_ef_iniciais'] = pd.to_numeric(sp_idesp[\"nota_idesp_ef_iniciais\"])\n",
    "sp_idesp['nota_idesp_ef_finais'] = pd.to_numeric(sp_idesp[\"nota_idesp_ef_finais\"])\n",
    "sp_idesp['nota_idesp_em'] = pd.to_numeric(sp_idesp[\"nota_idesp_em\"])\n",
    "\n",
    "sp_idesp.rename(columns={\"id_municipio\": \"id\"}, inplace = 1)\n",
    "\n",
    "sp_idesp_2018_na = sp_idesp[sp_idesp[\"ano\"] == \"2018\"]\n",
    "\n",
    "sp_idesp_2018_na=sp_idesp_2018_na.groupby(\"id\").mean()\n",
    "\n",
    "sp_idesp_2018 = mapassp.join(sp_idesp_2018_na, on=\"id\", how=\"left\")\n",
    "\n",
    "sp_idesp_2018.fillna(0, inplace = True)\n",
    "\n",
    "sp_idesp_2018"
   ]
  },
  {
   "cell_type": "markdown",
   "id": "d6529f1b",
   "metadata": {},
   "source": [
    "No mapas a seguir, pode-se visualizar, inicialmente, que as escolas estaduais no estado de São Paulo, em geral, abordam o Ensino Médio, já as séries iniciais possuem muitos valores vazios por município, ou seja, não possuem avaliação do IDESP pois, provavelmente, são escolas municipais que fornecem esse nível de educação.\n",
    "\n",
    "Ainda, até 2030, a meta é que as escolas alcancem índice 7 para o ciclo que vai do 1° ao 5° ano, índice 6 para o ciclo que vai do 6° ao 9° ano e índice 5 para o Ensino Médio. Pelas plotagens, a séries iniciais parecem estar mais próximas do objetivo, mesmo que tenham que alcançar notas mais altas."
   ]
  },
  {
   "cell_type": "code",
   "execution_count": 27,
   "id": "20f43a97",
   "metadata": {},
   "outputs": [
    {
     "data": {
      "image/png": "[encoded data removed]",
      "text/plain": [
       "<Figure size 720x864 with 6 Axes>"
      ]
     },
     "metadata": {
      "needs_background": "light"
     },
     "output_type": "display_data"
    }
   ],
   "source": [
    "fig, axs = plt.subplots(3, figsize=(10, 12))\n",
    "\n",
    "sp_idesp_2018.plot(ax=axs[0], column='nota_idesp_em', cmap='Oranges', legend=True, legend_kwds={'label': \"Nota média IDESP\", 'shrink': 0.5})\n",
    "axs[0].set_title('Notas do IDESP no Ensino Médio (média das escolas) por município')\n",
    "\n",
    "sp_idesp_2018.plot(ax=axs[1], column='nota_idesp_ef_finais', cmap='Oranges', legend=True, legend_kwds={'label': \"Nota média IDESP\", 'shrink': 0.5})\n",
    "axs[1].set_title('Notas do IDESP no Ensino Fundamental - série finais - (média das escolas) por município')\n",
    "\n",
    "sp_idesp_2018.plot(ax=axs[2], column='nota_idesp_ef_iniciais', cmap='Oranges', legend=True, legend_kwds={'label': \"Nota média IDESP\", 'shrink': 0.5})\n",
    "axs[2].set_title('Notas do IDESP no Ensino Fundamental - série iniciais - (média das escolas) por município')\n",
    "\n",
    "plt.tight_layout();"
   ]
  },
  {
   "cell_type": "code",
   "execution_count": 28,
   "id": "aa811570",
   "metadata": {},
   "outputs": [
    {
     "name": "stdout",
     "output_type": "stream",
     "text": [
      "Média IDESP para as séries iniciais: 5.816202782521359\n",
      "Média IDESP para as séries finais: 3.508004797976173\n",
      "Média IDESP para o Ensino Médio: 2.781134240115724\n"
     ]
    }
   ],
   "source": [
    "media_efi=sp_idesp_2018_na['nota_idesp_ef_iniciais'].dropna().mean()\n",
    "media_eff=sp_idesp_2018_na['nota_idesp_ef_finais'].dropna().mean()\n",
    "media_em=sp_idesp_2018_na['nota_idesp_em'].dropna().mean()\n",
    "\n",
    "print (\"Média IDESP para as séries iniciais:\",media_efi)\n",
    "print (\"Média IDESP para as séries finais:\",media_eff)\n",
    "print (\"Média IDESP para o Ensino Médio:\",media_em)"
   ]
  },
  {
   "cell_type": "markdown",
   "id": "9256c4c7",
   "metadata": {},
   "source": [
    "Com as médias calculadas, observa-se que, realmente,  as séries iniciais, pela média, estão mais próximas de alcançar o objetivo. Contudo, existem munícipios que já alcançaram-no, como verificado pelas tabelas abaixo."
   ]
  },
  {
   "cell_type": "code",
   "execution_count": 29,
   "id": "4ed6ff81",
   "metadata": {},
   "outputs": [
    {
     "name": "stdout",
     "output_type": "stream",
     "text": [
      "Munícipio que já atingiram a meta para séries iniciais (analisando a média):\n"
     ]
    },
    {
     "data": {
      "text/html": [
       "<div>\n",
       "<style scoped>\n",
       "    .dataframe tbody tr th:only-of-type {\n",
       "        vertical-align: middle;\n",
       "    }\n",
       "\n",
       "    .dataframe tbody tr th {\n",
       "        vertical-align: top;\n",
       "    }\n",
       "\n",
       "    .dataframe thead th {\n",
       "        text-align: right;\n",
       "    }\n",
       "</style>\n",
       "<table border=\"1\" class=\"dataframe\">\n",
       "  <thead>\n",
       "    <tr style=\"text-align: right;\">\n",
       "      <th></th>\n",
       "      <th>name</th>\n",
       "      <th>nota_idesp_ef_iniciais</th>\n",
       "    </tr>\n",
       "  </thead>\n",
       "  <tbody>\n",
       "    <tr>\n",
       "      <th>496</th>\n",
       "      <td>Rosana</td>\n",
       "      <td>8.035</td>\n",
       "    </tr>\n",
       "    <tr>\n",
       "      <th>191</th>\n",
       "      <td>Gastão Vidigal</td>\n",
       "      <td>7.800</td>\n",
       "    </tr>\n",
       "    <tr>\n",
       "      <th>420</th>\n",
       "      <td>Penápolis</td>\n",
       "      <td>7.640</td>\n",
       "    </tr>\n",
       "    <tr>\n",
       "      <th>527</th>\n",
       "      <td>Santana da Ponte Pensa</td>\n",
       "      <td>7.560</td>\n",
       "    </tr>\n",
       "    <tr>\n",
       "      <th>260</th>\n",
       "      <td>Itápolis</td>\n",
       "      <td>7.430</td>\n",
       "    </tr>\n",
       "    <tr>\n",
       "      <th>339</th>\n",
       "      <td>Mirante do Paranapanema</td>\n",
       "      <td>7.170</td>\n",
       "    </tr>\n",
       "    <tr>\n",
       "      <th>177</th>\n",
       "      <td>Fernandópolis</td>\n",
       "      <td>7.090</td>\n",
       "    </tr>\n",
       "    <tr>\n",
       "      <th>219</th>\n",
       "      <td>Iacri</td>\n",
       "      <td>7.030</td>\n",
       "    </tr>\n",
       "    <tr>\n",
       "      <th>253</th>\n",
       "      <td>Itaóca</td>\n",
       "      <td>7.010</td>\n",
       "    </tr>\n",
       "  </tbody>\n",
       "</table>\n",
       "</div>"
      ],
      "text/plain": [
       "                        name  nota_idesp_ef_iniciais\n",
       "496                   Rosana                   8.035\n",
       "191           Gastão Vidigal                   7.800\n",
       "420                Penápolis                   7.640\n",
       "527   Santana da Ponte Pensa                   7.560\n",
       "260                 Itápolis                   7.430\n",
       "339  Mirante do Paranapanema                   7.170\n",
       "177            Fernandópolis                   7.090\n",
       "219                    Iacri                   7.030\n",
       "253                   Itaóca                   7.010"
      ]
     },
     "execution_count": 29,
     "metadata": {},
     "output_type": "execute_result"
    }
   ],
   "source": [
    "obj_efi=sp_idesp_2018[sp_idesp_2018[\"nota_idesp_ef_iniciais\"] >= 7]\n",
    "print(\"Munícipio que já atingiram a meta para séries iniciais (analisando a média):\")\n",
    "obj_efi[['name', \"nota_idesp_ef_iniciais\"]].sort_values('nota_idesp_ef_iniciais', ascending=False)"
   ]
  },
  {
   "cell_type": "code",
   "execution_count": 30,
   "id": "f1659751",
   "metadata": {},
   "outputs": [
    {
     "name": "stdout",
     "output_type": "stream",
     "text": [
      "Munícipio que já atingiram a meta para séries finais (analisando a média):\n"
     ]
    },
    {
     "data": {
      "text/html": [
       "<div>\n",
       "<style scoped>\n",
       "    .dataframe tbody tr th:only-of-type {\n",
       "        vertical-align: middle;\n",
       "    }\n",
       "\n",
       "    .dataframe tbody tr th {\n",
       "        vertical-align: top;\n",
       "    }\n",
       "\n",
       "    .dataframe thead th {\n",
       "        text-align: right;\n",
       "    }\n",
       "</style>\n",
       "<table border=\"1\" class=\"dataframe\">\n",
       "  <thead>\n",
       "    <tr style=\"text-align: right;\">\n",
       "      <th></th>\n",
       "      <th>name</th>\n",
       "      <th>nota_idesp_ef_finais</th>\n",
       "    </tr>\n",
       "  </thead>\n",
       "  <tbody>\n",
       "    <tr>\n",
       "      <th>511</th>\n",
       "      <td>Santa Adélia</td>\n",
       "      <td>6.72</td>\n",
       "    </tr>\n",
       "    <tr>\n",
       "      <th>316</th>\n",
       "      <td>Macaubal</td>\n",
       "      <td>6.59</td>\n",
       "    </tr>\n",
       "    <tr>\n",
       "      <th>527</th>\n",
       "      <td>Santana da Ponte Pensa</td>\n",
       "      <td>6.53</td>\n",
       "    </tr>\n",
       "    <tr>\n",
       "      <th>638</th>\n",
       "      <td>Vista Alegre do Alto</td>\n",
       "      <td>6.51</td>\n",
       "    </tr>\n",
       "    <tr>\n",
       "      <th>435</th>\n",
       "      <td>Pirajuí</td>\n",
       "      <td>6.00</td>\n",
       "    </tr>\n",
       "  </tbody>\n",
       "</table>\n",
       "</div>"
      ],
      "text/plain": [
       "                       name  nota_idesp_ef_finais\n",
       "511            Santa Adélia                  6.72\n",
       "316                Macaubal                  6.59\n",
       "527  Santana da Ponte Pensa                  6.53\n",
       "638    Vista Alegre do Alto                  6.51\n",
       "435                 Pirajuí                  6.00"
      ]
     },
     "execution_count": 30,
     "metadata": {},
     "output_type": "execute_result"
    }
   ],
   "source": [
    "obj_efi=sp_idesp_2018[sp_idesp_2018[\"nota_idesp_ef_finais\"] >= 6]\n",
    "print(\"Munícipio que já atingiram a meta para séries finais (analisando a média):\")\n",
    "obj_efi[['name', \"nota_idesp_ef_finais\"]].sort_values('nota_idesp_ef_finais', ascending=False)"
   ]
  },
  {
   "cell_type": "code",
   "execution_count": 31,
   "id": "4ef85ec8",
   "metadata": {},
   "outputs": [
    {
     "name": "stdout",
     "output_type": "stream",
     "text": [
      "Munícipio que já atingiram a meta para o Ensino Médio (analisando a média):\n"
     ]
    },
    {
     "data": {
      "text/html": [
       "<div>\n",
       "<style scoped>\n",
       "    .dataframe tbody tr th:only-of-type {\n",
       "        vertical-align: middle;\n",
       "    }\n",
       "\n",
       "    .dataframe tbody tr th {\n",
       "        vertical-align: top;\n",
       "    }\n",
       "\n",
       "    .dataframe thead th {\n",
       "        text-align: right;\n",
       "    }\n",
       "</style>\n",
       "<table border=\"1\" class=\"dataframe\">\n",
       "  <thead>\n",
       "    <tr style=\"text-align: right;\">\n",
       "      <th></th>\n",
       "      <th>name</th>\n",
       "      <th>nota_idesp_em</th>\n",
       "    </tr>\n",
       "  </thead>\n",
       "  <tbody>\n",
       "    <tr>\n",
       "      <th>511</th>\n",
       "      <td>Santa Adélia</td>\n",
       "      <td>6.00</td>\n",
       "    </tr>\n",
       "    <tr>\n",
       "      <th>316</th>\n",
       "      <td>Macaubal</td>\n",
       "      <td>5.46</td>\n",
       "    </tr>\n",
       "    <tr>\n",
       "      <th>572</th>\n",
       "      <td>Sebastianópolis do Sul</td>\n",
       "      <td>5.42</td>\n",
       "    </tr>\n",
       "    <tr>\n",
       "      <th>188</th>\n",
       "      <td>Gabriel Monteiro</td>\n",
       "      <td>5.00</td>\n",
       "    </tr>\n",
       "  </tbody>\n",
       "</table>\n",
       "</div>"
      ],
      "text/plain": [
       "                       name  nota_idesp_em\n",
       "511            Santa Adélia           6.00\n",
       "316                Macaubal           5.46\n",
       "572  Sebastianópolis do Sul           5.42\n",
       "188        Gabriel Monteiro           5.00"
      ]
     },
     "execution_count": 31,
     "metadata": {},
     "output_type": "execute_result"
    }
   ],
   "source": [
    "obj_efi=sp_idesp_2018[sp_idesp_2018[\"nota_idesp_em\"] >= 5]\n",
    "print(\"Munícipio que já atingiram a meta para o Ensino Médio (analisando a média):\")\n",
    "obj_efi[['name', \"nota_idesp_em\"]].sort_values('nota_idesp_em', ascending=False)"
   ]
  },
  {
   "cell_type": "markdown",
   "id": "e7525ead",
   "metadata": {},
   "source": [
    "## Segurança no Estado de São Paulo"
   ]
  },
  {
   "cell_type": "markdown",
   "id": "152584fb",
   "metadata": {},
   "source": [
    "Nesse caso, usou-se uma base de dados com informações mensais das ocorrências registradas pela Secretaria de Segurança Publica de São Paulo (SSP). Fez-se a limpeza de dados e acrescentamos uma coluna de ocorrências totais com os dados que supomos relevantes."
   ]
  },
  {
   "cell_type": "code",
   "execution_count": 32,
   "id": "3ea9a3a6",
   "metadata": {},
   "outputs": [],
   "source": [
    "df_seguranca = pd.read_csv(\".//bases_de_dados//ocorrencias_registradas.csv\")\n",
    "\n",
    "mapassp[\"id\"]=mapassp[\"id\"].astype(int)\n",
    "\n",
    "df_seguranca.rename(columns={\"id_municipio\": \"id\"}, inplace = 1)\n",
    "\n",
    "df_seguranca_2018 = df_seguranca[df_seguranca[\"ano\"] == 2018]\n",
    "\n",
    "df_seguranca_2018 = df_seguranca_2018.groupby(\"id\").sum()\n",
    "\n",
    "\n",
    "df_seguranca_2018= mapassp.join(df_seguranca_2018,on=\"id\", how=\"left\")\n",
    "df_seguranca_2018\n",
    "\n",
    "df_seguranca_2018[\"total\"]=df_seguranca_2018[\"homicidio_doloso\"]+df_seguranca_2018[\"homicidio_culposo_por_acidente_de_transito\"]+df_seguranca_2018[\"homicidio_culposo_outros\"]+df_seguranca_2018[\"tentativa_de_homicidio\"]+df_seguranca_2018[\"lesao_corporal_seguida_de_morte\"]+df_seguranca_2018[\"lesao_corporal_dolosa\"]+df_seguranca_2018[\"lesao_corporal_culposa_outras\"]+df_seguranca_2018[\"homicidio_doloso\"]+df_seguranca_2018[\"latrocinio\"]+df_seguranca_2018[\"total_de_estupro\"]+df_seguranca_2018[\"roubo_outros\"]+df_seguranca_2018[\"roubo_de_veiculo\"]+df_seguranca_2018[\"roubo_a_banco\"]+df_seguranca_2018[\"roubo_de_carga\"]+df_seguranca_2018[\"roubo_de_carga\"]+df_seguranca_2018[\"furto_outros\"]+df_seguranca_2018[\"furto_de_veiculo\"]"
   ]
  },
  {
   "cell_type": "code",
   "execution_count": 33,
   "id": "3eeadd1e",
   "metadata": {},
   "outputs": [
    {
     "data": {
      "image/png": "[encoded data removed]",
      "text/plain": [
       "<Figure size 720x720 with 2 Axes>"
      ]
     },
     "metadata": {
      "needs_background": "light"
     },
     "output_type": "display_data"
    }
   ],
   "source": [
    "fig, ax = plt.subplots(figsize=(10, 10))\n",
    "df_seguranca_2018.plot(ax=ax, column='total', cmap='coolwarm', legend=True, legend_kwds={'shrink': 0.3})\n",
    "plt.title('Ocorrências de crimes no ano de 2018') \n",
    "ax.axis('off');"
   ]
  },
  {
   "cell_type": "markdown",
   "id": "514fa8e1",
   "metadata": {},
   "source": [
    "Na plotagem do mapa do estado com as ocorrências totais, é evidente o quanto São Paulo se destaca com um número de casos bastante elevado em relação aos outros municípios. Já Torre de Pedra é o município com o menor número de ocorrência, apenas 6."
   ]
  },
  {
   "cell_type": "code",
   "execution_count": 34,
   "id": "2a5a2686",
   "metadata": {},
   "outputs": [
    {
     "data": {
      "text/html": [
       "<div>\n",
       "<style scoped>\n",
       "    .dataframe tbody tr th:only-of-type {\n",
       "        vertical-align: middle;\n",
       "    }\n",
       "\n",
       "    .dataframe tbody tr th {\n",
       "        vertical-align: top;\n",
       "    }\n",
       "\n",
       "    .dataframe thead th {\n",
       "        text-align: right;\n",
       "    }\n",
       "</style>\n",
       "<table border=\"1\" class=\"dataframe\">\n",
       "  <thead>\n",
       "    <tr style=\"text-align: right;\">\n",
       "      <th></th>\n",
       "      <th>name</th>\n",
       "      <th>total</th>\n",
       "    </tr>\n",
       "  </thead>\n",
       "  <tbody>\n",
       "    <tr>\n",
       "      <th>0</th>\n",
       "      <td>Torre de Pedra</td>\n",
       "      <td>6.0</td>\n",
       "    </tr>\n",
       "    <tr>\n",
       "      <th>1</th>\n",
       "      <td>Dirce Reis</td>\n",
       "      <td>7.0</td>\n",
       "    </tr>\n",
       "    <tr>\n",
       "      <th>2</th>\n",
       "      <td>Aspásia</td>\n",
       "      <td>9.0</td>\n",
       "    </tr>\n",
       "    <tr>\n",
       "      <th>3</th>\n",
       "      <td>Santa Salete</td>\n",
       "      <td>10.0</td>\n",
       "    </tr>\n",
       "    <tr>\n",
       "      <th>4</th>\n",
       "      <td>Arco-Íris</td>\n",
       "      <td>11.0</td>\n",
       "    </tr>\n",
       "    <tr>\n",
       "      <th>5</th>\n",
       "      <td>Marinópolis</td>\n",
       "      <td>12.0</td>\n",
       "    </tr>\n",
       "    <tr>\n",
       "      <th>6</th>\n",
       "      <td>Vitória Brasil</td>\n",
       "      <td>13.0</td>\n",
       "    </tr>\n",
       "    <tr>\n",
       "      <th>7</th>\n",
       "      <td>Trabiju</td>\n",
       "      <td>14.0</td>\n",
       "    </tr>\n",
       "    <tr>\n",
       "      <th>8</th>\n",
       "      <td>Paulistânia</td>\n",
       "      <td>14.0</td>\n",
       "    </tr>\n",
       "    <tr>\n",
       "      <th>9</th>\n",
       "      <td>Borá</td>\n",
       "      <td>15.0</td>\n",
       "    </tr>\n",
       "  </tbody>\n",
       "</table>\n",
       "</div>"
      ],
      "text/plain": [
       "             name  total\n",
       "0  Torre de Pedra    6.0\n",
       "1      Dirce Reis    7.0\n",
       "2         Aspásia    9.0\n",
       "3    Santa Salete   10.0\n",
       "4       Arco-Íris   11.0\n",
       "5     Marinópolis   12.0\n",
       "6  Vitória Brasil   13.0\n",
       "7         Trabiju   14.0\n",
       "8     Paulistânia   14.0\n",
       "9            Borá   15.0"
      ]
     },
     "execution_count": 34,
     "metadata": {},
     "output_type": "execute_result"
    }
   ],
   "source": [
    "menores_ocor=df_seguranca_2018.sort_values('total').reset_index().head(10)\n",
    "menores_ocor[[\"name\", \"total\"]]"
   ]
  },
  {
   "cell_type": "markdown",
   "id": "e11dac27",
   "metadata": {},
   "source": [
    "## IDESP e INSE"
   ]
  },
  {
   "cell_type": "code",
   "execution_count": 35,
   "id": "2689f250",
   "metadata": {},
   "outputs": [
    {
     "data": {
      "text/html": [
       "<div>\n",
       "<style scoped>\n",
       "    .dataframe tbody tr th:only-of-type {\n",
       "        vertical-align: middle;\n",
       "    }\n",
       "\n",
       "    .dataframe tbody tr th {\n",
       "        vertical-align: top;\n",
       "    }\n",
       "\n",
       "    .dataframe thead th {\n",
       "        text-align: right;\n",
       "    }\n",
       "</style>\n",
       "<table border=\"1\" class=\"dataframe\">\n",
       "  <thead>\n",
       "    <tr style=\"text-align: right;\">\n",
       "      <th></th>\n",
       "      <th>nivel_socio_economico</th>\n",
       "      <th>nota_idesp_ef_iniciais</th>\n",
       "      <th>nota_idesp_ef_finais</th>\n",
       "      <th>nota_idesp_em</th>\n",
       "    </tr>\n",
       "    <tr>\n",
       "      <th>id</th>\n",
       "      <th></th>\n",
       "      <th></th>\n",
       "      <th></th>\n",
       "      <th></th>\n",
       "    </tr>\n",
       "  </thead>\n",
       "  <tbody>\n",
       "    <tr>\n",
       "      <th>3500105</th>\n",
       "      <td>4.000000</td>\n",
       "      <td>NaN</td>\n",
       "      <td>3.423333</td>\n",
       "      <td>2.250000</td>\n",
       "    </tr>\n",
       "    <tr>\n",
       "      <th>3500204</th>\n",
       "      <td>4.190000</td>\n",
       "      <td>NaN</td>\n",
       "      <td>NaN</td>\n",
       "      <td>3.170000</td>\n",
       "    </tr>\n",
       "    <tr>\n",
       "      <th>3500303</th>\n",
       "      <td>5.119091</td>\n",
       "      <td>6.70</td>\n",
       "      <td>2.943333</td>\n",
       "      <td>2.436667</td>\n",
       "    </tr>\n",
       "    <tr>\n",
       "      <th>3500402</th>\n",
       "      <td>5.600000</td>\n",
       "      <td>NaN</td>\n",
       "      <td>4.250000</td>\n",
       "      <td>3.110000</td>\n",
       "    </tr>\n",
       "    <tr>\n",
       "      <th>3500501</th>\n",
       "      <td>3.940000</td>\n",
       "      <td>6.97</td>\n",
       "      <td>3.650000</td>\n",
       "      <td>3.630000</td>\n",
       "    </tr>\n",
       "    <tr>\n",
       "      <th>...</th>\n",
       "      <td>...</td>\n",
       "      <td>...</td>\n",
       "      <td>...</td>\n",
       "      <td>...</td>\n",
       "    </tr>\n",
       "    <tr>\n",
       "      <th>3557006</th>\n",
       "      <td>4.268462</td>\n",
       "      <td>NaN</td>\n",
       "      <td>3.728462</td>\n",
       "      <td>2.754615</td>\n",
       "    </tr>\n",
       "    <tr>\n",
       "      <th>3557105</th>\n",
       "      <td>4.268889</td>\n",
       "      <td>NaN</td>\n",
       "      <td>3.665556</td>\n",
       "      <td>2.413750</td>\n",
       "    </tr>\n",
       "    <tr>\n",
       "      <th>3557154</th>\n",
       "      <td>4.450000</td>\n",
       "      <td>NaN</td>\n",
       "      <td>2.800000</td>\n",
       "      <td>2.650000</td>\n",
       "    </tr>\n",
       "    <tr>\n",
       "      <th>3557204</th>\n",
       "      <td>5.020000</td>\n",
       "      <td>NaN</td>\n",
       "      <td>2.620000</td>\n",
       "      <td>2.560000</td>\n",
       "    </tr>\n",
       "    <tr>\n",
       "      <th>3557303</th>\n",
       "      <td>3.860000</td>\n",
       "      <td>NaN</td>\n",
       "      <td>NaN</td>\n",
       "      <td>3.560000</td>\n",
       "    </tr>\n",
       "  </tbody>\n",
       "</table>\n",
       "<p>644 rows × 4 columns</p>\n",
       "</div>"
      ],
      "text/plain": [
       "         nivel_socio_economico  nota_idesp_ef_iniciais  nota_idesp_ef_finais  \\\n",
       "id                                                                             \n",
       "3500105               4.000000                     NaN              3.423333   \n",
       "3500204               4.190000                     NaN                   NaN   \n",
       "3500303               5.119091                    6.70              2.943333   \n",
       "3500402               5.600000                     NaN              4.250000   \n",
       "3500501               3.940000                    6.97              3.650000   \n",
       "...                        ...                     ...                   ...   \n",
       "3557006               4.268462                     NaN              3.728462   \n",
       "3557105               4.268889                     NaN              3.665556   \n",
       "3557154               4.450000                     NaN              2.800000   \n",
       "3557204               5.020000                     NaN              2.620000   \n",
       "3557303               3.860000                     NaN                   NaN   \n",
       "\n",
       "         nota_idesp_em  \n",
       "id                      \n",
       "3500105       2.250000  \n",
       "3500204       3.170000  \n",
       "3500303       2.436667  \n",
       "3500402       3.110000  \n",
       "3500501       3.630000  \n",
       "...                ...  \n",
       "3557006       2.754615  \n",
       "3557105       2.413750  \n",
       "3557154       2.650000  \n",
       "3557204       2.560000  \n",
       "3557303       3.560000  \n",
       "\n",
       "[644 rows x 4 columns]"
      ]
     },
     "execution_count": 35,
     "metadata": {},
     "output_type": "execute_result"
    }
   ],
   "source": [
    "IDESP_INSE=sp_nse.join(sp_idesp_2018_na, on=\"id\", how=\"left\")\n",
    "IDESP_INSE"
   ]
  },
  {
   "cell_type": "code",
   "execution_count": 38,
   "id": "ae73dd10",
   "metadata": {},
   "outputs": [
    {
     "data": {
      "application/vnd.plotly.v1+json": {
       "config": {
        "plotlyServerURL": "https://plot.ly"
       },
       "data": [
        {
         "hovertemplate": "nivel_socio_economico=%{x}<br>nota_idesp_em=%{y}<extra></extra>",
         "legendgroup": "",
         "marker": {
          "color": "#636efa",
          "line": {
           "width": 2
          },
          "size": 8,
          "symbol": "circle"
         },
         "mode": "markers",
         "name": "",
         "orientation": "v",
         "showlegend": false,
         "type": "scatter",
         "x": [
          4,
          4.19,
          5.119090909090908,
          5.6,
          3.94,
          4.15,
          1.66,
          5.08,
          5.67,
          5.39,
          5.66,
          5.12,
          5.56,
          2.59,
          5.6,
          5.175000000000001,
          6.16,
          5.81,
          3.6034999999999995,
          4.88,
          4.87,
          4.195384615384615,
          3.66,
          4.6883333333333335,
          5.573333333333333,
          5.23,
          5.3,
          4.2025,
          5.28,
          7.573333333333333,
          3.65,
          4.368181818181818,
          4.775,
          4.49,
          5.06,
          6.06,
          3.8709375,
          3.91625,
          5.91,
          4.32,
          6.03,
          4.21,
          4.9,
          4.5616666666666665,
          4.281666666666667,
          5.77,
          4.3116666666666665,
          4.564,
          4.965,
          5.16,
          6.13,
          5.0120000000000005,
          3.76,
          5.19,
          4.41,
          5.28,
          6.24,
          6.04,
          4.0649999999999995,
          3.5900000000000003,
          8.453333333333333,
          8.085,
          4.3133333333333335,
          4.625,
          4.034761904761905,
          5.736666666666667,
          4.994285714285715,
          4.377254901960785,
          4.972222222222222,
          5.37,
          5.1899999999999995,
          4.89375,
          3.99,
          4.792307692307692,
          5.6933333333333325,
          5.08,
          4.1850000000000005,
          4.955,
          3.585,
          4.8999999999999995,
          7.67,
          5.46,
          5.42,
          6.183333333333334,
          4.36,
          4.561538461538461,
          4.410526315789474,
          5.37,
          6.07,
          4.42,
          4.695,
          5.81,
          4.545,
          2.92,
          5.92,
          4.888333333333333,
          5.0025,
          5.874444444444444,
          5.683333333333334,
          5.835,
          5.24,
          4.189285714285714,
          5.71,
          4.245,
          6.554,
          4.14,
          5.81,
          5.38,
          3.9148765432098767,
          4.218333333333334,
          4.26,
          5.89,
          6.405,
          5.31,
          5.593333333333334,
          4.06,
          5.42,
          6.205,
          4.91,
          4.065,
          5.053846153846154,
          4.780877192982456,
          5.69,
          5.4471428571428575,
          5.76,
          5.220000000000001,
          4.090999999999999,
          4.43,
          4.68,
          5.109999999999999,
          2.58,
          3.98,
          4.46,
          5.34,
          5.33,
          4.2,
          4.922,
          4.835,
          3.58,
          5.01,
          7.04,
          3.61,
          4.3340000000000005,
          4.17,
          4.392142857142857,
          4.6875,
          5.08,
          4.6,
          5.0725,
          4.510909090909091,
          7.825,
          3.9499999999999997,
          4.551754385964912,
          6.36,
          4.52,
          6.896666666666666,
          5.74,
          5.57,
          4.77,
          4.135,
          5.42,
          4,
          5.88,
          7.580000000000001,
          4.9350000000000005,
          4.61,
          4.89,
          4.815681818181819,
          5.64,
          5.32,
          6.13,
          5.055555555555555,
          5.32,
          4.48,
          4.98,
          6.718000000000001,
          5.234999999999999,
          4.864,
          3.8,
          6.57,
          5.038235294117648,
          4.61,
          4.73,
          5.45,
          5.42,
          4.48280701754386,
          5.356470588235294,
          4.9255555555555555,
          4.55,
          5.8,
          5.32,
          5.91,
          5.49,
          5.62,
          6.093333333333334,
          5.38,
          5.025,
          5.83,
          5.296666666666667,
          4.02,
          7.958571428571429,
          5.32,
          4.8,
          4.91,
          5.29,
          6.635,
          4.743333333333333,
          5.043333333333334,
          4.74,
          5.824999999999999,
          5.245,
          5.245454545454545,
          4.818720930232558,
          3.7,
          6.44,
          6.119999999999999,
          2.83,
          4.1732,
          4.73,
          6.645,
          5.765000000000001,
          5.1433333333333335,
          4.06,
          5.2,
          4.73375,
          5.933076923076923,
          5.06,
          4.81,
          5.23,
          4.67,
          4.46,
          6.397,
          4.373333333333334,
          4.15,
          4.153333333333333,
          3.767142857142857,
          5.11,
          5.36,
          5.02,
          4.81,
          4.755,
          4.49,
          4.76,
          7.03,
          5.43,
          3.6833333333333336,
          5.14,
          5.32,
          7.638181818181818,
          6.68,
          4.51,
          4.7,
          4.77625,
          8.563333333333333,
          4.972903225806451,
          5.5807692307692305,
          6.566,
          5.000454545454546,
          4.39875,
          8.515,
          5.988,
          7.09,
          4.8,
          5.37,
          5.74952380952381,
          6.195714285714287,
          7.075,
          3.065,
          5.515000000000001,
          3.26,
          6.25,
          7.05,
          3.9523529411764704,
          3.9659999999999997,
          4.35,
          5.47,
          4.233333333333333,
          5.074827586206896,
          4.49,
          5.876666666666666,
          2.85,
          4.398333333333333,
          4.37,
          4.696666666666667,
          4.5600000000000005,
          4.9375,
          4.201428571428571,
          4.98,
          4.25,
          5.28,
          4.794,
          6.21,
          3.73,
          3.473888888888889,
          4.71,
          6.662000000000001,
          6.424000000000001,
          6.41,
          4.744999999999999,
          4.61,
          5.73,
          4.9750000000000005,
          4.073333333333333,
          4.087,
          3.04,
          4.86,
          5.3,
          5.45,
          3.99,
          5.025,
          5.62,
          3.22,
          6.07,
          5.925000000000001,
          5.03,
          4.79,
          5.324999999999999,
          5.32,
          5.17,
          4.18,
          4.707857142857143,
          4.83,
          5.66,
          5.575,
          4.06,
          5.37,
          4.3838888888888885,
          5.38,
          4.916666666666667,
          5.152941176470588,
          4.7109523809523814,
          4.44,
          4.86,
          4.96,
          5.4,
          4.61,
          7.092499999999999,
          5.18,
          4.716666666666666,
          6.708333333333333,
          3.8240000000000003,
          4.74,
          5.343,
          4.942372881355933,
          4.215199999999999,
          3.8880000000000003,
          5.19,
          4.74,
          4.496666666666667,
          2.57,
          3.7733333333333334,
          4.05,
          4.4350000000000005,
          5.97,
          5.94,
          4.578571428571428,
          5.359999999999999,
          3.41,
          4.47,
          4.73,
          5.44,
          4.99,
          7.5649999999999995,
          5.859999999999999,
          4.33,
          4.925,
          5.16,
          4.02,
          6.6899999999999995,
          5.93,
          5.25,
          5.44,
          5.6899999999999995,
          6.09,
          5.19,
          5.03,
          5.38,
          3.4883333333333333,
          4.75,
          4.3,
          5.95,
          5.15,
          4.783333333333333,
          4.8,
          5.22,
          4.49,
          3.83,
          4.277692307692307,
          4.63,
          4.755,
          4.797142857142857,
          4.7,
          5.79,
          4.89,
          3.98,
          4.7,
          5.39,
          5.193333333333333,
          5.24,
          4.533333333333333,
          6.045,
          3.55,
          4.970000000000001,
          5.58,
          5.52,
          4.62,
          6.6525,
          5.39,
          5.05,
          5.86,
          3.52,
          5.62,
          5.68,
          5.66,
          4.99,
          5.29,
          4.6025,
          4.33,
          4.2,
          6.32,
          4.942222222222222,
          4.966666666666666,
          5.07,
          5.558888888888889,
          5.34,
          6.265,
          5.922499999999999,
          4.748484848484848,
          4.67,
          3.07,
          5.69,
          5.455,
          4.775,
          3.7375862068965517,
          4.818333333333333,
          4.66,
          4.77,
          4.62,
          5.0075,
          4.04,
          4.85,
          5.575,
          5.52,
          5.9,
          4.665294117647059,
          4.675,
          4.33,
          4.82,
          5.93,
          6.04,
          4.96,
          5.97,
          5.46,
          4.279999999999999,
          5.166666666666667,
          6.07,
          3.64,
          5.76,
          3.72,
          4.248695652173913,
          5.6,
          5.975,
          3.66,
          5.772,
          4.168461538461538,
          4.3675,
          5.385,
          5.49,
          5.43,
          6.2,
          6.36,
          5.43,
          4.22,
          4.948,
          5.94,
          4.756666666666667,
          5.2,
          6.5661538461538465,
          4.68,
          7.1899999999999995,
          5.56,
          7.875,
          5.82,
          5.12,
          6.03,
          7.17,
          4.240344827586207,
          4.480434782608695,
          7.055,
          3.9,
          5.51,
          5.79,
          4.044,
          4.41,
          5.534545454545455,
          6.755,
          5.9557142857142855,
          4.59,
          5.58,
          3.94,
          5.42,
          5.76,
          4.61,
          4.42,
          5.2299999999999995,
          6.09,
          3.1,
          4.245882352941177,
          6.08875,
          5.33,
          5.17,
          3.88,
          5.43,
          3.6958823529411764,
          4.37,
          4.96,
          3.74,
          5.29,
          5.6275,
          4.706666666666667,
          5.09,
          3.61,
          3.94,
          4.885555555555555,
          5.45,
          4.655,
          5.88,
          4.81,
          4.64,
          4.335,
          4.5675,
          4.23,
          4.925,
          3.557701149425287,
          5.99,
          3.96,
          4.355,
          4.92,
          4.49,
          5.1,
          4.99,
          3.1429166666666664,
          5.155,
          3.4794366197183098,
          1.9129999999999998,
          3.954411764705882,
          5.57,
          4.6018181818181825,
          5.22,
          5.71,
          4.73,
          5.331111111111111,
          6.14,
          5.24,
          4.9911111111111115,
          3.7565789473684212,
          4.446933333333333,
          5.1433333333333335,
          5.49,
          4.942,
          5.9816666666666665,
          4.172730627306273,
          4.253333333333333,
          6.1,
          4.135,
          3.9850000000000003,
          5.895,
          4.98,
          4.428571428571429,
          6.425,
          6.44,
          4.3,
          5.51,
          5.09,
          5.428571428571429,
          4.452222222222222,
          6.596666666666667,
          4.26,
          5.84,
          5.543333333333333,
          4.176785714285715,
          4.52,
          4.364444444444445,
          5.1802222222222225,
          5.74,
          4.36,
          5.890000000000001,
          3.895925925925926,
          5.14,
          6.13,
          5.7,
          4.95,
          5.216666666666667,
          4.645,
          5.875,
          5.34,
          5.83,
          5.046,
          6.936,
          5.69,
          5.78,
          4.78,
          4.373333333333333,
          3.9204999999999997,
          6.654999999999999,
          6.327142857142857,
          5.11,
          3.11,
          5.56,
          5.21,
          4.46,
          4.79,
          4.093333333333333,
          5.36,
          3.82,
          5.220909090909091,
          3.82,
          4.93,
          4.86,
          4.31,
          5.568181818181818,
          5.68,
          4.18,
          5.67,
          5.936666666666667,
          5.51,
          4.29,
          4.69,
          2.7457142857142856,
          5.353333333333333,
          4.32,
          5.154,
          4.4975000000000005,
          4.390909090909091,
          5.035,
          3.063333333333333,
          4.68,
          4.66,
          6.6,
          4.268461538461539,
          4.268888888888889,
          4.45,
          5.02,
          3.86
         ],
         "xaxis": "x",
         "y": [
          2.25,
          3.17,
          2.436666666666667,
          3.11,
          3.63,
          3.18,
          3.29,
          2.4366666666666665,
          2.02,
          3.36,
          2.12,
          2.35,
          2.25,
          2.6,
          2.96,
          1.94,
          1.02,
          3.01,
          2.9269565217391302,
          2.6033333333333335,
          1.73,
          3.19,
          1.72,
          3.0866666666666664,
          3.805,
          1.54,
          2.39,
          3.0949999999999998,
          3.78,
          2.861111111111111,
          2.37,
          2.6989473684210528,
          2.94,
          1.57,
          1.97,
          2.32,
          2.7536842105263157,
          2.75625,
          2.1,
          3.32,
          2.48,
          2.42,
          4.68,
          2.962,
          2.412,
          3.75,
          2.841666666666667,
          2.6471428571428572,
          2.925,
          2.32,
          2.83,
          2.5171428571428573,
          2.75,
          3.07,
          3.29,
          2.66,
          3.24,
          1.78,
          3.335,
          2.8324999999999996,
          2.6466666666666665,
          2.585,
          2.798,
          2.875,
          2.623333333333333,
          2.9166666666666665,
          2.998,
          2.257096774193548,
          2.7933333333333334,
          2.61,
          3.245,
          2.2728571428571427,
          3.38,
          2.8572727272727274,
          2.565,
          1.81,
          2.415,
          3.08,
          2.055,
          3.11,
          3.56,
          4.15,
          3.55,
          2.33,
          1.91,
          2.1908333333333334,
          2.9566666666666666,
          3.05,
          1.89,
          2.15,
          2.295,
          2.89,
          3.385,
          3.39,
          1.84,
          2.4633333333333334,
          2.3241666666666667,
          2.25875,
          2.4233333333333333,
          1.7700000000000002,
          2.19,
          2.4263636363636363,
          1.98,
          2.341666666666667,
          2.62,
          2.88,
          2.21,
          2.72,
          2.4810416666666666,
          2.7366666666666664,
          3.13,
          3.27,
          2.8825,
          2.25,
          2.6725,
          3.33,
          2.49,
          3.955,
          2.69,
          2.6550000000000002,
          2.863076923076923,
          2.129285714285714,
          3.11,
          2.31,
          3.01,
          2.67,
          2.855,
          2.42,
          3.09,
          3.135,
          2.6799999999999997,
          2.45,
          2.815,
          3.02,
          2.02,
          2.56,
          3.168,
          2.26,
          2.936666666666667,
          3.1,
          2.63,
          3.15,
          3.468,
          2.66,
          2.428095238095238,
          2.98,
          2.4,
          3.04,
          2.4875,
          2.607142857142857,
          2.8449999999999998,
          3.17,
          2.442,
          2.97,
          3.34,
          3.51,
          2.24,
          2.65,
          2.59,
          2.9575,
          2.18,
          2.4,
          1.92,
          2.795,
          2.57,
          2.75,
          2.94,
          2.4821874999999998,
          2.5060000000000002,
          2.85,
          2.54,
          2.58,
          3.54,
          2.98,
          3.58,
          3.1380000000000003,
          3.955,
          2.989,
          3.67,
          3.67,
          2.01875,
          3.1,
          4.25,
          2.42,
          3.73,
          2.4847222222222225,
          2.1129411764705885,
          1.88875,
          5,
          2.11,
          2.132,
          4.96,
          3.62,
          3.48,
          1.77,
          2.05,
          2.17,
          2.02,
          2.9599999999999995,
          3.39,
          2.3685714285714283,
          2.11,
          1.87,
          1.89,
          2.71,
          1.39,
          3.0966666666666662,
          2.5,
          2.4683333333333333,
          2.71,
          2.33,
          2.2263157894736842,
          2.263333333333333,
          3.17,
          3.1,
          2.49,
          2.48,
          2.5760869565217392,
          2.66,
          2.79,
          2.85,
          2.558333333333333,
          3.04,
          2.04,
          2.894,
          2.7489999999999997,
          2.61,
          2.42,
          1.8199999999999998,
          1.85,
          2.47,
          2.9579999999999997,
          2.5733333333333337,
          2.6,
          2.8,
          2.994736842105263,
          2.75,
          2.08,
          2.3,
          2.8,
          2.565,
          2.52,
          2.42,
          2.42,
          2.84,
          3.085,
          2.5,
          2.32,
          2.68,
          2.486666666666667,
          3.26,
          2.82,
          2.25375,
          3.126666666666667,
          2.715217391304348,
          2.7027777777777775,
          3.108,
          2.141363636363636,
          2.7114285714285713,
          3.165,
          3.2649999999999997,
          2.813333333333333,
          2.68,
          2.23,
          2.09125,
          1.9942857142857144,
          2.04,
          3.3775000000000004,
          2.9050000000000002,
          2.46,
          1.84,
          1.65,
          2.8975,
          2.596,
          2.19,
          2.22,
          2.8033333333333332,
          2.4619999999999997,
          2.2,
          2.89,
          3.2699999999999996,
          3.368,
          3.11,
          2.5021428571428572,
          2.825,
          2.8975,
          2.465384615384615,
          1.71,
          3.39,
          2.53,
          2.975,
          1.14,
          3.86,
          3.043235294117647,
          3.34,
          3.0140000000000002,
          2.876666666666667,
          3.58,
          3.08,
          3.98,
          2.0250000000000004,
          2.431111111111111,
          3.1266666666666665,
          2.747,
          3.14,
          2.0425,
          2.1599999999999997,
          3.96,
          2.7099999999999995,
          2.03,
          2.66,
          2.21,
          2.82,
          2.55,
          3.75,
          2.7466666666666666,
          5.46,
          3.09,
          3.58,
          3.4625,
          2.290833333333333,
          2.19,
          3,
          3.11,
          3.31,
          2.27,
          2.508,
          3.71,
          2.59,
          3.1671428571428573,
          2.470666666666667,
          4.01,
          2.58,
          3.8,
          3.05,
          3.46,
          2.57125,
          4.55,
          2.856666666666667,
          2.768333333333333,
          3.3840000000000003,
          3.2,
          2.125,
          2.479268292682927,
          2.9939999999999998,
          2.52125,
          3.72,
          4.45,
          1.8866666666666667,
          3.53,
          2.1733333333333333,
          2.66,
          3.2,
          2.73,
          2.96,
          2.7085714285714286,
          2.465,
          3.09,
          3.63,
          2.81,
          2.83,
          3.22,
          2.16,
          3.122,
          2.68,
          2.57,
          3.03,
          3.37,
          2.135,
          2.33,
          3.03,
          2.33,
          1.94,
          3.61,
          3.55,
          2.74,
          4.06,
          2.4616666666666664,
          3.1566666666666667,
          3.95,
          2.44,
          2.48,
          3.2257142857142855,
          2.91,
          2.01,
          3.2,
          2.33,
          2.136470588235294,
          2.53,
          2.4775,
          2.7716666666666665,
          3.11,
          3.04,
          2.18,
          3.13,
          3.2,
          3.14,
          1.95,
          2.85,
          2.73,
          3.043333333333333,
          2.48,
          2.38,
          3.75,
          2.09,
          2.23,
          2.856666666666667,
          1.49,
          2.85,
          2.43,
          3.16,
          1.76,
          2.95,
          2.5042857142857144,
          3.19,
          2.08,
          2.1733333333333333,
          2.245,
          3.01,
          2.45,
          2.7399999999999998,
          3.715,
          2.6,
          2.6625,
          4.44,
          2.965,
          3.5100000000000002,
          2.8030434782608693,
          2.76,
          2.71,
          2.83,
          2.935,
          3.393333333333333,
          2.8892105263157895,
          2.9299999999999997,
          4.365,
          3.91,
          2.13,
          2.7575,
          2.555,
          1.42,
          2.7325,
          2.1,
          1.41,
          2.582941176470588,
          4.23,
          2.105,
          4.42,
          3.145,
          2.76,
          1.76,
          4.98,
          2.97,
          2.618,
          2.8666666666666667,
          2.29,
          3.21,
          1.85,
          2.82,
          2.6652173913043478,
          2.56,
          2.41,
          2.09,
          3.0025,
          2.274285714285714,
          2.763333333333333,
          2.4074999999999998,
          4.13,
          1.5,
          1.78,
          2.3,
          2.45,
          2.59,
          2.48,
          2.44,
          2.645,
          1.55,
          2.752,
          2.17,
          2.295,
          2.06,
          2.8066666666666666,
          3.06,
          3.09,
          2.19,
          3.435,
          2.75,
          2.5308571428571427,
          3.29,
          2.7,
          2.3,
          1.85,
          2.366,
          2.9699999999999998,
          2.533333333333333,
          1.54,
          2.83,
          2.36,
          4.07,
          3.36,
          2.14,
          2.57,
          3.3,
          2.42,
          2.8600000000000003,
          2.2,
          3.39,
          2.749,
          2.5425,
          2.26,
          2.98,
          6,
          3.07,
          2.65,
          2.38,
          2.31,
          2.26,
          3.9,
          2.33,
          3,
          4.84,
          3.02,
          3.185,
          2.57125,
          1.37,
          3.885,
          1.88,
          3.86,
          3.94,
          2.685,
          2.74,
          3.09,
          2.465,
          2.498727272727273,
          3.07,
          2.69,
          2.88,
          3.965,
          3.64,
          2.1,
          4.65,
          3.08,
          3.58,
          2.6281967213114754,
          3.07,
          2.715263157894737,
          4.09,
          2.778,
          2.98,
          3.44,
          3.24,
          2.08,
          1.94,
          2.94,
          2.7,
          2.938928571428572,
          2.9065957446808515,
          2.966666666666667,
          3.15,
          2.948,
          3.033333333333333,
          2.174316309719934,
          3.1266666666666665,
          2.86,
          2.3850000000000002,
          2.76625,
          2.94,
          2.0700000000000003,
          2.486842105263158,
          2.45,
          1.93,
          5.42,
          2.43,
          2.1966666666666668,
          3.15,
          3.4244444444444446,
          2.675,
          2.7,
          3.23,
          2.908333333333333,
          2.5903508771929826,
          4,
          2.930869565217391,
          2.2714285714285714,
          3.36,
          3.79,
          2.8600000000000003,
          2.718461538461539,
          2.66,
          2.73,
          2.93,
          3.04,
          2.395,
          3.35,
          2.46,
          1.99,
          2.37,
          2.973333333333333,
          3.136,
          3.32,
          2.19,
          2.4466666666666668,
          2.4266666666666667,
          3.0795,
          2.5300000000000002,
          3.6699999999999995,
          2.48,
          2.27,
          3.06,
          3.75,
          2.63,
          4.5,
          2.5333333333333337,
          2.93,
          3.05,
          2.168,
          2.9,
          3.64,
          2.4,
          2.79,
          2.17,
          1.6,
          3.62,
          3.28,
          2.91,
          1.95,
          2.33,
          2.74,
          3.1671428571428573,
          2.88,
          2.41,
          2.355,
          2.47125,
          2.554,
          2.65,
          2.86,
          3.27,
          4.92,
          3.13,
          2.7546153846153847,
          2.41375,
          2.65,
          2.56,
          3.56
         ],
         "yaxis": "y"
        }
       ],
       "layout": {
        "legend": {
         "tracegroupgap": 0
        },
        "margin": {
         "t": 60
        },
        "template": {
         "data": {
          "bar": [
           {
            "error_x": {
             "color": "#2a3f5f"
            },
            "error_y": {
             "color": "#2a3f5f"
            },
            "marker": {
             "line": {
              "color": "#E5ECF6",
              "width": 0.5
             },
             "pattern": {
              "fillmode": "overlay",
              "size": 10,
              "solidity": 0.2
             }
            },
            "type": "bar"
           }
          ],
          "barpolar": [
           {
            "marker": {
             "line": {
              "color": "#E5ECF6",
              "width": 0.5
             },
             "pattern": {
              "fillmode": "overlay",
              "size": 10,
              "solidity": 0.2
             }
            },
            "type": "barpolar"
           }
          ],
          "carpet": [
           {
            "aaxis": {
             "endlinecolor": "#2a3f5f",
             "gridcolor": "white",
             "linecolor": "white",
             "minorgridcolor": "white",
             "startlinecolor": "#2a3f5f"
            },
            "baxis": {
             "endlinecolor": "#2a3f5f",
             "gridcolor": "white",
             "linecolor": "white",
             "minorgridcolor": "white",
             "startlinecolor": "#2a3f5f"
            },
            "type": "carpet"
           }
          ],
          "choropleth": [
           {
            "colorbar": {
             "outlinewidth": 0,
             "ticks": ""
            },
            "type": "choropleth"
           }
          ],
          "contour": [
           {
            "colorbar": {
             "outlinewidth": 0,
             "ticks": ""
            },
            "colorscale": [
             [
              0,
              "#0d0887"
             ],
             [
              0.1111111111111111,
              "#46039f"
             ],
             [
              0.2222222222222222,
              "#7201a8"
             ],
             [
              0.3333333333333333,
              "#9c179e"
             ],
             [
              0.4444444444444444,
              "#bd3786"
             ],
             [
              0.5555555555555556,
              "#d8576b"
             ],
             [
              0.6666666666666666,
              "#ed7953"
             ],
             [
              0.7777777777777778,
              "#fb9f3a"
             ],
             [
              0.8888888888888888,
              "#fdca26"
             ],
             [
              1,
              "#f0f921"
             ]
            ],
            "type": "contour"
           }
          ],
          "contourcarpet": [
           {
            "colorbar": {
             "outlinewidth": 0,
             "ticks": ""
            },
            "type": "contourcarpet"
           }
          ],
          "heatmap": [
           {
            "colorbar": {
             "outlinewidth": 0,
             "ticks": ""
            },
            "colorscale": [
             [
              0,
              "#0d0887"
             ],
             [
              0.1111111111111111,
              "#46039f"
             ],
             [
              0.2222222222222222,
              "#7201a8"
             ],
             [
              0.3333333333333333,
              "#9c179e"
             ],
             [
              0.4444444444444444,
              "#bd3786"
             ],
             [
              0.5555555555555556,
              "#d8576b"
             ],
             [
              0.6666666666666666,
              "#ed7953"
             ],
             [
              0.7777777777777778,
              "#fb9f3a"
             ],
             [
              0.8888888888888888,
              "#fdca26"
             ],
             [
              1,
              "#f0f921"
             ]
            ],
            "type": "heatmap"
           }
          ],
          "heatmapgl": [
           {
            "colorbar": {
             "outlinewidth": 0,
             "ticks": ""
            },
            "colorscale": [
             [
              0,
              "#0d0887"
             ],
             [
              0.1111111111111111,
              "#46039f"
             ],
             [
              0.2222222222222222,
              "#7201a8"
             ],
             [
              0.3333333333333333,
              "#9c179e"
             ],
             [
              0.4444444444444444,
              "#bd3786"
             ],
             [
              0.5555555555555556,
              "#d8576b"
             ],
             [
              0.6666666666666666,
              "#ed7953"
             ],
             [
              0.7777777777777778,
              "#fb9f3a"
             ],
             [
              0.8888888888888888,
              "#fdca26"
             ],
             [
              1,
              "#f0f921"
             ]
            ],
            "type": "heatmapgl"
           }
          ],
          "histogram": [
           {
            "marker": {
             "pattern": {
              "fillmode": "overlay",
              "size": 10,
              "solidity": 0.2
             }
            },
            "type": "histogram"
           }
          ],
          "histogram2d": [
           {
            "colorbar": {
             "outlinewidth": 0,
             "ticks": ""
            },
            "colorscale": [
             [
              0,
              "#0d0887"
             ],
             [
              0.1111111111111111,
              "#46039f"
             ],
             [
              0.2222222222222222,
              "#7201a8"
             ],
             [
              0.3333333333333333,
              "#9c179e"
             ],
             [
              0.4444444444444444,
              "#bd3786"
             ],
             [
              0.5555555555555556,
              "#d8576b"
             ],
             [
              0.6666666666666666,
              "#ed7953"
             ],
             [
              0.7777777777777778,
              "#fb9f3a"
             ],
             [
              0.8888888888888888,
              "#fdca26"
             ],
             [
              1,
              "#f0f921"
             ]
            ],
            "type": "histogram2d"
           }
          ],
          "histogram2dcontour": [
           {
            "colorbar": {
             "outlinewidth": 0,
             "ticks": ""
            },
            "colorscale": [
             [
              0,
              "#0d0887"
             ],
             [
              0.1111111111111111,
              "#46039f"
             ],
             [
              0.2222222222222222,
              "#7201a8"
             ],
             [
              0.3333333333333333,
              "#9c179e"
             ],
             [
              0.4444444444444444,
              "#bd3786"
             ],
             [
              0.5555555555555556,
              "#d8576b"
             ],
             [
              0.6666666666666666,
              "#ed7953"
             ],
             [
              0.7777777777777778,
              "#fb9f3a"
             ],
             [
              0.8888888888888888,
              "#fdca26"
             ],
             [
              1,
              "#f0f921"
             ]
            ],
            "type": "histogram2dcontour"
           }
          ],
          "mesh3d": [
           {
            "colorbar": {
             "outlinewidth": 0,
             "ticks": ""
            },
            "type": "mesh3d"
           }
          ],
          "parcoords": [
           {
            "line": {
             "colorbar": {
              "outlinewidth": 0,
              "ticks": ""
             }
            },
            "type": "parcoords"
           }
          ],
          "pie": [
           {
            "automargin": true,
            "type": "pie"
           }
          ],
          "scatter": [
           {
            "marker": {
             "colorbar": {
              "outlinewidth": 0,
              "ticks": ""
             }
            },
            "type": "scatter"
           }
          ],
          "scatter3d": [
           {
            "line": {
             "colorbar": {
              "outlinewidth": 0,
              "ticks": ""
             }
            },
            "marker": {
             "colorbar": {
              "outlinewidth": 0,
              "ticks": ""
             }
            },
            "type": "scatter3d"
           }
          ],
          "scattercarpet": [
           {
            "marker": {
             "colorbar": {
              "outlinewidth": 0,
              "ticks": ""
             }
            },
            "type": "scattercarpet"
           }
          ],
          "scattergeo": [
           {
            "marker": {
             "colorbar": {
              "outlinewidth": 0,
              "ticks": ""
             }
            },
            "type": "scattergeo"
           }
          ],
          "scattergl": [
           {
            "marker": {
             "colorbar": {
              "outlinewidth": 0,
              "ticks": ""
             }
            },
            "type": "scattergl"
           }
          ],
          "scattermapbox": [
           {
            "marker": {
             "colorbar": {
              "outlinewidth": 0,
              "ticks": ""
             }
            },
            "type": "scattermapbox"
           }
          ],
          "scatterpolar": [
           {
            "marker": {
             "colorbar": {
              "outlinewidth": 0,
              "ticks": ""
             }
            },
            "type": "scatterpolar"
           }
          ],
          "scatterpolargl": [
           {
            "marker": {
             "colorbar": {
              "outlinewidth": 0,
              "ticks": ""
             }
            },
            "type": "scatterpolargl"
           }
          ],
          "scatterternary": [
           {
            "marker": {
             "colorbar": {
              "outlinewidth": 0,
              "ticks": ""
             }
            },
            "type": "scatterternary"
           }
          ],
          "surface": [
           {
            "colorbar": {
             "outlinewidth": 0,
             "ticks": ""
            },
            "colorscale": [
             [
              0,
              "#0d0887"
             ],
             [
              0.1111111111111111,
              "#46039f"
             ],
             [
              0.2222222222222222,
              "#7201a8"
             ],
             [
              0.3333333333333333,
              "#9c179e"
             ],
             [
              0.4444444444444444,
              "#bd3786"
             ],
             [
              0.5555555555555556,
              "#d8576b"
             ],
             [
              0.6666666666666666,
              "#ed7953"
             ],
             [
              0.7777777777777778,
              "#fb9f3a"
             ],
             [
              0.8888888888888888,
              "#fdca26"
             ],
             [
              1,
              "#f0f921"
             ]
            ],
            "type": "surface"
           }
          ],
          "table": [
           {
            "cells": {
             "fill": {
              "color": "#EBF0F8"
             },
             "line": {
              "color": "white"
             }
            },
            "header": {
             "fill": {
              "color": "#C8D4E3"
             },
             "line": {
              "color": "white"
             }
            },
            "type": "table"
           }
          ]
         },
         "layout": {
          "annotationdefaults": {
           "arrowcolor": "#2a3f5f",
           "arrowhead": 0,
           "arrowwidth": 1
          },
          "autotypenumbers": "strict",
          "coloraxis": {
           "colorbar": {
            "outlinewidth": 0,
            "ticks": ""
           }
          },
          "colorscale": {
           "diverging": [
            [
             0,
             "#8e0152"
            ],
            [
             0.1,
             "#c51b7d"
            ],
            [
             0.2,
             "#de77ae"
            ],
            [
             0.3,
             "#f1b6da"
            ],
            [
             0.4,
             "#fde0ef"
            ],
            [
             0.5,
             "#f7f7f7"
            ],
            [
             0.6,
             "#e6f5d0"
            ],
            [
             0.7,
             "#b8e186"
            ],
            [
             0.8,
             "#7fbc41"
            ],
            [
             0.9,
             "#4d9221"
            ],
            [
             1,
             "#276419"
            ]
           ],
           "sequential": [
            [
             0,
             "#0d0887"
            ],
            [
             0.1111111111111111,
             "#46039f"
            ],
            [
             0.2222222222222222,
             "#7201a8"
            ],
            [
             0.3333333333333333,
             "#9c179e"
            ],
            [
             0.4444444444444444,
             "#bd3786"
            ],
            [
             0.5555555555555556,
             "#d8576b"
            ],
            [
             0.6666666666666666,
             "#ed7953"
            ],
            [
             0.7777777777777778,
             "#fb9f3a"
            ],
            [
             0.8888888888888888,
             "#fdca26"
            ],
            [
             1,
             "#f0f921"
            ]
           ],
           "sequentialminus": [
            [
             0,
             "#0d0887"
            ],
            [
             0.1111111111111111,
             "#46039f"
            ],
            [
             0.2222222222222222,
             "#7201a8"
            ],
            [
             0.3333333333333333,
             "#9c179e"
            ],
            [
             0.4444444444444444,
             "#bd3786"
            ],
            [
             0.5555555555555556,
             "#d8576b"
            ],
            [
             0.6666666666666666,
             "#ed7953"
            ],
            [
             0.7777777777777778,
             "#fb9f3a"
            ],
            [
             0.8888888888888888,
             "#fdca26"
            ],
            [
             1,
             "#f0f921"
            ]
           ]
          },
          "colorway": [
           "#636efa",
           "#EF553B",
           "#00cc96",
           "#ab63fa",
           "#FFA15A",
           "#19d3f3",
           "#FF6692",
           "#B6E880",
           "#FF97FF",
           "#FECB52"
          ],
          "font": {
           "color": "#2a3f5f"
          },
          "geo": {
           "bgcolor": "white",
           "lakecolor": "white",
           "landcolor": "#E5ECF6",
           "showlakes": true,
           "showland": true,
           "subunitcolor": "white"
          },
          "hoverlabel": {
           "align": "left"
          },
          "hovermode": "closest",
          "mapbox": {
           "style": "light"
          },
          "paper_bgcolor": "white",
          "plot_bgcolor": "#E5ECF6",
          "polar": {
           "angularaxis": {
            "gridcolor": "white",
            "linecolor": "white",
            "ticks": ""
           },
           "bgcolor": "#E5ECF6",
           "radialaxis": {
            "gridcolor": "white",
            "linecolor": "white",
            "ticks": ""
           }
          },
          "scene": {
           "xaxis": {
            "backgroundcolor": "#E5ECF6",
            "gridcolor": "white",
            "gridwidth": 2,
            "linecolor": "white",
            "showbackground": true,
            "ticks": "",
            "zerolinecolor": "white"
           },
           "yaxis": {
            "backgroundcolor": "#E5ECF6",
            "gridcolor": "white",
            "gridwidth": 2,
            "linecolor": "white",
            "showbackground": true,
            "ticks": "",
            "zerolinecolor": "white"
           },
           "zaxis": {
            "backgroundcolor": "#E5ECF6",
            "gridcolor": "white",
            "gridwidth": 2,
            "linecolor": "white",
            "showbackground": true,
            "ticks": "",
            "zerolinecolor": "white"
           }
          },
          "shapedefaults": {
           "line": {
            "color": "#2a3f5f"
           }
          },
          "ternary": {
           "aaxis": {
            "gridcolor": "white",
            "linecolor": "white",
            "ticks": ""
           },
           "baxis": {
            "gridcolor": "white",
            "linecolor": "white",
            "ticks": ""
           },
           "bgcolor": "#E5ECF6",
           "caxis": {
            "gridcolor": "white",
            "linecolor": "white",
            "ticks": ""
           }
          },
          "title": {
           "x": 0.05
          },
          "xaxis": {
           "automargin": true,
           "gridcolor": "white",
           "linecolor": "white",
           "ticks": "",
           "title": {
            "standoff": 15
           },
           "zerolinecolor": "white",
           "zerolinewidth": 2
          },
          "yaxis": {
           "automargin": true,
           "gridcolor": "white",
           "linecolor": "white",
           "ticks": "",
           "title": {
            "standoff": 15
           },
           "zerolinecolor": "white",
           "zerolinewidth": 2
          }
         }
        },
        "title": {
         "text": "IDESP X INSE"
        },
        "xaxis": {
         "anchor": "y",
         "domain": [
          0,
          1
         ],
         "title": {
          "text": "Notas IDESP - Ensino Médio"
         }
        },
        "yaxis": {
         "anchor": "x",
         "domain": [
          0,
          1
         ],
         "title": {
          "text": "índice de nível socioeconômico"
         }
        }
       }
      },
      "text/html": [
       "<div>                            <div id=\"2da3f389-f781-4ae0-83c8-f72da77c2a96\" class=\"plotly-graph-div\" style=\"height:525px; width:100%;\"></div>            <script type=\"text/javascript\">                require([\"plotly\"], function(Plotly) {                    window.PLOTLYENV=window.PLOTLYENV || {};                                    if (document.getElementById(\"2da3f389-f781-4ae0-83c8-f72da77c2a96\")) {                    Plotly.newPlot(                        \"2da3f389-f781-4ae0-83c8-f72da77c2a96\",                        [{\"hovertemplate\":\"nivel_socio_economico=%{x}<br>nota_idesp_em=%{y}<extra></extra>\",\"legendgroup\":\"\",\"marker\":{\"color\":\"#636efa\",\"symbol\":\"circle\",\"line\":{\"width\":2},\"size\":8},\"mode\":\"markers\",\"name\":\"\",\"orientation\":\"v\",\"showlegend\":false,\"x\":[4.0,4.19,5.119090909090908,5.6,3.94,4.15,1.66,5.08,5.67,5.39,5.66,5.12,5.56,2.59,5.6,5.175000000000001,6.16,5.81,3.6034999999999995,4.88,4.87,4.195384615384615,3.66,4.6883333333333335,5.573333333333333,5.23,5.3,4.2025,5.28,7.573333333333333,3.65,4.368181818181818,4.775,4.49,5.06,6.06,3.8709375,3.91625,5.91,4.32,6.03,4.21,4.9,4.5616666666666665,4.281666666666667,5.77,4.3116666666666665,4.564,4.965,5.16,6.13,5.0120000000000005,3.76,5.19,4.41,5.28,6.24,6.04,4.0649999999999995,3.5900000000000003,8.453333333333333,8.085,4.3133333333333335,4.625,4.034761904761905,5.736666666666667,4.994285714285715,4.377254901960785,4.972222222222222,5.37,5.1899999999999995,4.89375,3.99,4.792307692307692,5.6933333333333325,5.08,4.1850000000000005,4.955,3.585,4.8999999999999995,7.67,5.46,5.42,6.183333333333334,4.36,4.561538461538461,4.410526315789474,5.37,6.07,4.42,4.695,5.81,4.545,2.92,5.92,4.888333333333333,5.0025,5.874444444444444,5.683333333333334,5.835,5.24,4.189285714285714,5.71,4.245,6.554,4.14,5.81,5.38,3.9148765432098767,4.218333333333334,4.26,5.89,6.405,5.31,5.593333333333334,4.06,5.42,6.205,4.91,4.065,5.053846153846154,4.780877192982456,5.69,5.4471428571428575,5.76,5.220000000000001,4.090999999999999,4.43,4.68,5.109999999999999,2.58,3.98,4.46,5.34,5.33,4.2,4.922,4.835,3.58,5.01,7.04,3.61,4.3340000000000005,4.17,4.392142857142857,4.6875,5.08,4.6,5.0725,4.510909090909091,7.825,3.9499999999999997,4.551754385964912,6.36,4.52,6.896666666666666,5.74,5.57,4.77,4.135,5.42,4.0,5.88,7.580000000000001,4.9350000000000005,4.61,4.89,4.815681818181819,5.64,5.32,6.13,5.055555555555555,5.32,4.48,4.98,6.718000000000001,5.234999999999999,4.864,3.8,6.57,5.038235294117648,4.61,4.73,5.45,5.42,4.48280701754386,5.356470588235294,4.9255555555555555,4.55,5.8,5.32,5.91,5.49,5.62,6.093333333333334,5.38,5.025,5.83,5.296666666666667,4.02,7.958571428571429,5.32,4.8,4.91,5.29,6.635,4.743333333333333,5.043333333333334,4.74,5.824999999999999,5.245,5.245454545454545,4.818720930232558,3.7,6.44,6.119999999999999,2.83,4.1732,4.73,6.645,5.765000000000001,5.1433333333333335,4.06,5.2,4.73375,5.933076923076923,5.06,4.81,5.23,4.67,4.46,6.397,4.373333333333334,4.15,4.153333333333333,3.767142857142857,5.11,5.36,5.02,4.81,4.755,4.49,4.76,7.03,5.43,3.6833333333333336,5.14,5.32,7.638181818181818,6.68,4.51,4.7,4.77625,8.563333333333333,4.972903225806451,5.5807692307692305,6.566,5.000454545454546,4.39875,8.515,5.988,7.09,4.8,5.37,5.74952380952381,6.195714285714287,7.075,3.065,5.515000000000001,3.26,6.25,7.05,3.9523529411764704,3.9659999999999997,4.35,5.47,4.233333333333333,5.074827586206896,4.49,5.876666666666666,2.85,4.398333333333333,4.37,4.696666666666667,4.5600000000000005,4.9375,4.201428571428571,4.98,4.25,5.28,4.794,6.21,3.73,3.473888888888889,4.71,6.662000000000001,6.424000000000001,6.41,4.744999999999999,4.61,5.73,4.9750000000000005,4.073333333333333,4.087,3.04,4.86,5.3,5.45,3.99,5.025,5.62,3.22,6.07,5.925000000000001,5.03,4.79,5.324999999999999,5.32,5.17,4.18,4.707857142857143,4.83,5.66,5.575,4.06,5.37,4.3838888888888885,5.38,4.916666666666667,5.152941176470588,4.7109523809523814,4.44,4.86,4.96,5.4,4.61,7.092499999999999,5.18,4.716666666666666,6.708333333333333,3.8240000000000003,4.74,5.343,4.942372881355933,4.215199999999999,3.8880000000000003,5.19,4.74,4.496666666666667,2.57,3.7733333333333334,4.05,4.4350000000000005,5.97,5.94,4.578571428571428,5.359999999999999,3.41,4.47,4.73,5.44,4.99,7.5649999999999995,5.859999999999999,4.33,4.925,5.16,4.02,6.6899999999999995,5.93,5.25,5.44,5.6899999999999995,6.09,5.19,5.03,5.38,3.4883333333333333,4.75,4.3,5.95,5.15,4.783333333333333,4.8,5.22,4.49,3.83,4.277692307692307,4.63,4.755,4.797142857142857,4.7,5.79,4.89,3.98,4.7,5.39,5.193333333333333,5.24,4.533333333333333,6.045,3.55,4.970000000000001,5.58,5.52,4.62,6.6525,5.39,5.05,5.86,3.52,5.62,5.68,5.66,4.99,5.29,4.6025,4.33,4.2,6.32,4.942222222222222,4.966666666666666,5.07,5.558888888888889,5.34,6.265,5.922499999999999,4.748484848484848,4.67,3.07,5.69,5.455,4.775,3.7375862068965517,4.818333333333333,4.66,4.77,4.62,5.0075,4.04,4.85,5.575,5.52,5.9,4.665294117647059,4.675,4.33,4.82,5.93,6.04,4.96,5.97,5.46,4.279999999999999,5.166666666666667,6.07,3.64,5.76,3.72,4.248695652173913,5.6,5.975,3.66,5.772,4.168461538461538,4.3675,5.385,5.49,5.43,6.2,6.36,5.43,4.22,4.948,5.94,4.756666666666667,5.2,6.5661538461538465,4.68,7.1899999999999995,5.56,7.875,5.82,5.12,6.03,7.17,4.240344827586207,4.480434782608695,7.055,3.9,5.51,5.79,4.044,4.41,5.534545454545455,6.755,5.9557142857142855,4.59,5.58,3.94,5.42,5.76,4.61,4.42,5.2299999999999995,6.09,3.1,4.245882352941177,6.08875,5.33,5.17,3.88,5.43,3.6958823529411764,4.37,4.96,3.74,5.29,5.6275,4.706666666666667,5.09,3.61,3.94,4.885555555555555,5.45,4.655,5.88,4.81,4.64,4.335,4.5675,4.23,4.925,3.557701149425287,5.99,3.96,4.355,4.92,4.49,5.1,4.99,3.1429166666666664,5.155,3.4794366197183098,1.9129999999999998,3.954411764705882,5.57,4.6018181818181825,5.22,5.71,4.73,5.331111111111111,6.14,5.24,4.9911111111111115,3.7565789473684212,4.446933333333333,5.1433333333333335,5.49,4.942,5.9816666666666665,4.172730627306273,4.253333333333333,6.1,4.135,3.9850000000000003,5.895,4.98,4.428571428571429,6.425,6.44,4.3,5.51,5.09,5.428571428571429,4.452222222222222,6.596666666666667,4.26,5.84,5.543333333333333,4.176785714285715,4.52,4.364444444444445,5.1802222222222225,5.74,4.36,5.890000000000001,3.895925925925926,5.14,6.13,5.7,4.95,5.216666666666667,4.645,5.875,5.34,5.83,5.046,6.936,5.69,5.78,4.78,4.373333333333333,3.9204999999999997,6.654999999999999,6.327142857142857,5.11,3.11,5.56,5.21,4.46,4.79,4.093333333333333,5.36,3.82,5.220909090909091,3.82,4.93,4.86,4.31,5.568181818181818,5.68,4.18,5.67,5.936666666666667,5.51,4.29,4.69,2.7457142857142856,5.353333333333333,4.32,5.154,4.4975000000000005,4.390909090909091,5.035,3.063333333333333,4.68,4.66,6.6,4.268461538461539,4.268888888888889,4.45,5.02,3.86],\"xaxis\":\"x\",\"y\":[2.25,3.17,2.436666666666667,3.11,3.63,3.18,3.29,2.4366666666666665,2.02,3.36,2.12,2.35,2.25,2.6,2.96,1.94,1.02,3.01,2.9269565217391302,2.6033333333333335,1.73,3.19,1.72,3.0866666666666664,3.805,1.54,2.39,3.0949999999999998,3.78,2.861111111111111,2.37,2.6989473684210528,2.94,1.57,1.97,2.32,2.7536842105263157,2.75625,2.1,3.32,2.48,2.42,4.68,2.962,2.412,3.75,2.841666666666667,2.6471428571428572,2.925,2.32,2.83,2.5171428571428573,2.75,3.07,3.29,2.66,3.24,1.78,3.335,2.8324999999999996,2.6466666666666665,2.585,2.798,2.875,2.623333333333333,2.9166666666666665,2.998,2.257096774193548,2.7933333333333334,2.61,3.245,2.2728571428571427,3.38,2.8572727272727274,2.565,1.81,2.415,3.08,2.055,3.11,3.56,4.15,3.55,2.33,1.91,2.1908333333333334,2.9566666666666666,3.05,1.89,2.15,2.295,2.89,3.385,3.39,1.84,2.4633333333333334,2.3241666666666667,2.25875,2.4233333333333333,1.7700000000000002,2.19,2.4263636363636363,1.98,2.341666666666667,2.62,2.88,2.21,2.72,2.4810416666666666,2.7366666666666664,3.13,3.27,2.8825,2.25,2.6725,3.33,2.49,3.955,2.69,2.6550000000000002,2.863076923076923,2.129285714285714,3.11,2.31,3.01,2.67,2.855,2.42,3.09,3.135,2.6799999999999997,2.45,2.815,3.02,2.02,2.56,3.168,2.26,2.936666666666667,3.1,2.63,3.15,3.468,2.66,2.428095238095238,2.98,2.4,3.04,2.4875,2.607142857142857,2.8449999999999998,3.17,2.442,2.97,3.34,3.51,2.24,2.65,2.59,2.9575,2.18,2.4,1.92,2.795,2.57,2.75,2.94,2.4821874999999998,2.5060000000000002,2.85,2.54,2.58,3.54,2.98,3.58,3.1380000000000003,3.955,2.989,3.67,3.67,2.01875,3.1,4.25,2.42,3.73,2.4847222222222225,2.1129411764705885,1.88875,5.0,2.11,2.132,4.96,3.62,3.48,1.77,2.05,2.17,2.02,2.9599999999999995,3.39,2.3685714285714283,2.11,1.87,1.89,2.71,1.39,3.0966666666666662,2.5,2.4683333333333333,2.71,2.33,2.2263157894736842,2.263333333333333,3.17,3.1,2.49,2.48,2.5760869565217392,2.66,2.79,2.85,2.558333333333333,3.04,2.04,2.894,2.7489999999999997,2.61,2.42,1.8199999999999998,1.85,2.47,2.9579999999999997,2.5733333333333337,2.6,2.8,2.994736842105263,2.75,2.08,2.3,2.8,2.565,2.52,2.42,2.42,2.84,3.085,2.5,2.32,2.68,2.486666666666667,3.26,2.82,2.25375,3.126666666666667,2.715217391304348,2.7027777777777775,3.108,2.141363636363636,2.7114285714285713,3.165,3.2649999999999997,2.813333333333333,2.68,2.23,2.09125,1.9942857142857144,2.04,3.3775000000000004,2.9050000000000002,2.46,1.84,1.65,2.8975,2.596,2.19,2.22,2.8033333333333332,2.4619999999999997,2.2,2.89,3.2699999999999996,3.368,3.11,2.5021428571428572,2.825,2.8975,2.465384615384615,1.71,3.39,2.53,2.975,1.14,3.86,3.043235294117647,3.34,3.0140000000000002,2.876666666666667,3.58,3.08,3.98,2.0250000000000004,2.431111111111111,3.1266666666666665,2.747,3.14,2.0425,2.1599999999999997,3.96,2.7099999999999995,2.03,2.66,2.21,2.82,2.55,3.75,2.7466666666666666,5.46,3.09,3.58,3.4625,2.290833333333333,2.19,3.0,3.11,3.31,2.27,2.508,3.71,2.59,3.1671428571428573,2.470666666666667,4.01,2.58,3.8,3.05,3.46,2.57125,4.55,2.856666666666667,2.768333333333333,3.3840000000000003,3.2,2.125,2.479268292682927,2.9939999999999998,2.52125,3.72,4.45,1.8866666666666667,3.53,2.1733333333333333,2.66,3.2,2.73,2.96,2.7085714285714286,2.465,3.09,3.63,2.81,2.83,3.22,2.16,3.122,2.68,2.57,3.03,3.37,2.135,2.33,3.03,2.33,1.94,3.61,3.55,2.74,4.06,2.4616666666666664,3.1566666666666667,3.95,2.44,2.48,3.2257142857142855,2.91,2.01,3.2,2.33,2.136470588235294,2.53,2.4775,2.7716666666666665,3.11,3.04,2.18,3.13,3.2,3.14,1.95,2.85,2.73,3.043333333333333,2.48,2.38,3.75,2.09,2.23,2.856666666666667,1.49,2.85,2.43,3.16,1.76,2.95,2.5042857142857144,3.19,2.08,2.1733333333333333,2.245,3.01,2.45,2.7399999999999998,3.715,2.6,2.6625,4.44,2.965,3.5100000000000002,2.8030434782608693,2.76,2.71,2.83,2.935,3.393333333333333,2.8892105263157895,2.9299999999999997,4.365,3.91,2.13,2.7575,2.555,1.42,2.7325,2.1,1.41,2.582941176470588,4.23,2.105,4.42,3.145,2.76,1.76,4.98,2.97,2.618,2.8666666666666667,2.29,3.21,1.85,2.82,2.6652173913043478,2.56,2.41,2.09,3.0025,2.274285714285714,2.763333333333333,2.4074999999999998,4.13,1.5,1.78,2.3,2.45,2.59,2.48,2.44,2.645,1.55,2.752,2.17,2.295,2.06,2.8066666666666666,3.06,3.09,2.19,3.435,2.75,2.5308571428571427,3.29,2.7,2.3,1.85,2.366,2.9699999999999998,2.533333333333333,1.54,2.83,2.36,4.07,3.36,2.14,2.57,3.3,2.42,2.8600000000000003,2.2,3.39,2.749,2.5425,2.26,2.98,6.0,3.07,2.65,2.38,2.31,2.26,3.9,2.33,3.0,4.84,3.02,3.185,2.57125,1.37,3.885,1.88,3.86,3.94,2.685,2.74,3.09,2.465,2.498727272727273,3.07,2.69,2.88,3.965,3.64,2.1,4.65,3.08,3.58,2.6281967213114754,3.07,2.715263157894737,4.09,2.778,2.98,3.44,3.24,2.08,1.94,2.94,2.7,2.938928571428572,2.9065957446808515,2.966666666666667,3.15,2.948,3.033333333333333,2.174316309719934,3.1266666666666665,2.86,2.3850000000000002,2.76625,2.94,2.0700000000000003,2.486842105263158,2.45,1.93,5.42,2.43,2.1966666666666668,3.15,3.4244444444444446,2.675,2.7,3.23,2.908333333333333,2.5903508771929826,4.0,2.930869565217391,2.2714285714285714,3.36,3.79,2.8600000000000003,2.718461538461539,2.66,2.73,2.93,3.04,2.395,3.35,2.46,1.99,2.37,2.973333333333333,3.136,3.32,2.19,2.4466666666666668,2.4266666666666667,3.0795,2.5300000000000002,3.6699999999999995,2.48,2.27,3.06,3.75,2.63,4.5,2.5333333333333337,2.93,3.05,2.168,2.9,3.64,2.4,2.79,2.17,1.6,3.62,3.28,2.91,1.95,2.33,2.74,3.1671428571428573,2.88,2.41,2.355,2.47125,2.554,2.65,2.86,3.27,4.92,3.13,2.7546153846153847,2.41375,2.65,2.56,3.56],\"yaxis\":\"y\",\"type\":\"scatter\"}],                        {\"template\":{\"data\":{\"bar\":[{\"error_x\":{\"color\":\"#2a3f5f\"},\"error_y\":{\"color\":\"#2a3f5f\"},\"marker\":{\"line\":{\"color\":\"#E5ECF6\",\"width\":0.5},\"pattern\":{\"fillmode\":\"overlay\",\"size\":10,\"solidity\":0.2}},\"type\":\"bar\"}],\"barpolar\":[{\"marker\":{\"line\":{\"color\":\"#E5ECF6\",\"width\":0.5},\"pattern\":{\"fillmode\":\"overlay\",\"size\":10,\"solidity\":0.2}},\"type\":\"barpolar\"}],\"carpet\":[{\"aaxis\":{\"endlinecolor\":\"#2a3f5f\",\"gridcolor\":\"white\",\"linecolor\":\"white\",\"minorgridcolor\":\"white\",\"startlinecolor\":\"#2a3f5f\"},\"baxis\":{\"endlinecolor\":\"#2a3f5f\",\"gridcolor\":\"white\",\"linecolor\":\"white\",\"minorgridcolor\":\"white\",\"startlinecolor\":\"#2a3f5f\"},\"type\":\"carpet\"}],\"choropleth\":[{\"colorbar\":{\"outlinewidth\":0,\"ticks\":\"\"},\"type\":\"choropleth\"}],\"contour\":[{\"colorbar\":{\"outlinewidth\":0,\"ticks\":\"\"},\"colorscale\":[[0.0,\"#0d0887\"],[0.1111111111111111,\"#46039f\"],[0.2222222222222222,\"#7201a8\"],[0.3333333333333333,\"#9c179e\"],[0.4444444444444444,\"#bd3786\"],[0.5555555555555556,\"#d8576b\"],[0.6666666666666666,\"#ed7953\"],[0.7777777777777778,\"#fb9f3a\"],[0.8888888888888888,\"#fdca26\"],[1.0,\"#f0f921\"]],\"type\":\"contour\"}],\"contourcarpet\":[{\"colorbar\":{\"outlinewidth\":0,\"ticks\":\"\"},\"type\":\"contourcarpet\"}],\"heatmap\":[{\"colorbar\":{\"outlinewidth\":0,\"ticks\":\"\"},\"colorscale\":[[0.0,\"#0d0887\"],[0.1111111111111111,\"#46039f\"],[0.2222222222222222,\"#7201a8\"],[0.3333333333333333,\"#9c179e\"],[0.4444444444444444,\"#bd3786\"],[0.5555555555555556,\"#d8576b\"],[0.6666666666666666,\"#ed7953\"],[0.7777777777777778,\"#fb9f3a\"],[0.8888888888888888,\"#fdca26\"],[1.0,\"#f0f921\"]],\"type\":\"heatmap\"}],\"heatmapgl\":[{\"colorbar\":{\"outlinewidth\":0,\"ticks\":\"\"},\"colorscale\":[[0.0,\"#0d0887\"],[0.1111111111111111,\"#46039f\"],[0.2222222222222222,\"#7201a8\"],[0.3333333333333333,\"#9c179e\"],[0.4444444444444444,\"#bd3786\"],[0.5555555555555556,\"#d8576b\"],[0.6666666666666666,\"#ed7953\"],[0.7777777777777778,\"#fb9f3a\"],[0.8888888888888888,\"#fdca26\"],[1.0,\"#f0f921\"]],\"type\":\"heatmapgl\"}],\"histogram\":[{\"marker\":{\"pattern\":{\"fillmode\":\"overlay\",\"size\":10,\"solidity\":0.2}},\"type\":\"histogram\"}],\"histogram2d\":[{\"colorbar\":{\"outlinewidth\":0,\"ticks\":\"\"},\"colorscale\":[[0.0,\"#0d0887\"],[0.1111111111111111,\"#46039f\"],[0.2222222222222222,\"#7201a8\"],[0.3333333333333333,\"#9c179e\"],[0.4444444444444444,\"#bd3786\"],[0.5555555555555556,\"#d8576b\"],[0.6666666666666666,\"#ed7953\"],[0.7777777777777778,\"#fb9f3a\"],[0.8888888888888888,\"#fdca26\"],[1.0,\"#f0f921\"]],\"type\":\"histogram2d\"}],\"histogram2dcontour\":[{\"colorbar\":{\"outlinewidth\":0,\"ticks\":\"\"},\"colorscale\":[[0.0,\"#0d0887\"],[0.1111111111111111,\"#46039f\"],[0.2222222222222222,\"#7201a8\"],[0.3333333333333333,\"#9c179e\"],[0.4444444444444444,\"#bd3786\"],[0.5555555555555556,\"#d8576b\"],[0.6666666666666666,\"#ed7953\"],[0.7777777777777778,\"#fb9f3a\"],[0.8888888888888888,\"#fdca26\"],[1.0,\"#f0f921\"]],\"type\":\"histogram2dcontour\"}],\"mesh3d\":[{\"colorbar\":{\"outlinewidth\":0,\"ticks\":\"\"},\"type\":\"mesh3d\"}],\"parcoords\":[{\"line\":{\"colorbar\":{\"outlinewidth\":0,\"ticks\":\"\"}},\"type\":\"parcoords\"}],\"pie\":[{\"automargin\":true,\"type\":\"pie\"}],\"scatter\":[{\"marker\":{\"colorbar\":{\"outlinewidth\":0,\"ticks\":\"\"}},\"type\":\"scatter\"}],\"scatter3d\":[{\"line\":{\"colorbar\":{\"outlinewidth\":0,\"ticks\":\"\"}},\"marker\":{\"colorbar\":{\"outlinewidth\":0,\"ticks\":\"\"}},\"type\":\"scatter3d\"}],\"scattercarpet\":[{\"marker\":{\"colorbar\":{\"outlinewidth\":0,\"ticks\":\"\"}},\"type\":\"scattercarpet\"}],\"scattergeo\":[{\"marker\":{\"colorbar\":{\"outlinewidth\":0,\"ticks\":\"\"}},\"type\":\"scattergeo\"}],\"scattergl\":[{\"marker\":{\"colorbar\":{\"outlinewidth\":0,\"ticks\":\"\"}},\"type\":\"scattergl\"}],\"scattermapbox\":[{\"marker\":{\"colorbar\":{\"outlinewidth\":0,\"ticks\":\"\"}},\"type\":\"scattermapbox\"}],\"scatterpolar\":[{\"marker\":{\"colorbar\":{\"outlinewidth\":0,\"ticks\":\"\"}},\"type\":\"scatterpolar\"}],\"scatterpolargl\":[{\"marker\":{\"colorbar\":{\"outlinewidth\":0,\"ticks\":\"\"}},\"type\":\"scatterpolargl\"}],\"scatterternary\":[{\"marker\":{\"colorbar\":{\"outlinewidth\":0,\"ticks\":\"\"}},\"type\":\"scatterternary\"}],\"surface\":[{\"colorbar\":{\"outlinewidth\":0,\"ticks\":\"\"},\"colorscale\":[[0.0,\"#0d0887\"],[0.1111111111111111,\"#46039f\"],[0.2222222222222222,\"#7201a8\"],[0.3333333333333333,\"#9c179e\"],[0.4444444444444444,\"#bd3786\"],[0.5555555555555556,\"#d8576b\"],[0.6666666666666666,\"#ed7953\"],[0.7777777777777778,\"#fb9f3a\"],[0.8888888888888888,\"#fdca26\"],[1.0,\"#f0f921\"]],\"type\":\"surface\"}],\"table\":[{\"cells\":{\"fill\":{\"color\":\"#EBF0F8\"},\"line\":{\"color\":\"white\"}},\"header\":{\"fill\":{\"color\":\"#C8D4E3\"},\"line\":{\"color\":\"white\"}},\"type\":\"table\"}]},\"layout\":{\"annotationdefaults\":{\"arrowcolor\":\"#2a3f5f\",\"arrowhead\":0,\"arrowwidth\":1},\"autotypenumbers\":\"strict\",\"coloraxis\":{\"colorbar\":{\"outlinewidth\":0,\"ticks\":\"\"}},\"colorscale\":{\"diverging\":[[0,\"#8e0152\"],[0.1,\"#c51b7d\"],[0.2,\"#de77ae\"],[0.3,\"#f1b6da\"],[0.4,\"#fde0ef\"],[0.5,\"#f7f7f7\"],[0.6,\"#e6f5d0\"],[0.7,\"#b8e186\"],[0.8,\"#7fbc41\"],[0.9,\"#4d9221\"],[1,\"#276419\"]],\"sequential\":[[0.0,\"#0d0887\"],[0.1111111111111111,\"#46039f\"],[0.2222222222222222,\"#7201a8\"],[0.3333333333333333,\"#9c179e\"],[0.4444444444444444,\"#bd3786\"],[0.5555555555555556,\"#d8576b\"],[0.6666666666666666,\"#ed7953\"],[0.7777777777777778,\"#fb9f3a\"],[0.8888888888888888,\"#fdca26\"],[1.0,\"#f0f921\"]],\"sequentialminus\":[[0.0,\"#0d0887\"],[0.1111111111111111,\"#46039f\"],[0.2222222222222222,\"#7201a8\"],[0.3333333333333333,\"#9c179e\"],[0.4444444444444444,\"#bd3786\"],[0.5555555555555556,\"#d8576b\"],[0.6666666666666666,\"#ed7953\"],[0.7777777777777778,\"#fb9f3a\"],[0.8888888888888888,\"#fdca26\"],[1.0,\"#f0f921\"]]},\"colorway\":[\"#636efa\",\"#EF553B\",\"#00cc96\",\"#ab63fa\",\"#FFA15A\",\"#19d3f3\",\"#FF6692\",\"#B6E880\",\"#FF97FF\",\"#FECB52\"],\"font\":{\"color\":\"#2a3f5f\"},\"geo\":{\"bgcolor\":\"white\",\"lakecolor\":\"white\",\"landcolor\":\"#E5ECF6\",\"showlakes\":true,\"showland\":true,\"subunitcolor\":\"white\"},\"hoverlabel\":{\"align\":\"left\"},\"hovermode\":\"closest\",\"mapbox\":{\"style\":\"light\"},\"paper_bgcolor\":\"white\",\"plot_bgcolor\":\"#E5ECF6\",\"polar\":{\"angularaxis\":{\"gridcolor\":\"white\",\"linecolor\":\"white\",\"ticks\":\"\"},\"bgcolor\":\"#E5ECF6\",\"radialaxis\":{\"gridcolor\":\"white\",\"linecolor\":\"white\",\"ticks\":\"\"}},\"scene\":{\"xaxis\":{\"backgroundcolor\":\"#E5ECF6\",\"gridcolor\":\"white\",\"gridwidth\":2,\"linecolor\":\"white\",\"showbackground\":true,\"ticks\":\"\",\"zerolinecolor\":\"white\"},\"yaxis\":{\"backgroundcolor\":\"#E5ECF6\",\"gridcolor\":\"white\",\"gridwidth\":2,\"linecolor\":\"white\",\"showbackground\":true,\"ticks\":\"\",\"zerolinecolor\":\"white\"},\"zaxis\":{\"backgroundcolor\":\"#E5ECF6\",\"gridcolor\":\"white\",\"gridwidth\":2,\"linecolor\":\"white\",\"showbackground\":true,\"ticks\":\"\",\"zerolinecolor\":\"white\"}},\"shapedefaults\":{\"line\":{\"color\":\"#2a3f5f\"}},\"ternary\":{\"aaxis\":{\"gridcolor\":\"white\",\"linecolor\":\"white\",\"ticks\":\"\"},\"baxis\":{\"gridcolor\":\"white\",\"linecolor\":\"white\",\"ticks\":\"\"},\"bgcolor\":\"#E5ECF6\",\"caxis\":{\"gridcolor\":\"white\",\"linecolor\":\"white\",\"ticks\":\"\"}},\"title\":{\"x\":0.05},\"xaxis\":{\"automargin\":true,\"gridcolor\":\"white\",\"linecolor\":\"white\",\"ticks\":\"\",\"title\":{\"standoff\":15},\"zerolinecolor\":\"white\",\"zerolinewidth\":2},\"yaxis\":{\"automargin\":true,\"gridcolor\":\"white\",\"linecolor\":\"white\",\"ticks\":\"\",\"title\":{\"standoff\":15},\"zerolinecolor\":\"white\",\"zerolinewidth\":2}}},\"xaxis\":{\"anchor\":\"y\",\"domain\":[0.0,1.0],\"title\":{\"text\":\"Notas IDESP - Ensino M\\u00e9dio\"}},\"yaxis\":{\"anchor\":\"x\",\"domain\":[0.0,1.0],\"title\":{\"text\":\"\\u00edndice de n\\u00edvel socioecon\\u00f4mico\"}},\"legend\":{\"tracegroupgap\":0},\"margin\":{\"t\":60},\"title\":{\"text\":\"IDESP X INSE\"}},                        {\"responsive\": true}                    ).then(function(){\n",
       "                            \n",
       "var gd = document.getElementById('2da3f389-f781-4ae0-83c8-f72da77c2a96');\n",
       "var x = new MutationObserver(function (mutations, observer) {{\n",
       "        var display = window.getComputedStyle(gd).display;\n",
       "        if (!display || display === 'none') {{\n",
       "            console.log([gd, 'removed!']);\n",
       "            Plotly.purge(gd);\n",
       "            observer.disconnect();\n",
       "        }}\n",
       "}});\n",
       "\n",
       "// Listen for the removal of the full notebook cells\n",
       "var notebookContainer = gd.closest('#notebook-container');\n",
       "if (notebookContainer) {{\n",
       "    x.observe(notebookContainer, {childList: true});\n",
       "}}\n",
       "\n",
       "// Listen for the clearing of the current output cell\n",
       "var outputEl = gd.closest('.output');\n",
       "if (outputEl) {{\n",
       "    x.observe(outputEl, {childList: true});\n",
       "}}\n",
       "\n",
       "                        })                };                });            </script>        </div>"
      ]
     },
     "metadata": {},
     "output_type": "display_data"
    }
   ],
   "source": [
    "fig=px.scatter(IDESP_INSE, x = \"nivel_socio_economico\", y = \"nota_idesp_em\")\n",
    "fig.update_traces(marker=dict(size = 8,line = dict(width = 2)),selector=dict(mode = 'markers'))\n",
    "fig.update_layout(title = 'IDESP X INSE')\n",
    "fig.update_xaxes(title = 'Notas IDESP - Ensino Médio')\n",
    "fig.update_yaxes(title = 'índice de nível socioeconômico')\n",
    "fig.show()"
   ]
  },
  {
   "cell_type": "code",
   "execution_count": null,
   "id": "2eefaf37",
   "metadata": {},
   "outputs": [],
   "source": []
  }
 ],
 "metadata": {
  "kernelspec": {
   "display_name": "Python 3 (ipykernel)",
   "language": "python",
   "name": "python3"
  },
  "language_info": {
   "codemirror_mode": {
    "name": "ipython",
    "version": 3
   },
   "file_extension": ".py",
   "mimetype": "text/x-python",
   "name": "python",
   "nbconvert_exporter": "python",
   "pygments_lexer": "ipython3",
   "version": "3.9.7"
  }
 },
 "nbformat": 4,
 "nbformat_minor": 5
}
