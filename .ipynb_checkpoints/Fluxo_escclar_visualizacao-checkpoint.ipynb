{
 "cells": [
  {
   "cell_type": "code",
   "execution_count": 1,
   "id": "dd5163f8",
   "metadata": {},
   "outputs": [],
   "source": [
    "!pip install -q -U pymysql sqlalchemy"
   ]
  },
  {
   "cell_type": "code",
   "execution_count": 6,
   "id": "4855dacc",
   "metadata": {},
   "outputs": [
    {
     "name": "stdout",
     "output_type": "stream",
     "text": [
      "Collecting plotly.express\n",
      "  Downloading plotly_express-0.4.1-py2.py3-none-any.whl (2.9 kB)\n",
      "Requirement already satisfied: numpy>=1.11 in c:\\users\\pichau\\anaconda3\\envs\\geo_env\\lib\\site-packages (from plotly.express) (1.21.4)\n",
      "Collecting plotly>=4.1.0\n",
      "  Downloading plotly-5.4.0-py2.py3-none-any.whl (25.3 MB)\n",
      "Collecting patsy>=0.5\n",
      "  Downloading patsy-0.5.2-py2.py3-none-any.whl (233 kB)\n",
      "Requirement already satisfied: pandas>=0.20.0 in c:\\users\\pichau\\anaconda3\\envs\\geo_env\\lib\\site-packages (from plotly.express) (1.3.4)\n",
      "Requirement already satisfied: scipy>=0.18 in c:\\users\\pichau\\anaconda3\\envs\\geo_env\\lib\\site-packages (from plotly.express) (1.7.1)\n",
      "Collecting statsmodels>=0.9.0\n",
      "  Downloading statsmodels-0.13.1-cp39-none-win_amd64.whl (9.4 MB)\n",
      "Requirement already satisfied: pytz>=2017.3 in c:\\users\\pichau\\anaconda3\\envs\\geo_env\\lib\\site-packages (from pandas>=0.20.0->plotly.express) (2021.3)\n",
      "Requirement already satisfied: python-dateutil>=2.7.3 in c:\\users\\pichau\\anaconda3\\envs\\geo_env\\lib\\site-packages (from pandas>=0.20.0->plotly.express) (2.8.2)\n",
      "Requirement already satisfied: six in c:\\users\\pichau\\anaconda3\\envs\\geo_env\\lib\\site-packages (from patsy>=0.5->plotly.express) (1.16.0)\n",
      "Collecting tenacity>=6.2.0\n",
      "  Using cached tenacity-8.0.1-py3-none-any.whl (24 kB)\n",
      "Installing collected packages: tenacity, patsy, statsmodels, plotly, plotly.express\n",
      "Successfully installed patsy-0.5.2 plotly-5.4.0 plotly.express-0.4.1 statsmodels-0.13.1 tenacity-8.0.1\n"
     ]
    }
   ],
   "source": [
    "!pip install plotly.express"
   ]
  },
  {
   "cell_type": "code",
   "execution_count": null,
   "id": "7d917a97",
   "metadata": {},
   "outputs": [],
   "source": [
    "import os\n",
    "import sys\n",
    "import time\n",
    "import datetime\n",
    "import numpy as np\n",
    "import pandas as pd\n",
    "import pathlib\n",
    "import getpass\n",
    "import geopandas as gpd\n",
    "import geoplot.crs as gcrs\n",
    "import geoplot as gplt\n",
    "import matplotlib.pyplot as plt\n",
    "import matplotlib as ptl\n",
    "import pymysql\n",
    "import plotly.express as px\n"
   ]
  },
  {
   "cell_type": "code",
   "execution_count": null,
   "id": "80cf7b9b",
   "metadata": {},
   "outputs": [],
   "source": [
    "import geoplot.crs as gcrs\n",
    "import contextily as ctx\n",
    "from cartopy import crs as ccrs"
   ]
  },
  {
   "cell_type": "code",
   "execution_count": 116,
   "id": "38da6ad5",
   "metadata": {},
   "outputs": [
    {
     "data": {
      "text/html": [
       "<div>\n",
       "<style scoped>\n",
       "    .dataframe tbody tr th:only-of-type {\n",
       "        vertical-align: middle;\n",
       "    }\n",
       "\n",
       "    .dataframe tbody tr th {\n",
       "        vertical-align: top;\n",
       "    }\n",
       "\n",
       "    .dataframe thead th {\n",
       "        text-align: right;\n",
       "    }\n",
       "</style>\n",
       "<table border=\"1\" class=\"dataframe\">\n",
       "  <thead>\n",
       "    <tr style=\"text-align: right;\">\n",
       "      <th></th>\n",
       "      <th>id</th>\n",
       "      <th>name</th>\n",
       "      <th>description</th>\n",
       "      <th>geometry</th>\n",
       "    </tr>\n",
       "  </thead>\n",
       "  <tbody>\n",
       "    <tr>\n",
       "      <th>0</th>\n",
       "      <td>3500105</td>\n",
       "      <td>Adamantina</td>\n",
       "      <td>Adamantina</td>\n",
       "      <td>POLYGON ((-51.05787 -21.39888, -51.05365 -21.4...</td>\n",
       "    </tr>\n",
       "    <tr>\n",
       "      <th>1</th>\n",
       "      <td>3500204</td>\n",
       "      <td>Adolfo</td>\n",
       "      <td>Adolfo</td>\n",
       "      <td>POLYGON ((-49.65478 -21.20607, -49.63847 -21.2...</td>\n",
       "    </tr>\n",
       "    <tr>\n",
       "      <th>2</th>\n",
       "      <td>3500303</td>\n",
       "      <td>Aguaí</td>\n",
       "      <td>Aguaí</td>\n",
       "      <td>POLYGON ((-47.20890 -21.97129, -47.20297 -21.9...</td>\n",
       "    </tr>\n",
       "    <tr>\n",
       "      <th>3</th>\n",
       "      <td>3500402</td>\n",
       "      <td>Águas da Prata</td>\n",
       "      <td>Águas da Prata</td>\n",
       "      <td>POLYGON ((-46.70755 -21.82895, -46.70380 -21.8...</td>\n",
       "    </tr>\n",
       "    <tr>\n",
       "      <th>4</th>\n",
       "      <td>3500501</td>\n",
       "      <td>Águas de Lindóia</td>\n",
       "      <td>Águas de Lindóia</td>\n",
       "      <td>POLYGON ((-46.61147 -22.43496, -46.60302 -22.4...</td>\n",
       "    </tr>\n",
       "    <tr>\n",
       "      <th>...</th>\n",
       "      <td>...</td>\n",
       "      <td>...</td>\n",
       "      <td>...</td>\n",
       "      <td>...</td>\n",
       "    </tr>\n",
       "    <tr>\n",
       "      <th>640</th>\n",
       "      <td>3557006</td>\n",
       "      <td>Votorantim</td>\n",
       "      <td>Votorantim</td>\n",
       "      <td>POLYGON ((-47.37268 -23.51783, -47.37047 -23.5...</td>\n",
       "    </tr>\n",
       "    <tr>\n",
       "      <th>641</th>\n",
       "      <td>3557105</td>\n",
       "      <td>Votuporanga</td>\n",
       "      <td>Votuporanga</td>\n",
       "      <td>POLYGON ((-50.02073 -20.33347, -50.01275 -20.3...</td>\n",
       "    </tr>\n",
       "    <tr>\n",
       "      <th>642</th>\n",
       "      <td>3557154</td>\n",
       "      <td>Zacarias</td>\n",
       "      <td>Zacarias</td>\n",
       "      <td>POLYGON ((-49.99521 -21.03253, -49.98434 -21.0...</td>\n",
       "    </tr>\n",
       "    <tr>\n",
       "      <th>643</th>\n",
       "      <td>3557204</td>\n",
       "      <td>Chavantes</td>\n",
       "      <td>Chavantes</td>\n",
       "      <td>POLYGON ((-49.68539 -22.94866, -49.68396 -22.9...</td>\n",
       "    </tr>\n",
       "    <tr>\n",
       "      <th>644</th>\n",
       "      <td>3557303</td>\n",
       "      <td>Estiva Gerbi</td>\n",
       "      <td>Estiva Gerbi</td>\n",
       "      <td>POLYGON ((-46.91399 -22.19933, -46.91221 -22.2...</td>\n",
       "    </tr>\n",
       "  </tbody>\n",
       "</table>\n",
       "<p>645 rows × 4 columns</p>\n",
       "</div>"
      ],
      "text/plain": [
       "          id              name       description  \\\n",
       "0    3500105        Adamantina        Adamantina   \n",
       "1    3500204            Adolfo            Adolfo   \n",
       "2    3500303             Aguaí             Aguaí   \n",
       "3    3500402    Águas da Prata    Águas da Prata   \n",
       "4    3500501  Águas de Lindóia  Águas de Lindóia   \n",
       "..       ...               ...               ...   \n",
       "640  3557006        Votorantim        Votorantim   \n",
       "641  3557105       Votuporanga       Votuporanga   \n",
       "642  3557154          Zacarias          Zacarias   \n",
       "643  3557204         Chavantes         Chavantes   \n",
       "644  3557303      Estiva Gerbi      Estiva Gerbi   \n",
       "\n",
       "                                              geometry  \n",
       "0    POLYGON ((-51.05787 -21.39888, -51.05365 -21.4...  \n",
       "1    POLYGON ((-49.65478 -21.20607, -49.63847 -21.2...  \n",
       "2    POLYGON ((-47.20890 -21.97129, -47.20297 -21.9...  \n",
       "3    POLYGON ((-46.70755 -21.82895, -46.70380 -21.8...  \n",
       "4    POLYGON ((-46.61147 -22.43496, -46.60302 -22.4...  \n",
       "..                                                 ...  \n",
       "640  POLYGON ((-47.37268 -23.51783, -47.37047 -23.5...  \n",
       "641  POLYGON ((-50.02073 -20.33347, -50.01275 -20.3...  \n",
       "642  POLYGON ((-49.99521 -21.03253, -49.98434 -21.0...  \n",
       "643  POLYGON ((-49.68539 -22.94866, -49.68396 -22.9...  \n",
       "644  POLYGON ((-46.91399 -22.19933, -46.91221 -22.2...  \n",
       "\n",
       "[645 rows x 4 columns]"
      ]
     },
     "execution_count": 116,
     "metadata": {},
     "output_type": "execute_result"
    }
   ],
   "source": [
    "Mapa = gpd.read_file(\"geojs-35-mun.json\")\n",
    "Mapa"
   ]
  },
  {
   "cell_type": "markdown",
   "id": "85bcd65e",
   "metadata": {},
   "source": [
    "# Analíse do fluxo escolar do estado de SP "
   ]
  },
  {
   "cell_type": "markdown",
   "id": "af51ef8d",
   "metadata": {},
   "source": [
    "   Essa analíse visa a explorar as diferenças no nível de formação escolar dos municipios de São Paulo. Para esta exploração foi utilizado o banco de dados do site https://basedosdados.org/dataset/br-sp-seduc-fluxo-escolar. \n",
    "   As tabelas contém dados do fluxo escolar agregado a nível de ensino de cada escola. Para quantificar o fluxo, utiliza-se 3 variáveis para cada nível de ensino: a proporção de alunos aprovados, a proporção de alunos reprovados e a proporção de alunos que abandonaram o ano escolar."
   ]
  },
  {
   "cell_type": "code",
   "execution_count": 118,
   "id": "0dd995c8",
   "metadata": {},
   "outputs": [
    {
     "data": {
      "text/html": [
       "<div>\n",
       "<style scoped>\n",
       "    .dataframe tbody tr th:only-of-type {\n",
       "        vertical-align: middle;\n",
       "    }\n",
       "\n",
       "    .dataframe tbody tr th {\n",
       "        vertical-align: top;\n",
       "    }\n",
       "\n",
       "    .dataframe thead th {\n",
       "        text-align: right;\n",
       "    }\n",
       "</style>\n",
       "<table border=\"1\" class=\"dataframe\">\n",
       "  <thead>\n",
       "    <tr style=\"text-align: right;\">\n",
       "      <th></th>\n",
       "      <th>id</th>\n",
       "      <th>name</th>\n",
       "      <th>description</th>\n",
       "      <th>geometry</th>\n",
       "      <th>prop_aprovados_em</th>\n",
       "      <th>prop_reprovados_em</th>\n",
       "      <th>prop_abandono_em</th>\n",
       "    </tr>\n",
       "  </thead>\n",
       "  <tbody>\n",
       "    <tr>\n",
       "      <th>0</th>\n",
       "      <td>3500105</td>\n",
       "      <td>Adamantina</td>\n",
       "      <td>Adamantina</td>\n",
       "      <td>POLYGON ((-51.05787 -21.39888, -51.05365 -21.4...</td>\n",
       "      <td>77.656136</td>\n",
       "      <td>9.828708</td>\n",
       "      <td>1.404415</td>\n",
       "    </tr>\n",
       "    <tr>\n",
       "      <th>1</th>\n",
       "      <td>3500204</td>\n",
       "      <td>Adolfo</td>\n",
       "      <td>Adolfo</td>\n",
       "      <td>POLYGON ((-49.65478 -21.20607, -49.63847 -21.2...</td>\n",
       "      <td>81.698453</td>\n",
       "      <td>3.012857</td>\n",
       "      <td>1.002975</td>\n",
       "    </tr>\n",
       "    <tr>\n",
       "      <th>2</th>\n",
       "      <td>3500303</td>\n",
       "      <td>Aguaí</td>\n",
       "      <td>Aguaí</td>\n",
       "      <td>POLYGON ((-47.20890 -21.97129, -47.20297 -21.9...</td>\n",
       "      <td>52.933259</td>\n",
       "      <td>6.949182</td>\n",
       "      <td>1.228948</td>\n",
       "    </tr>\n",
       "    <tr>\n",
       "      <th>3</th>\n",
       "      <td>3500402</td>\n",
       "      <td>Águas da Prata</td>\n",
       "      <td>Águas da Prata</td>\n",
       "      <td>POLYGON ((-46.70755 -21.82895, -46.70380 -21.8...</td>\n",
       "      <td>42.664264</td>\n",
       "      <td>1.623514</td>\n",
       "      <td>0.156667</td>\n",
       "    </tr>\n",
       "    <tr>\n",
       "      <th>4</th>\n",
       "      <td>3500501</td>\n",
       "      <td>Águas de Lindóia</td>\n",
       "      <td>Águas de Lindóia</td>\n",
       "      <td>POLYGON ((-46.61147 -22.43496, -46.60302 -22.4...</td>\n",
       "      <td>77.279346</td>\n",
       "      <td>6.002794</td>\n",
       "      <td>4.217860</td>\n",
       "    </tr>\n",
       "    <tr>\n",
       "      <th>5</th>\n",
       "      <td>3500550</td>\n",
       "      <td>Águas de Santa Bárbara</td>\n",
       "      <td>Águas de Santa Bárbara</td>\n",
       "      <td>POLYGON ((-49.19750 -22.72188, -49.19029 -22.7...</td>\n",
       "      <td>76.196319</td>\n",
       "      <td>7.510396</td>\n",
       "      <td>5.182174</td>\n",
       "    </tr>\n",
       "    <tr>\n",
       "      <th>6</th>\n",
       "      <td>3500600</td>\n",
       "      <td>Águas de São Pedro</td>\n",
       "      <td>Águas de São Pedro</td>\n",
       "      <td>POLYGON ((-47.87540 -22.59128, -47.86142 -22.6...</td>\n",
       "      <td>83.207825</td>\n",
       "      <td>2.363604</td>\n",
       "      <td>0.142857</td>\n",
       "    </tr>\n",
       "    <tr>\n",
       "      <th>7</th>\n",
       "      <td>3500709</td>\n",
       "      <td>Agudos</td>\n",
       "      <td>Agudos</td>\n",
       "      <td>POLYGON ((-48.91106 -22.33760, -48.91545 -22.3...</td>\n",
       "      <td>77.315027</td>\n",
       "      <td>7.045012</td>\n",
       "      <td>4.528850</td>\n",
       "    </tr>\n",
       "    <tr>\n",
       "      <th>8</th>\n",
       "      <td>3500758</td>\n",
       "      <td>Alambari</td>\n",
       "      <td>Alambari</td>\n",
       "      <td>POLYGON ((-47.80675 -23.48821, -47.79898 -23.4...</td>\n",
       "      <td>79.788360</td>\n",
       "      <td>6.859364</td>\n",
       "      <td>2.241165</td>\n",
       "    </tr>\n",
       "    <tr>\n",
       "      <th>9</th>\n",
       "      <td>3500808</td>\n",
       "      <td>Alfredo Marcondes</td>\n",
       "      <td>Alfredo Marcondes</td>\n",
       "      <td>POLYGON ((-51.32568 -21.87177, -51.33163 -21.8...</td>\n",
       "      <td>75.207949</td>\n",
       "      <td>8.914508</td>\n",
       "      <td>4.767544</td>\n",
       "    </tr>\n",
       "    <tr>\n",
       "      <th>10</th>\n",
       "      <td>3500907</td>\n",
       "      <td>Altair</td>\n",
       "      <td>Altair</td>\n",
       "      <td>POLYGON ((-49.08594 -20.43743, -49.08830 -20.4...</td>\n",
       "      <td>83.404201</td>\n",
       "      <td>2.219665</td>\n",
       "      <td>3.265022</td>\n",
       "    </tr>\n",
       "    <tr>\n",
       "      <th>11</th>\n",
       "      <td>3501004</td>\n",
       "      <td>Altinópolis</td>\n",
       "      <td>Altinópolis</td>\n",
       "      <td>POLYGON ((-47.41166 -20.80867, -47.40621 -20.8...</td>\n",
       "      <td>76.131045</td>\n",
       "      <td>6.009765</td>\n",
       "      <td>6.748079</td>\n",
       "    </tr>\n",
       "    <tr>\n",
       "      <th>12</th>\n",
       "      <td>3501103</td>\n",
       "      <td>Alto Alegre</td>\n",
       "      <td>Alto Alegre</td>\n",
       "      <td>POLYGON ((-50.14669 -21.52728, -50.14428 -21.5...</td>\n",
       "      <td>81.676869</td>\n",
       "      <td>4.079180</td>\n",
       "      <td>3.132840</td>\n",
       "    </tr>\n",
       "    <tr>\n",
       "      <th>13</th>\n",
       "      <td>3501152</td>\n",
       "      <td>Alumínio</td>\n",
       "      <td>Alumínio</td>\n",
       "      <td>POLYGON ((-47.31383 -23.46525, -47.30995 -23.4...</td>\n",
       "      <td>81.713879</td>\n",
       "      <td>3.941049</td>\n",
       "      <td>0.059359</td>\n",
       "    </tr>\n",
       "    <tr>\n",
       "      <th>14</th>\n",
       "      <td>3501202</td>\n",
       "      <td>Álvares Florence</td>\n",
       "      <td>Álvares Florence</td>\n",
       "      <td>POLYGON ((-49.95703 -20.17169, -49.95412 -20.1...</td>\n",
       "      <td>81.088438</td>\n",
       "      <td>3.589337</td>\n",
       "      <td>4.210002</td>\n",
       "    </tr>\n",
       "    <tr>\n",
       "      <th>15</th>\n",
       "      <td>3501301</td>\n",
       "      <td>Álvares Machado</td>\n",
       "      <td>Álvares Machado</td>\n",
       "      <td>POLYGON ((-51.42673 -21.99789, -51.40745 -22.0...</td>\n",
       "      <td>67.942490</td>\n",
       "      <td>12.203966</td>\n",
       "      <td>5.567830</td>\n",
       "    </tr>\n",
       "    <tr>\n",
       "      <th>16</th>\n",
       "      <td>3501400</td>\n",
       "      <td>Álvaro de Carvalho</td>\n",
       "      <td>Álvaro de Carvalho</td>\n",
       "      <td>POLYGON ((-49.70585 -22.04012, -49.70493 -22.0...</td>\n",
       "      <td>81.917171</td>\n",
       "      <td>5.145270</td>\n",
       "      <td>1.826448</td>\n",
       "    </tr>\n",
       "    <tr>\n",
       "      <th>17</th>\n",
       "      <td>3501509</td>\n",
       "      <td>Alvinlândia</td>\n",
       "      <td>Alvinlândia</td>\n",
       "      <td>POLYGON ((-49.71220 -22.40089, -49.70214 -22.4...</td>\n",
       "      <td>76.153898</td>\n",
       "      <td>9.038179</td>\n",
       "      <td>3.696812</td>\n",
       "    </tr>\n",
       "    <tr>\n",
       "      <th>18</th>\n",
       "      <td>3501608</td>\n",
       "      <td>Americana</td>\n",
       "      <td>Americana</td>\n",
       "      <td>POLYGON ((-47.25586 -22.67142, -47.25354 -22.6...</td>\n",
       "      <td>42.448265</td>\n",
       "      <td>4.560133</td>\n",
       "      <td>2.109248</td>\n",
       "    </tr>\n",
       "    <tr>\n",
       "      <th>19</th>\n",
       "      <td>3501707</td>\n",
       "      <td>Américo Brasiliense</td>\n",
       "      <td>Américo Brasiliense</td>\n",
       "      <td>POLYGON ((-47.91959 -21.70587, -47.92130 -21.7...</td>\n",
       "      <td>74.579054</td>\n",
       "      <td>10.797046</td>\n",
       "      <td>3.512789</td>\n",
       "    </tr>\n",
       "  </tbody>\n",
       "</table>\n",
       "</div>"
      ],
      "text/plain": [
       "         id                    name             description  \\\n",
       "0   3500105              Adamantina              Adamantina   \n",
       "1   3500204                  Adolfo                  Adolfo   \n",
       "2   3500303                   Aguaí                   Aguaí   \n",
       "3   3500402          Águas da Prata          Águas da Prata   \n",
       "4   3500501        Águas de Lindóia        Águas de Lindóia   \n",
       "5   3500550  Águas de Santa Bárbara  Águas de Santa Bárbara   \n",
       "6   3500600      Águas de São Pedro      Águas de São Pedro   \n",
       "7   3500709                  Agudos                  Agudos   \n",
       "8   3500758                Alambari                Alambari   \n",
       "9   3500808       Alfredo Marcondes       Alfredo Marcondes   \n",
       "10  3500907                  Altair                  Altair   \n",
       "11  3501004             Altinópolis             Altinópolis   \n",
       "12  3501103             Alto Alegre             Alto Alegre   \n",
       "13  3501152                Alumínio                Alumínio   \n",
       "14  3501202        Álvares Florence        Álvares Florence   \n",
       "15  3501301         Álvares Machado         Álvares Machado   \n",
       "16  3501400      Álvaro de Carvalho      Álvaro de Carvalho   \n",
       "17  3501509             Alvinlândia             Alvinlândia   \n",
       "18  3501608               Americana               Americana   \n",
       "19  3501707     Américo Brasiliense     Américo Brasiliense   \n",
       "\n",
       "                                             geometry  prop_aprovados_em  \\\n",
       "0   POLYGON ((-51.05787 -21.39888, -51.05365 -21.4...          77.656136   \n",
       "1   POLYGON ((-49.65478 -21.20607, -49.63847 -21.2...          81.698453   \n",
       "2   POLYGON ((-47.20890 -21.97129, -47.20297 -21.9...          52.933259   \n",
       "3   POLYGON ((-46.70755 -21.82895, -46.70380 -21.8...          42.664264   \n",
       "4   POLYGON ((-46.61147 -22.43496, -46.60302 -22.4...          77.279346   \n",
       "5   POLYGON ((-49.19750 -22.72188, -49.19029 -22.7...          76.196319   \n",
       "6   POLYGON ((-47.87540 -22.59128, -47.86142 -22.6...          83.207825   \n",
       "7   POLYGON ((-48.91106 -22.33760, -48.91545 -22.3...          77.315027   \n",
       "8   POLYGON ((-47.80675 -23.48821, -47.79898 -23.4...          79.788360   \n",
       "9   POLYGON ((-51.32568 -21.87177, -51.33163 -21.8...          75.207949   \n",
       "10  POLYGON ((-49.08594 -20.43743, -49.08830 -20.4...          83.404201   \n",
       "11  POLYGON ((-47.41166 -20.80867, -47.40621 -20.8...          76.131045   \n",
       "12  POLYGON ((-50.14669 -21.52728, -50.14428 -21.5...          81.676869   \n",
       "13  POLYGON ((-47.31383 -23.46525, -47.30995 -23.4...          81.713879   \n",
       "14  POLYGON ((-49.95703 -20.17169, -49.95412 -20.1...          81.088438   \n",
       "15  POLYGON ((-51.42673 -21.99789, -51.40745 -22.0...          67.942490   \n",
       "16  POLYGON ((-49.70585 -22.04012, -49.70493 -22.0...          81.917171   \n",
       "17  POLYGON ((-49.71220 -22.40089, -49.70214 -22.4...          76.153898   \n",
       "18  POLYGON ((-47.25586 -22.67142, -47.25354 -22.6...          42.448265   \n",
       "19  POLYGON ((-47.91959 -21.70587, -47.92130 -21.7...          74.579054   \n",
       "\n",
       "    prop_reprovados_em  prop_abandono_em  \n",
       "0             9.828708          1.404415  \n",
       "1             3.012857          1.002975  \n",
       "2             6.949182          1.228948  \n",
       "3             1.623514          0.156667  \n",
       "4             6.002794          4.217860  \n",
       "5             7.510396          5.182174  \n",
       "6             2.363604          0.142857  \n",
       "7             7.045012          4.528850  \n",
       "8             6.859364          2.241165  \n",
       "9             8.914508          4.767544  \n",
       "10            2.219665          3.265022  \n",
       "11            6.009765          6.748079  \n",
       "12            4.079180          3.132840  \n",
       "13            3.941049          0.059359  \n",
       "14            3.589337          4.210002  \n",
       "15           12.203966          5.567830  \n",
       "16            5.145270          1.826448  \n",
       "17            9.038179          3.696812  \n",
       "18            4.560133          2.109248  \n",
       "19           10.797046          3.512789  "
      ]
     },
     "execution_count": 118,
     "metadata": {},
     "output_type": "execute_result"
    }
   ],
   "source": [
    "flux = gpd.read_file(\"fluxo_escolar.csv\")\n",
    "\n",
    "#sp_nse = gpd.read_file(\"C://Users//vanes//OneDrive//Área de trabalho//arquivos bd//escola_nse.csv\")\n",
    "\n",
    "flux = flux[['id_municipio','prop_aprovados_em', 'prop_reprovados_em', 'prop_abandono_em']]\n",
    "flux[\"prop_aprovados_em\"] = pd.to_numeric(flux[\"prop_aprovados_em\"])\n",
    "flux[\"prop_reprovados_em\"] = pd.to_numeric(flux[\"prop_reprovados_em\"])\n",
    "flux[\"prop_abandono_em\"] = pd.to_numeric(flux[\"prop_abandono_em\"])\n",
    "\n",
    "\n",
    "flux.fillna(0, inplace = True)\n",
    "flux.rename(columns={\"id_municipio\": \"id\"}, inplace = 1)\n",
    "\n",
    "flux=flux.groupby(\"id\").mean()\n",
    "\n",
    "flux = Mapa.join(flux, on=\"id\", how=\"left\")\n",
    "flux.head(20)"
   ]
  },
  {
   "cell_type": "code",
   "execution_count": 12,
   "id": "01a26cdb",
   "metadata": {
    "scrolled": true
   },
   "outputs": [
    {
     "data": {
      "image/png": "[encoded data removed]",
      "text/plain": [
       "<Figure size 720x720 with 2 Axes>"
      ]
     },
     "metadata": {
      "needs_background": "light"
     },
     "output_type": "display_data"
    }
   ],
   "source": [
    "fig, ax = plt.subplots(figsize=(10, 10))\n",
    "flux.plot( ax=ax, column='prop_aprovados_em', cmap='twilight_shifted', legend=True, legend_kwds={'shrink': 0.4})\n",
    "ax.axis('off');\n",
    "plt.title('Proporção de aprovados no ensino médio por munícipio no estado de SP', size=15); "
   ]
  },
  {
   "cell_type": "markdown",
   "id": "c5d196c7",
   "metadata": {},
   "source": [
    "É possível constatar através do gráfico que apenas alguns estados tem uma alta taxa de aprovação, entranto esse mesmo gráfico não permite uma visualização precisa do nível de aprovados em cada município. \n"
   ]
  },
  {
   "cell_type": "code",
   "execution_count": 70,
   "id": "f5df25ba",
   "metadata": {
    "scrolled": true
   },
   "outputs": [
    {
     "data": {
      "application/vnd.plotly.v1+json": {
       "config": {
        "plotlyServerURL": "https://plot.ly"
       },
       "data": [
        {
         "alignmentgroup": "True",
         "boxpoints": "all",
         "customdata": [
          [
           "Adamantina"
          ],
          [
           "Adolfo"
          ],
          [
           "Aguaí"
          ],
          [
           "Águas da Prata"
          ],
          [
           "Águas de Lindóia"
          ],
          [
           "Águas de Santa Bárbara"
          ],
          [
           "Águas de São Pedro"
          ],
          [
           "Agudos"
          ],
          [
           "Alambari"
          ],
          [
           "Alfredo Marcondes"
          ],
          [
           "Altair"
          ],
          [
           "Altinópolis"
          ],
          [
           "Alto Alegre"
          ],
          [
           "Alumínio"
          ],
          [
           "Álvares Florence"
          ],
          [
           "Álvares Machado"
          ],
          [
           "Álvaro de Carvalho"
          ],
          [
           "Alvinlândia"
          ],
          [
           "Americana"
          ],
          [
           "Américo Brasiliense"
          ],
          [
           "Américo de Campos"
          ],
          [
           "Amparo"
          ],
          [
           "Analândia"
          ],
          [
           "Andradina"
          ],
          [
           "Angatuba"
          ],
          [
           "Anhembi"
          ],
          [
           "Anhumas"
          ],
          [
           "Aparecida"
          ],
          [
           "Aparecida d'Oeste"
          ],
          [
           "Apiaí"
          ],
          [
           "Araçariguama"
          ],
          [
           "Araçatuba"
          ],
          [
           "Araçoiaba da Serra"
          ],
          [
           "Aramina"
          ],
          [
           "Arandu"
          ],
          [
           "Arapeí"
          ],
          [
           "Araraquara"
          ],
          [
           "Araras"
          ],
          [
           "Arco-Íris"
          ],
          [
           "Arealva"
          ],
          [
           "Areias"
          ],
          [
           "Areiópolis"
          ],
          [
           "Ariranha"
          ],
          [
           "Artur Nogueira"
          ],
          [
           "Arujá"
          ],
          [
           "Aspásia"
          ],
          [
           "Assis"
          ],
          [
           "Atibaia"
          ],
          [
           "Auriflama"
          ],
          [
           "Avaí"
          ],
          [
           "Avaré"
          ],
          [
           "Balbinos"
          ],
          [
           "Bálsamo"
          ],
          [
           "Bananal"
          ],
          [
           "Barão de Antonina"
          ],
          [
           "Barbosa"
          ],
          [
           "Bariri"
          ],
          [
           "Barra Bonita"
          ],
          [
           "Barra do Chapéu"
          ],
          [
           "Barra do Turvo"
          ],
          [
           "Barretos"
          ],
          [
           "Barrinha"
          ],
          [
           "Barueri"
          ],
          [
           "Bastos"
          ],
          [
           "Batatais"
          ],
          [
           "Bauru"
          ],
          [
           "Bebedouro"
          ],
          [
           "Bento de Abreu"
          ],
          [
           "Bernardino de Campos"
          ],
          [
           "Bertioga"
          ],
          [
           "Bilac"
          ],
          [
           "Birigui"
          ],
          [
           "Biritiba-Mirim"
          ],
          [
           "Boa Esperança do Sul"
          ],
          [
           "Bocaina"
          ],
          [
           "Bofete"
          ],
          [
           "Boituva"
          ],
          [
           "Bom Jesus dos Perdões"
          ],
          [
           "Borá"
          ],
          [
           "Boracéia"
          ],
          [
           "Borborema"
          ],
          [
           "Borebi"
          ],
          [
           "Botucatu"
          ],
          [
           "Bragança Paulista"
          ],
          [
           "Braúna"
          ],
          [
           "Brejo Alegre"
          ],
          [
           "Buri"
          ],
          [
           "Buritama"
          ],
          [
           "Buritizal"
          ],
          [
           "Cabrália Paulista"
          ],
          [
           "Cabreúva"
          ],
          [
           "Caçapava"
          ],
          [
           "Cachoeira Paulista"
          ],
          [
           "Caconde"
          ],
          [
           "Cafelândia"
          ],
          [
           "Caiabu"
          ],
          [
           "Caiuá"
          ],
          [
           "Cajamar"
          ],
          [
           "Cajati"
          ],
          [
           "Cajobi"
          ],
          [
           "Cajuru"
          ],
          [
           "Campina do Monte Alegre"
          ],
          [
           "Campinas"
          ],
          [
           "Campo Limpo Paulista"
          ],
          [
           "Campos do Jordão"
          ],
          [
           "Campos Novos Paulista"
          ],
          [
           "Cananéia"
          ],
          [
           "Cândido Rodrigues"
          ],
          [
           "Canitar"
          ],
          [
           "Capão Bonito"
          ],
          [
           "Capela do Alto"
          ],
          [
           "Capivari"
          ],
          [
           "Caraguatatuba"
          ],
          [
           "Cardoso"
          ],
          [
           "Casa Branca"
          ],
          [
           "Cássia dos Coqueiros"
          ],
          [
           "Castilho"
          ],
          [
           "Catanduva"
          ],
          [
           "Catiguá"
          ],
          [
           "Cedral"
          ],
          [
           "Cerqueira César"
          ],
          [
           "Cerquilho"
          ],
          [
           "Cesário Lange"
          ],
          [
           "Charqueada"
          ],
          [
           "Clementina"
          ],
          [
           "Colina"
          ],
          [
           "Colômbia"
          ],
          [
           "Conchal"
          ],
          [
           "Conchas"
          ],
          [
           "Cordeirópolis"
          ],
          [
           "Coroados"
          ],
          [
           "Coronel Macedo"
          ],
          [
           "Corumbataí"
          ],
          [
           "Cosmópolis"
          ],
          [
           "Cosmorama"
          ],
          [
           "Cotia"
          ],
          [
           "Cravinhos"
          ],
          [
           "Cristais Paulista"
          ],
          [
           "Cruzália"
          ],
          [
           "Cruzeiro"
          ],
          [
           "Cubatão"
          ],
          [
           "Cunha"
          ],
          [
           "Descalvado"
          ],
          [
           "Dirce Reis"
          ],
          [
           "Divinolândia"
          ],
          [
           "Dobrada"
          ],
          [
           "Dois Córregos"
          ],
          [
           "Dolcinópolis"
          ],
          [
           "Dourado"
          ],
          [
           "Dracena"
          ],
          [
           "Duartina"
          ],
          [
           "Dumont"
          ],
          [
           "Echaporã"
          ],
          [
           "Eldorado"
          ],
          [
           "Elias Fausto"
          ],
          [
           "Elisiário"
          ],
          [
           "Embaúba"
          ],
          [
           "Embu"
          ],
          [
           "Embu-Guaçu"
          ],
          [
           "Emilianópolis"
          ],
          [
           "Engenheiro Coelho"
          ],
          [
           "Espírito Santo do Pinhal"
          ],
          [
           "Espírito Santo do Turvo"
          ],
          [
           "Estrela d'Oeste"
          ],
          [
           "Estrela do Norte"
          ],
          [
           "Euclides da Cunha Paulista"
          ],
          [
           "Fartura"
          ],
          [
           "Fernandópolis"
          ],
          [
           "Fernando Prestes"
          ],
          [
           "Fernão"
          ],
          [
           "Ferraz de Vasconcelos"
          ],
          [
           "Flora Rica"
          ],
          [
           "Floreal"
          ],
          [
           "Flórida Paulista"
          ],
          [
           "Florínia"
          ],
          [
           "Franca"
          ],
          [
           "Francisco Morato"
          ],
          [
           "Franco da Rocha"
          ],
          [
           "Gabriel Monteiro"
          ],
          [
           "Gália"
          ],
          [
           "Garça"
          ],
          [
           "Gastão Vidigal"
          ],
          [
           "Gavião Peixoto"
          ],
          [
           "General Salgado"
          ],
          [
           "Getulina"
          ],
          [
           "Glicério"
          ],
          [
           "Guaiçara"
          ],
          [
           "Guaimbê"
          ],
          [
           "Guaíra"
          ],
          [
           "Guapiaçu"
          ],
          [
           "Guapiara"
          ],
          [
           "Guará"
          ],
          [
           "Guaraçaí"
          ],
          [
           "Guaraci"
          ],
          [
           "Guarani d'Oeste"
          ],
          [
           "Guarantã"
          ],
          [
           "Guararapes"
          ],
          [
           "Guararema"
          ],
          [
           "Guareí"
          ],
          [
           "Guariba"
          ],
          [
           "Guarulhos"
          ],
          [
           "Guatapará"
          ],
          [
           "Guzolândia"
          ],
          [
           "Herculândia"
          ],
          [
           "Holambra"
          ],
          [
           "Hortolândia"
          ],
          [
           "Iacanga"
          ],
          [
           "Iacri"
          ],
          [
           "Iaras"
          ],
          [
           "Ibaté"
          ],
          [
           "Ibirá"
          ],
          [
           "Ibitinga"
          ],
          [
           "Ibiúna"
          ],
          [
           "Icém"
          ],
          [
           "Iepê"
          ],
          [
           "Igaraçu do Tietê"
          ],
          [
           "Igarapava"
          ],
          [
           "Igaratá"
          ],
          [
           "Ilhabela"
          ],
          [
           "Ilha Comprida"
          ],
          [
           "Ilha Solteira"
          ],
          [
           "Indaiatuba"
          ],
          [
           "Indiana"
          ],
          [
           "Indiaporã"
          ],
          [
           "Inúbia Paulista"
          ],
          [
           "Iperó"
          ],
          [
           "Ipeúna"
          ],
          [
           "Ipiguá"
          ],
          [
           "Iporanga"
          ],
          [
           "Ipuã"
          ],
          [
           "Iracemápolis"
          ],
          [
           "Irapuã"
          ],
          [
           "Irapuru"
          ],
          [
           "Itaberá"
          ],
          [
           "Itaí"
          ],
          [
           "Itajobi"
          ],
          [
           "Itaju"
          ],
          [
           "Itanhaém"
          ],
          [
           "Itaóca"
          ],
          [
           "Itapecerica da Serra"
          ],
          [
           "Itapeva"
          ],
          [
           "Itapevi"
          ],
          [
           "Itapira"
          ],
          [
           "Itapirapuã Paulista"
          ],
          [
           "Itápolis"
          ],
          [
           "Itaporanga"
          ],
          [
           "Itapura"
          ],
          [
           "Itaquaquecetuba"
          ],
          [
           "Itararé"
          ],
          [
           "Itariri"
          ],
          [
           "Itatiba"
          ],
          [
           "Itatinga"
          ],
          [
           "Itirapina"
          ],
          [
           "Itobi"
          ],
          [
           "Itu"
          ],
          [
           "Itupeva"
          ],
          [
           "Jaborandi"
          ],
          [
           "Jaboticabal"
          ],
          [
           "Jacareí"
          ],
          [
           "Jaci"
          ],
          [
           "Jacupiranga"
          ],
          [
           "Jaguariúna"
          ],
          [
           "Jales"
          ],
          [
           "Jambeiro"
          ],
          [
           "Jandira"
          ],
          [
           "Jardinópolis"
          ],
          [
           "Jarinu"
          ],
          [
           "Jaú"
          ],
          [
           "Jeriquara"
          ],
          [
           "Joanópolis"
          ],
          [
           "João Ramalho"
          ],
          [
           "José Bonifácio"
          ],
          [
           "Júlio Mesquita"
          ],
          [
           "Jumirim"
          ],
          [
           "Jundiaí"
          ],
          [
           "Junqueirópolis"
          ],
          [
           "Juquiá"
          ],
          [
           "Juquitiba"
          ],
          [
           "Lagoinha"
          ],
          [
           "Laranjal Paulista"
          ],
          [
           "Lavínia"
          ],
          [
           "Leme"
          ],
          [
           "Lençóis Paulista"
          ],
          [
           "Lindóia"
          ],
          [
           "Lins"
          ],
          [
           "Lorena"
          ],
          [
           "Lourdes"
          ],
          [
           "Louveira"
          ],
          [
           "Lucélia"
          ],
          [
           "Lucianópolis"
          ],
          [
           "Luiziânia"
          ],
          [
           "Lupércio"
          ],
          [
           "Macatuba"
          ],
          [
           "Macaubal"
          ],
          [
           "Macedônia"
          ],
          [
           "Magda"
          ],
          [
           "Mairinque"
          ],
          [
           "Mairiporã"
          ],
          [
           "Manduri"
          ],
          [
           "Marabá Paulista"
          ],
          [
           "Maracaí"
          ],
          [
           "Marapoama"
          ],
          [
           "Mariápolis"
          ],
          [
           "Marília"
          ],
          [
           "Marinópolis"
          ],
          [
           "Martinópolis"
          ],
          [
           "Matão"
          ],
          [
           "Mauá"
          ],
          [
           "Mendonça"
          ],
          [
           "Meridiano"
          ],
          [
           "Mesópolis"
          ],
          [
           "Mineiros do Tietê"
          ],
          [
           "Miracatu"
          ],
          [
           "Mira Estrela"
          ],
          [
           "Mirandópolis"
          ],
          [
           "Mirante do Paranapanema"
          ],
          [
           "Mirassol"
          ],
          [
           "Mirassolândia"
          ],
          [
           "Mococa"
          ],
          [
           "Mogi Guaçu"
          ],
          [
           "Moji Mirim"
          ],
          [
           "Mombuca"
          ],
          [
           "Monções"
          ],
          [
           "Mongaguá"
          ],
          [
           "Monte Alegre do Sul"
          ],
          [
           "Monte Alto"
          ],
          [
           "Monte Aprazível"
          ],
          [
           "Monte Azul Paulista"
          ],
          [
           "Monte Castelo"
          ],
          [
           "Monteiro Lobato"
          ],
          [
           "Morro Agudo"
          ],
          [
           "Motuca"
          ],
          [
           "Murutinga do Sul"
          ],
          [
           "Nantes"
          ],
          [
           "Narandiba"
          ],
          [
           "Natividade da Serra"
          ],
          [
           "Nazaré Paulista"
          ],
          [
           "Neves Paulista"
          ],
          [
           "Nhandeara"
          ],
          [
           "Nipoã"
          ],
          [
           "Nova Campina"
          ],
          [
           "Nova Canaã Paulista"
          ],
          [
           "Nova Castilho"
          ],
          [
           "Nova Europa"
          ],
          [
           "Nova Granada"
          ],
          [
           "Nova Guataporanga"
          ],
          [
           "Nova Independência"
          ],
          [
           "Novais"
          ],
          [
           "Nova Luzitânia"
          ],
          [
           "Nova Odessa"
          ],
          [
           "Nuporanga"
          ],
          [
           "Ocauçu"
          ],
          [
           "Óleo"
          ],
          [
           "Olímpia"
          ],
          [
           "Onda Verde"
          ],
          [
           "Oriente"
          ],
          [
           "Orindiúva"
          ],
          [
           "Orlândia"
          ],
          [
           "Osasco"
          ],
          [
           "Oscar Bressane"
          ],
          [
           "Osvaldo Cruz"
          ],
          [
           "Ourinhos"
          ],
          [
           "Ouroeste"
          ],
          [
           "Ouro Verde"
          ],
          [
           "Pacaembu"
          ],
          [
           "Palestina"
          ],
          [
           "Palmares Paulista"
          ],
          [
           "Palmeira d'Oeste"
          ],
          [
           "Palmital"
          ],
          [
           "Panorama"
          ],
          [
           "Paraguaçu Paulista"
          ],
          [
           "Paraibuna"
          ],
          [
           "Paraíso"
          ],
          [
           "Paranapanema"
          ],
          [
           "Paranapuã"
          ],
          [
           "Parapuã"
          ],
          [
           "Pariquera-Açu"
          ],
          [
           "Parisi"
          ],
          [
           "Paulicéia"
          ],
          [
           "Paulínia"
          ],
          [
           "Paulistânia"
          ],
          [
           "Paulo de Faria"
          ],
          [
           "Pederneiras"
          ],
          [
           "Pedra Bela"
          ],
          [
           "Pedranópolis"
          ],
          [
           "Pedregulho"
          ],
          [
           "Pedreira"
          ],
          [
           "Pedrinhas Paulista"
          ],
          [
           "Pedro de Toledo"
          ],
          [
           "Penápolis"
          ],
          [
           "Pereira Barreto"
          ],
          [
           "Pereiras"
          ],
          [
           "Peruíbe"
          ],
          [
           "Piacatu"
          ],
          [
           "Piedade"
          ],
          [
           "Pilar do Sul"
          ],
          [
           "Pindorama"
          ],
          [
           "Pinhalzinho"
          ],
          [
           "Piquerobi"
          ],
          [
           "Piquete"
          ],
          [
           "Piracaia"
          ],
          [
           "Piraju"
          ],
          [
           "Pirajuí"
          ],
          [
           "Pirangi"
          ],
          [
           "Pirapozinho"
          ],
          [
           "Pirassununga"
          ],
          [
           "Piratininga"
          ],
          [
           "Pitangueiras"
          ],
          [
           "Planalto"
          ],
          [
           "Platina"
          ],
          [
           "Poá"
          ],
          [
           "Poloni"
          ],
          [
           "Pompéia"
          ],
          [
           "Pongaí"
          ],
          [
           "Pontal"
          ],
          [
           "Pontalinda"
          ],
          [
           "Pontes Gestal"
          ],
          [
           "Populina"
          ],
          [
           "Porangaba"
          ],
          [
           "Porto Feliz"
          ],
          [
           "Potirendaba"
          ],
          [
           "Pracinha"
          ],
          [
           "Pradópolis"
          ],
          [
           "Praia Grande"
          ],
          [
           "Pratânia"
          ],
          [
           "Presidente Alves"
          ],
          [
           "Presidente Bernardes"
          ],
          [
           "Presidente Epitácio"
          ],
          [
           "Presidente Venceslau"
          ],
          [
           "Promissão"
          ],
          [
           "Quadra"
          ],
          [
           "Quatá"
          ],
          [
           "Queiroz"
          ],
          [
           "Queluz"
          ],
          [
           "Quintana"
          ],
          [
           "Rafard"
          ],
          [
           "Rancharia"
          ],
          [
           "Redenção da Serra"
          ],
          [
           "Regente Feijó"
          ],
          [
           "Reginópolis"
          ],
          [
           "Registro"
          ],
          [
           "Restinga"
          ],
          [
           "Ribeira"
          ],
          [
           "Ribeirão Branco"
          ],
          [
           "Ribeirão Corrente"
          ],
          [
           "Ribeirão do Sul"
          ],
          [
           "Ribeirão dos Índios"
          ],
          [
           "Ribeirão Grande"
          ],
          [
           "Ribeirão Pires"
          ],
          [
           "Ribeirão Preto"
          ],
          [
           "Riversul"
          ],
          [
           "Rifaina"
          ],
          [
           "Rincão"
          ],
          [
           "Rinópolis"
          ],
          [
           "Rio Claro"
          ],
          [
           "Rio das Pedras"
          ],
          [
           "Rio Grande da Serra"
          ],
          [
           "Riolândia"
          ],
          [
           "Rubiácea"
          ],
          [
           "Rubinéia"
          ],
          [
           "Sabino"
          ],
          [
           "Sagres"
          ],
          [
           "Sales"
          ],
          [
           "Sales Oliveira"
          ],
          [
           "Salmourão"
          ],
          [
           "Saltinho"
          ],
          [
           "Salto"
          ],
          [
           "Salto de Pirapora"
          ],
          [
           "Salto Grande"
          ],
          [
           "Sandovalina"
          ],
          [
           "Santa Adélia"
          ],
          [
           "Santa Albertina"
          ],
          [
           "Santa Bárbara d'Oeste"
          ],
          [
           "Santa Branca"
          ],
          [
           "Santa Clara d'Oeste"
          ],
          [
           "Santa Cruz da Conceição"
          ],
          [
           "Santa Cruz da Esperança"
          ],
          [
           "Santa Cruz das Palmeiras"
          ],
          [
           "Santa Cruz do Rio Pardo"
          ],
          [
           "Santa Ernestina"
          ],
          [
           "Santa Fé do Sul"
          ],
          [
           "Santa Gertrudes"
          ],
          [
           "Santa Isabel"
          ],
          [
           "Santa Lúcia"
          ],
          [
           "Santa Maria da Serra"
          ],
          [
           "Santa Mercedes"
          ],
          [
           "Santana da Ponte Pensa"
          ],
          [
           "Santa Rita d'Oeste"
          ],
          [
           "Santa Rita do Passa Quatro"
          ],
          [
           "Santa Rosa de Viterbo"
          ],
          [
           "Santa Salete"
          ],
          [
           "Santo Anastácio"
          ],
          [
           "Santo Antônio da Alegria"
          ],
          [
           "Santo Antônio de Posse"
          ],
          [
           "Santo Antônio do Aracanguá"
          ],
          [
           "Santo Antônio do Jardim"
          ],
          [
           "Santo Antônio do Pinhal"
          ],
          [
           "Santo Expedito"
          ],
          [
           "Santópolis do Aguapeí"
          ],
          [
           "Santos"
          ],
          [
           "São Bento do Sapucaí"
          ],
          [
           "São Carlos"
          ],
          [
           "São Francisco"
          ],
          [
           "São João da Boa Vista"
          ],
          [
           "São João das Duas Pontes"
          ],
          [
           "São João de Iracema"
          ],
          [
           "São João do Pau d'Alho"
          ],
          [
           "São Joaquim da Barra"
          ],
          [
           "São José do Barreiro"
          ],
          [
           "São José do Rio Pardo"
          ],
          [
           "São José do Rio Preto"
          ],
          [
           "São José dos Campos"
          ],
          [
           "São Lourenço da Serra"
          ],
          [
           "São Luís do Paraitinga"
          ],
          [
           "São Manuel"
          ],
          [
           "São Miguel Arcanjo"
          ],
          [
           "São Paulo"
          ],
          [
           "São Pedro"
          ],
          [
           "São Pedro do Turvo"
          ],
          [
           "São Roque"
          ],
          [
           "São Sebastião"
          ],
          [
           "São Sebastião da Grama"
          ],
          [
           "São Simão"
          ],
          [
           "São Vicente"
          ],
          [
           "Sarapuí"
          ],
          [
           "Sebastianópolis do Sul"
          ],
          [
           "Serra Azul"
          ],
          [
           "Serrana"
          ],
          [
           "Serra Negra"
          ],
          [
           "Sertãozinho"
          ],
          [
           "Sete Barras"
          ],
          [
           "Severínia"
          ],
          [
           "Silveiras"
          ],
          [
           "Socorro"
          ],
          [
           "Sorocaba"
          ],
          [
           "Sud Mennucci"
          ],
          [
           "Suzanápolis"
          ],
          [
           "Tabapuã"
          ],
          [
           "Tabatinga"
          ],
          [
           "Taciba"
          ],
          [
           "Taguaí"
          ],
          [
           "Taiaçu"
          ],
          [
           "Taiúva"
          ],
          [
           "Tambaú"
          ],
          [
           "Tanabi"
          ],
          [
           "Tapiraí"
          ],
          [
           "Tapiratiba"
          ],
          [
           "Taquaral"
          ],
          [
           "Taquaritinga"
          ],
          [
           "Taquarituba"
          ],
          [
           "Taquarivaí"
          ],
          [
           "Tarabai"
          ],
          [
           "Tatuí"
          ],
          [
           "Taubaté"
          ],
          [
           "Tejupá"
          ],
          [
           "Teodoro Sampaio"
          ],
          [
           "Terra Roxa"
          ],
          [
           "Tietê"
          ],
          [
           "Timburi"
          ],
          [
           "Torre de Pedra"
          ],
          [
           "Torrinha"
          ],
          [
           "Tremembé"
          ],
          [
           "Três Fronteiras"
          ],
          [
           "Tuiuti"
          ],
          [
           "Tupã"
          ],
          [
           "Tupi Paulista"
          ],
          [
           "Turiúba"
          ],
          [
           "Turmalina"
          ],
          [
           "Ubarana"
          ],
          [
           "Ubatuba"
          ],
          [
           "Ubirajara"
          ],
          [
           "Uchoa"
          ],
          [
           "União Paulista"
          ],
          [
           "Urânia"
          ],
          [
           "Uru"
          ],
          [
           "Urupês"
          ],
          [
           "Valentim Gentil"
          ],
          [
           "Valinhos"
          ],
          [
           "Valparaíso"
          ],
          [
           "Vargem"
          ],
          [
           "Vargem Grande do Sul"
          ],
          [
           "Vargem Grande Paulista"
          ],
          [
           "Várzea Paulista"
          ],
          [
           "Vera Cruz"
          ],
          [
           "Vinhedo"
          ],
          [
           "Viradouro"
          ],
          [
           "Vista Alegre do Alto"
          ],
          [
           "Vitória Brasil"
          ],
          [
           "Votorantim"
          ],
          [
           "Votuporanga"
          ],
          [
           "Zacarias"
          ],
          [
           "Estiva Gerbi"
          ]
         ],
         "hovertemplate": "prop_aprovados_em=%{y}<br>name=%{customdata[0]}<extra></extra>",
         "legendgroup": "",
         "marker": {
          "color": "#636efa"
         },
         "name": "",
         "notched": false,
         "offsetgroup": "",
         "orientation": "v",
         "showlegend": false,
         "type": "box",
         "x0": " ",
         "xaxis": "x",
         "y": [
          77.6561357262963,
          81.6984531942857,
          52.93325889611111,
          42.664263714444445,
          77.27934639125,
          76.19631903777778,
          83.20782453285713,
          77.31502724703704,
          79.78836034333332,
          75.20794905555556,
          83.40420072333333,
          76.13104489777778,
          81.67686911333334,
          81.71387856571428,
          81.08843798333334,
          67.94248966714285,
          81.91717109888889,
          76.15389761444445,
          42.44826534111765,
          74.5790537874074,
          84.27410935333333,
          55.19571374853449,
          72.21606201142858,
          76.43656122277778,
          50.925360544074074,
          73.92773154142857,
          80.8110358088889,
          76.20608976071428,
          84.44534202333334,
          82.385818594321,
          75.96606863857143,
          70.78851387096154,
          78.40639096583334,
          79.29968834888888,
          75.72750993555556,
          76.40632302428571,
          44.43802780717472,
          38.854843555,
          84.83935712444445,
          84.41247516555556,
          72.13731680714285,
          77.51254630000001,
          84.84680517111111,
          63.60397312384615,
          65.16285788518519,
          86.99325073777777,
          77.97749346277777,
          53.19685844723164,
          86.53160384111112,
          79.92282601777778,
          50.442453399444446,
          88.13380157555555,
          80.79003739555554,
          72.91361585285713,
          80.44774854666667,
          73.8692244088889,
          81.67771886833333,
          82.96817095388889,
          85.09157742740742,
          77.90537989666667,
          72.93527436009708,
          75.50893304,
          71.71337500013605,
          40.27699136425926,
          52.947993939999996,
          45.49986759291391,
          80.66697634160494,
          82.87564709666667,
          78.26859267944445,
          65.72916700013889,
          78.7344999511111,
          70.5871890591453,
          48.588135683703705,
          67.99897038,
          76.17462904923077,
          40.638355190000006,
          72.87397460999999,
          51.87069694518519,
          87.68984151222223,
          80.39128142666667,
          27.899403535925924,
          73.66532457571428,
          66.7608351762295,
          58.477861462363634,
          80.72297397111112,
          82.19369952444444,
          78.75381081714285,
          84.67156851722223,
          82.78848066,
          76.35754021777778,
          79.32542621537037,
          77.0157619570297,
          64.81476130194805,
          80.75566765555556,
          54.45132984944444,
          76.43605213,
          76.35620953722223,
          78.10978108083333,
          80.98370829088888,
          77.1898915757143,
          80.66754821037037,
          74.83568154428572,
          43.7754021012369,
          76.15691566711538,
          67.61635218692308,
          79.76765463888889,
          76.67546807527778,
          85.55377197285715,
          79.74708831857143,
          79.315753083125,
          74.80777975857143,
          74.30592759806451,
          85.04738468302753,
          82.28771259333332,
          37.76337729631579,
          83.04775525714285,
          39.818970990555556,
          81.23111278602272,
          84.27539144222222,
          79.06518768285714,
          74.88113490388889,
          73.74251560785714,
          69.84309265142858,
          74.71334073055556,
          82.2797216,
          75.69315133285714,
          76.47177459714285,
          80.45603705666667,
          40.749341259375,
          78.2216177168,
          79.67182907888889,
          75.51722771444445,
          83.49867409857143,
          68.22691683690476,
          80.00569109777777,
          55.53265028506024,
          71.08815966666667,
          74.30177111,
          87.31315512777778,
          74.08441412885715,
          43.26150156728261,
          41.04221696724638,
          76.50144207333332,
          80.36994798555556,
          79.65716672666667,
          29.48898938222222,
          81.70747993111111,
          81.87212262222222,
          79.53201270777778,
          75.81619110722221,
          78.9586778088889,
          81.32667641714285,
          77.84277438444445,
          54.28657002592593,
          77.70385603866666,
          85.11302852142856,
          82.10743904666667,
          51.16174048063939,
          39.75169706483333,
          78.85000043571428,
          76.24635736111111,
          33.4986005762963,
          81.40337877333333,
          81.8216640411111,
          81.31115987,
          86.00912338622221,
          85.25202084777779,
          79.01471329411112,
          82.97849635571428,
          83.96412612111111,
          69.6476760317647,
          82.27158573714284,
          80.66314996222223,
          77.62500624111111,
          40.41027889833333,
          47.27673648718563,
          80.80275985019608,
          77.59548328783131,
          87.5686747911111,
          78.56511454666666,
          66.70995526185186,
          85.94222852888889,
          72.54814727888889,
          33.68970821375,
          44.61667647037037,
          79.39880261,
          37.971767808125,
          73.95675426888889,
          78.06819218666666,
          70.95468667142858,
          86.35455981934427,
          73.31065155,
          79.82720711,
          83.87039965,
          82.76728620888889,
          39.8019533225,
          83.4905058825926,
          76.04852599224489,
          40.56278228111111,
          80.18848584857143,
          44.11659707485621,
          78.75663430285715,
          85.93342381777778,
          40.23129885388889,
          71.34560481428572,
          72.58667769571429,
          81.99853283333333,
          40.148684435,
          76.06985898333333,
          76.67122797367347,
          77.66984226714285,
          50.66414819972223,
          65.11647766413793,
          74.05117610428572,
          83.07172256111112,
          73.11885919333334,
          68.40745125857143,
          71.62225096555557,
          78.33928278294118,
          72.70288421571429,
          24.870947012692305,
          69.05296871574585,
          82.42111349888889,
          75.29965591555555,
          79.67152001555556,
          77.29660361142858,
          85.16324513777778,
          78.2429436388889,
          77.94765729555554,
          82.20561166,
          50.617531809999996,
          82.06865512333333,
          80.34697958222222,
          36.2392185920202,
          70.67553439148148,
          79.17966652999999,
          85.37060090333334,
          70.4692106456338,
          85.40070586333333,
          57.78599346351254,
          79.56736930097222,
          73.80142831282828,
          63.85988340986111,
          84.90708297444445,
          33.198112127222224,
          78.61101030666667,
          81.90099973000001,
          71.10965709173333,
          76.71665733730158,
          80.13896396888889,
          73.03533502285714,
          75.49385899833334,
          77.90784665333334,
          25.556947681481482,
          76.29129666596027,
          78.30807062777778,
          80.23425750714286,
          77.37495304722222,
          61.092116683576926,
          82.86073195777777,
          28.26702454740741,
          76.9612930152381,
          85.14180205462964,
          79.49967947857144,
          73.97361310031746,
          76.68604285142858,
          78.01946988916667,
          71.77116954838984,
          78.6138671442857,
          77.91319205142858,
          79.05686281,
          62.56753424888889,
          84.59627594777777,
          81.98024675571428,
          72.30879434280374,
          60.38626526611111,
          81.40446799466667,
          49.11209728311111,
          82.65263859111111,
          75.41297442055556,
          79.43306091285714,
          60.08788666861111,
          78.29340773166668,
          79.56796975285714,
          17.54998481133333,
          62.10071372000001,
          83.18692438333333,
          59.08551622805555,
          56.30344407076923,
          84.98296268,
          80.19357520777777,
          40.04558110944444,
          85.56437252814814,
          46.089271858125,
          83.63000273111112,
          77.88942494666667,
          82.44740503571428,
          73.6505270704762,
          76.0456183388889,
          82.50433971555556,
          85.67156724083333,
          81.09565800555555,
          75.01575801777777,
          47.58562477940994,
          86.42648313222223,
          79.16341930120001,
          33.10711598158621,
          37.14304241611993,
          77.09862355555555,
          83.28364963555555,
          80.41078410666667,
          81.16355268111111,
          79.66382679861111,
          84.34937533444445,
          86.22390572814814,
          83.07607634759259,
          81.1742720682,
          74.60249723,
          63.18224645566667,
          69.63815920923611,
          68.72159995917647,
          81.59807429714286,
          86.53084858222222,
          71.15210430285714,
          79.96869781428572,
          78.12685026925926,
          77.79524060222222,
          84.03327854888889,
          84.08375015333333,
          76.2056577088889,
          63.829717739,
          72.00193573,
          84.26655274888888,
          87.42797966777778,
          76.17059805714287,
          79.82143798777777,
          65.0147856177551,
          87.02798184333334,
          41.31256823388889,
          84.43838692222222,
          80.11566286357143,
          87.16268580111111,
          83.57601464222222,
          79.45865927571428,
          35.107112575555554,
          82.62931223555556,
          79.43868948857143,
          81.99632668571428,
          84.47257156333333,
          80.54390594509803,
          82.63731144428571,
          80.76974837555557,
          75.62206886666667,
          74.46335766962963,
          81.26793980444444,
          39.520852750555555,
          84.29997728571428,
          71.25033255428572,
          75.40607365490364,
          84.11,
          81.10980977694445,
          65.12093727254238,
          81.85684346333333,
          82.65860791857143,
          73.93520524222222,
          74.57246743285714,
          65.41105134636364,
          86.18383524333333,
          74.50917799259258,
          79.84670328444444,
          81.1862100825926,
          61.79215498944445,
          80.11321781714285,
          75.81939721285714,
          81.42852601999999,
          33.371953735625,
          61.0641676475,
          86.10355607777778,
          78.60566572555555,
          66.746158175,
          83.62551975555556,
          87.55865944,
          54.9503173056579,
          77.85477438857143,
          86.40492590444444,
          55.47537728702703,
          70.32439038822221,
          87.53395701111111,
          81.08230676222223,
          58.250400409605255,
          41.0252194068,
          78.00265473777777,
          66.3979254692405,
          81.19806561,
          80.51963817000001,
          77.84979006388889,
          78.29016660111111,
          75.63682551857143,
          80.79867689333334,
          78.74431571222222,
          59.3035476,
          81.19765843925926,
          75.929007379,
          88.37222222222222,
          79.40573083722222,
          44.42360056444444,
          79.08160508333333,
          80.8127618886111,
          80.95430382,
          82.40446172,
          75.40726649411765,
          40.10379471833333,
          81.09353189277778,
          78.27466698222221,
          65.32397557860465,
          81.4869831,
          75.57492472333334,
          84.42682093333333,
          76.20736352333333,
          77.02726682081081,
          73.82527134428572,
          83.88309745222222,
          77.53170588857142,
          76.063281169801,
          82.19307586777778,
          41.35609774222222,
          76.23406568285714,
          31.75796849911111,
          63.04606257277778,
          35.139108771486484,
          78.35149649428571,
          77.93635803666666,
          82.5907054311111,
          71.97456721666667,
          79.51515872888889,
          74.1264984011111,
          55.805625172888895,
          75.19245247111111,
          51.592199408518525,
          85.08608561,
          64.81800013830357,
          73.32489811428572,
          86.2128017,
          85.25160423722221,
          78.99285714285715,
          78.50427290333333,
          80.02958804666667,
          86.21812756444444,
          39.29944966708812,
          35.528634727874795,
          82.50350692666666,
          78.72460764888889,
          78.44909234888888,
          19.656802575,
          61.02959015565715,
          77.64241127,
          60.976116808484846,
          74.516332788125,
          82.97176805555556,
          81.45161760444445,
          74.34369539777778,
          79.40930835111111,
          79.03746846,
          80.83206720666666,
          80.33753600555556,
          78.38961300222223,
          54.92178095907285,
          37.653845434000004,
          77.12290562555556,
          77.89080893428572,
          84.68304300999999,
          84.99423543333333,
          46.38959244217106,
          70.98401367142857,
          85.21286241666667,
          78.95417282555556,
          83.36897251714286,
          55.70302218027778,
          48.96040085403846,
          85.49114333222222,
          81.29169526666666,
          73.001888031,
          72.11967520395062,
          78.60801789888889,
          67.72498991647059,
          83.21692179444443,
          87.10492713111111,
          82.13621288111112,
          74.63118909666667,
          31.946775526764707,
          86.60060003555556,
          74.22401619888889,
          82.04101711666667,
          73.90607142857142,
          81.15205625214286,
          87.08290650722222,
          74.90260027142857,
          78.05290642444444,
          86.43661577888889,
          70.56344187625616,
          44.38625419666666,
          46.1595174647138,
          86.60852691666668,
          65.21320819721154,
          83.34461659,
          84.2245565511111,
          88.08187103222222,
          34.07097727556962,
          77.97223750571428,
          41.9556219302439,
          57.174509780437496,
          47.35429763521538,
          79.24327091481481,
          77.64619084,
          78.45905498340909,
          79.82234225962964,
          70.21808963247982,
          71.34832188826087,
          79.83134928444446,
          77.17103821961538,
          81.40094899491228,
          81.51078431111111,
          42.02406523612903,
          69.37586741124325,
          80.91607952333334,
          84.50435811666667,
          74.32487394722222,
          70.19025866222222,
          35.339129293492064,
          80.92519099215191,
          53.19487874740741,
          75.83275116,
          77.38201443333334,
          80.61364649166666,
          53.14127038157682,
          77.58013026714286,
          87.58999728111111,
          84.91620716999999,
          80.87610596666667,
          76.63171914666667,
          84.14580242666666,
          86.49622402666667,
          87.06523133888889,
          48.63870278814815,
          38.53968591388889,
          78.02683432133334,
          78.86535913333334,
          86.24666060666667,
          75.01219049622222,
          79.09629938933334,
          80.06551199714285,
          70.38192605142856,
          78.39334446432099,
          76.81536618326668,
          78.97567996000001,
          79.46618315301588,
          79.98991110714285,
          75.55741311142857,
          79.02050317777778,
          76.89492012,
          40.574043735555556,
          75.58023882190476,
          83.64511790222222,
          76.11121255,
          34.30940979353535,
          79.58723362571428,
          84.89754102444445,
          84.44543826555555,
          72.35438502714285,
          67.04906873757577,
          80.22889726888889,
          73.89628426714286,
          86.51876484888889,
          27.80270672814815,
          74.11958472777778,
          76.50936253142856,
          84.84082940666667,
          77.41208870934426,
          60.59074833458334,
          69.68091644285714,
          59.609869339111114,
          80.60019494847222,
          70.93225999676767,
          42.39936658833333,
          74.49551065260869,
          83.57914050333333,
          87.20097211555554,
          84.03357780222223,
          79.6653395181982,
          70.7199360054321,
          83.46482484333333,
          79.93727870428572
         ],
         "y0": " ",
         "yaxis": "y"
        }
       ],
       "layout": {
        "boxmode": "group",
        "legend": {
         "tracegroupgap": 0
        },
        "margin": {
         "t": 60
        },
        "template": {
         "data": {
          "bar": [
           {
            "error_x": {
             "color": "#2a3f5f"
            },
            "error_y": {
             "color": "#2a3f5f"
            },
            "marker": {
             "line": {
              "color": "#E5ECF6",
              "width": 0.5
             },
             "pattern": {
              "fillmode": "overlay",
              "size": 10,
              "solidity": 0.2
             }
            },
            "type": "bar"
           }
          ],
          "barpolar": [
           {
            "marker": {
             "line": {
              "color": "#E5ECF6",
              "width": 0.5
             },
             "pattern": {
              "fillmode": "overlay",
              "size": 10,
              "solidity": 0.2
             }
            },
            "type": "barpolar"
           }
          ],
          "carpet": [
           {
            "aaxis": {
             "endlinecolor": "#2a3f5f",
             "gridcolor": "white",
             "linecolor": "white",
             "minorgridcolor": "white",
             "startlinecolor": "#2a3f5f"
            },
            "baxis": {
             "endlinecolor": "#2a3f5f",
             "gridcolor": "white",
             "linecolor": "white",
             "minorgridcolor": "white",
             "startlinecolor": "#2a3f5f"
            },
            "type": "carpet"
           }
          ],
          "choropleth": [
           {
            "colorbar": {
             "outlinewidth": 0,
             "ticks": ""
            },
            "type": "choropleth"
           }
          ],
          "contour": [
           {
            "colorbar": {
             "outlinewidth": 0,
             "ticks": ""
            },
            "colorscale": [
             [
              0,
              "#0d0887"
             ],
             [
              0.1111111111111111,
              "#46039f"
             ],
             [
              0.2222222222222222,
              "#7201a8"
             ],
             [
              0.3333333333333333,
              "#9c179e"
             ],
             [
              0.4444444444444444,
              "#bd3786"
             ],
             [
              0.5555555555555556,
              "#d8576b"
             ],
             [
              0.6666666666666666,
              "#ed7953"
             ],
             [
              0.7777777777777778,
              "#fb9f3a"
             ],
             [
              0.8888888888888888,
              "#fdca26"
             ],
             [
              1,
              "#f0f921"
             ]
            ],
            "type": "contour"
           }
          ],
          "contourcarpet": [
           {
            "colorbar": {
             "outlinewidth": 0,
             "ticks": ""
            },
            "type": "contourcarpet"
           }
          ],
          "heatmap": [
           {
            "colorbar": {
             "outlinewidth": 0,
             "ticks": ""
            },
            "colorscale": [
             [
              0,
              "#0d0887"
             ],
             [
              0.1111111111111111,
              "#46039f"
             ],
             [
              0.2222222222222222,
              "#7201a8"
             ],
             [
              0.3333333333333333,
              "#9c179e"
             ],
             [
              0.4444444444444444,
              "#bd3786"
             ],
             [
              0.5555555555555556,
              "#d8576b"
             ],
             [
              0.6666666666666666,
              "#ed7953"
             ],
             [
              0.7777777777777778,
              "#fb9f3a"
             ],
             [
              0.8888888888888888,
              "#fdca26"
             ],
             [
              1,
              "#f0f921"
             ]
            ],
            "type": "heatmap"
           }
          ],
          "heatmapgl": [
           {
            "colorbar": {
             "outlinewidth": 0,
             "ticks": ""
            },
            "colorscale": [
             [
              0,
              "#0d0887"
             ],
             [
              0.1111111111111111,
              "#46039f"
             ],
             [
              0.2222222222222222,
              "#7201a8"
             ],
             [
              0.3333333333333333,
              "#9c179e"
             ],
             [
              0.4444444444444444,
              "#bd3786"
             ],
             [
              0.5555555555555556,
              "#d8576b"
             ],
             [
              0.6666666666666666,
              "#ed7953"
             ],
             [
              0.7777777777777778,
              "#fb9f3a"
             ],
             [
              0.8888888888888888,
              "#fdca26"
             ],
             [
              1,
              "#f0f921"
             ]
            ],
            "type": "heatmapgl"
           }
          ],
          "histogram": [
           {
            "marker": {
             "pattern": {
              "fillmode": "overlay",
              "size": 10,
              "solidity": 0.2
             }
            },
            "type": "histogram"
           }
          ],
          "histogram2d": [
           {
            "colorbar": {
             "outlinewidth": 0,
             "ticks": ""
            },
            "colorscale": [
             [
              0,
              "#0d0887"
             ],
             [
              0.1111111111111111,
              "#46039f"
             ],
             [
              0.2222222222222222,
              "#7201a8"
             ],
             [
              0.3333333333333333,
              "#9c179e"
             ],
             [
              0.4444444444444444,
              "#bd3786"
             ],
             [
              0.5555555555555556,
              "#d8576b"
             ],
             [
              0.6666666666666666,
              "#ed7953"
             ],
             [
              0.7777777777777778,
              "#fb9f3a"
             ],
             [
              0.8888888888888888,
              "#fdca26"
             ],
             [
              1,
              "#f0f921"
             ]
            ],
            "type": "histogram2d"
           }
          ],
          "histogram2dcontour": [
           {
            "colorbar": {
             "outlinewidth": 0,
             "ticks": ""
            },
            "colorscale": [
             [
              0,
              "#0d0887"
             ],
             [
              0.1111111111111111,
              "#46039f"
             ],
             [
              0.2222222222222222,
              "#7201a8"
             ],
             [
              0.3333333333333333,
              "#9c179e"
             ],
             [
              0.4444444444444444,
              "#bd3786"
             ],
             [
              0.5555555555555556,
              "#d8576b"
             ],
             [
              0.6666666666666666,
              "#ed7953"
             ],
             [
              0.7777777777777778,
              "#fb9f3a"
             ],
             [
              0.8888888888888888,
              "#fdca26"
             ],
             [
              1,
              "#f0f921"
             ]
            ],
            "type": "histogram2dcontour"
           }
          ],
          "mesh3d": [
           {
            "colorbar": {
             "outlinewidth": 0,
             "ticks": ""
            },
            "type": "mesh3d"
           }
          ],
          "parcoords": [
           {
            "line": {
             "colorbar": {
              "outlinewidth": 0,
              "ticks": ""
             }
            },
            "type": "parcoords"
           }
          ],
          "pie": [
           {
            "automargin": true,
            "type": "pie"
           }
          ],
          "scatter": [
           {
            "marker": {
             "colorbar": {
              "outlinewidth": 0,
              "ticks": ""
             }
            },
            "type": "scatter"
           }
          ],
          "scatter3d": [
           {
            "line": {
             "colorbar": {
              "outlinewidth": 0,
              "ticks": ""
             }
            },
            "marker": {
             "colorbar": {
              "outlinewidth": 0,
              "ticks": ""
             }
            },
            "type": "scatter3d"
           }
          ],
          "scattercarpet": [
           {
            "marker": {
             "colorbar": {
              "outlinewidth": 0,
              "ticks": ""
             }
            },
            "type": "scattercarpet"
           }
          ],
          "scattergeo": [
           {
            "marker": {
             "colorbar": {
              "outlinewidth": 0,
              "ticks": ""
             }
            },
            "type": "scattergeo"
           }
          ],
          "scattergl": [
           {
            "marker": {
             "colorbar": {
              "outlinewidth": 0,
              "ticks": ""
             }
            },
            "type": "scattergl"
           }
          ],
          "scattermapbox": [
           {
            "marker": {
             "colorbar": {
              "outlinewidth": 0,
              "ticks": ""
             }
            },
            "type": "scattermapbox"
           }
          ],
          "scatterpolar": [
           {
            "marker": {
             "colorbar": {
              "outlinewidth": 0,
              "ticks": ""
             }
            },
            "type": "scatterpolar"
           }
          ],
          "scatterpolargl": [
           {
            "marker": {
             "colorbar": {
              "outlinewidth": 0,
              "ticks": ""
             }
            },
            "type": "scatterpolargl"
           }
          ],
          "scatterternary": [
           {
            "marker": {
             "colorbar": {
              "outlinewidth": 0,
              "ticks": ""
             }
            },
            "type": "scatterternary"
           }
          ],
          "surface": [
           {
            "colorbar": {
             "outlinewidth": 0,
             "ticks": ""
            },
            "colorscale": [
             [
              0,
              "#0d0887"
             ],
             [
              0.1111111111111111,
              "#46039f"
             ],
             [
              0.2222222222222222,
              "#7201a8"
             ],
             [
              0.3333333333333333,
              "#9c179e"
             ],
             [
              0.4444444444444444,
              "#bd3786"
             ],
             [
              0.5555555555555556,
              "#d8576b"
             ],
             [
              0.6666666666666666,
              "#ed7953"
             ],
             [
              0.7777777777777778,
              "#fb9f3a"
             ],
             [
              0.8888888888888888,
              "#fdca26"
             ],
             [
              1,
              "#f0f921"
             ]
            ],
            "type": "surface"
           }
          ],
          "table": [
           {
            "cells": {
             "fill": {
              "color": "#EBF0F8"
             },
             "line": {
              "color": "white"
             }
            },
            "header": {
             "fill": {
              "color": "#C8D4E3"
             },
             "line": {
              "color": "white"
             }
            },
            "type": "table"
           }
          ]
         },
         "layout": {
          "annotationdefaults": {
           "arrowcolor": "#2a3f5f",
           "arrowhead": 0,
           "arrowwidth": 1
          },
          "autotypenumbers": "strict",
          "coloraxis": {
           "colorbar": {
            "outlinewidth": 0,
            "ticks": ""
           }
          },
          "colorscale": {
           "diverging": [
            [
             0,
             "#8e0152"
            ],
            [
             0.1,
             "#c51b7d"
            ],
            [
             0.2,
             "#de77ae"
            ],
            [
             0.3,
             "#f1b6da"
            ],
            [
             0.4,
             "#fde0ef"
            ],
            [
             0.5,
             "#f7f7f7"
            ],
            [
             0.6,
             "#e6f5d0"
            ],
            [
             0.7,
             "#b8e186"
            ],
            [
             0.8,
             "#7fbc41"
            ],
            [
             0.9,
             "#4d9221"
            ],
            [
             1,
             "#276419"
            ]
           ],
           "sequential": [
            [
             0,
             "#0d0887"
            ],
            [
             0.1111111111111111,
             "#46039f"
            ],
            [
             0.2222222222222222,
             "#7201a8"
            ],
            [
             0.3333333333333333,
             "#9c179e"
            ],
            [
             0.4444444444444444,
             "#bd3786"
            ],
            [
             0.5555555555555556,
             "#d8576b"
            ],
            [
             0.6666666666666666,
             "#ed7953"
            ],
            [
             0.7777777777777778,
             "#fb9f3a"
            ],
            [
             0.8888888888888888,
             "#fdca26"
            ],
            [
             1,
             "#f0f921"
            ]
           ],
           "sequentialminus": [
            [
             0,
             "#0d0887"
            ],
            [
             0.1111111111111111,
             "#46039f"
            ],
            [
             0.2222222222222222,
             "#7201a8"
            ],
            [
             0.3333333333333333,
             "#9c179e"
            ],
            [
             0.4444444444444444,
             "#bd3786"
            ],
            [
             0.5555555555555556,
             "#d8576b"
            ],
            [
             0.6666666666666666,
             "#ed7953"
            ],
            [
             0.7777777777777778,
             "#fb9f3a"
            ],
            [
             0.8888888888888888,
             "#fdca26"
            ],
            [
             1,
             "#f0f921"
            ]
           ]
          },
          "colorway": [
           "#636efa",
           "#EF553B",
           "#00cc96",
           "#ab63fa",
           "#FFA15A",
           "#19d3f3",
           "#FF6692",
           "#B6E880",
           "#FF97FF",
           "#FECB52"
          ],
          "font": {
           "color": "#2a3f5f"
          },
          "geo": {
           "bgcolor": "white",
           "lakecolor": "white",
           "landcolor": "#E5ECF6",
           "showlakes": true,
           "showland": true,
           "subunitcolor": "white"
          },
          "hoverlabel": {
           "align": "left"
          },
          "hovermode": "closest",
          "mapbox": {
           "style": "light"
          },
          "paper_bgcolor": "white",
          "plot_bgcolor": "#E5ECF6",
          "polar": {
           "angularaxis": {
            "gridcolor": "white",
            "linecolor": "white",
            "ticks": ""
           },
           "bgcolor": "#E5ECF6",
           "radialaxis": {
            "gridcolor": "white",
            "linecolor": "white",
            "ticks": ""
           }
          },
          "scene": {
           "xaxis": {
            "backgroundcolor": "#E5ECF6",
            "gridcolor": "white",
            "gridwidth": 2,
            "linecolor": "white",
            "showbackground": true,
            "ticks": "",
            "zerolinecolor": "white"
           },
           "yaxis": {
            "backgroundcolor": "#E5ECF6",
            "gridcolor": "white",
            "gridwidth": 2,
            "linecolor": "white",
            "showbackground": true,
            "ticks": "",
            "zerolinecolor": "white"
           },
           "zaxis": {
            "backgroundcolor": "#E5ECF6",
            "gridcolor": "white",
            "gridwidth": 2,
            "linecolor": "white",
            "showbackground": true,
            "ticks": "",
            "zerolinecolor": "white"
           }
          },
          "shapedefaults": {
           "line": {
            "color": "#2a3f5f"
           }
          },
          "ternary": {
           "aaxis": {
            "gridcolor": "white",
            "linecolor": "white",
            "ticks": ""
           },
           "baxis": {
            "gridcolor": "white",
            "linecolor": "white",
            "ticks": ""
           },
           "bgcolor": "#E5ECF6",
           "caxis": {
            "gridcolor": "white",
            "linecolor": "white",
            "ticks": ""
           }
          },
          "title": {
           "x": 0.05
          },
          "xaxis": {
           "automargin": true,
           "gridcolor": "white",
           "linecolor": "white",
           "ticks": "",
           "title": {
            "standoff": 15
           },
           "zerolinecolor": "white",
           "zerolinewidth": 2
          },
          "yaxis": {
           "automargin": true,
           "gridcolor": "white",
           "linecolor": "white",
           "ticks": "",
           "title": {
            "standoff": 15
           },
           "zerolinecolor": "white",
           "zerolinewidth": 2
          }
         }
        },
        "title": {
         "text": "Proporção de aprovados no final do ensino médio"
        },
        "xaxis": {
         "anchor": "y",
         "domain": [
          0,
          1
         ]
        },
        "yaxis": {
         "anchor": "x",
         "domain": [
          0,
          1
         ],
         "title": {
          "text": "prop_aprovados_em"
         }
        }
       }
      },
      "text/html": [
       "<div>                            <div id=\"430cac2b-cf85-4d1c-a65c-60dfdb51656b\" class=\"plotly-graph-div\" style=\"height:525px; width:100%;\"></div>            <script type=\"text/javascript\">                require([\"plotly\"], function(Plotly) {                    window.PLOTLYENV=window.PLOTLYENV || {};                                    if (document.getElementById(\"430cac2b-cf85-4d1c-a65c-60dfdb51656b\")) {                    Plotly.newPlot(                        \"430cac2b-cf85-4d1c-a65c-60dfdb51656b\",                        [{\"alignmentgroup\":\"True\",\"boxpoints\":\"all\",\"customdata\":[[\"Adamantina\"],[\"Adolfo\"],[\"Agua\\u00ed\"],[\"\\u00c1guas da Prata\"],[\"\\u00c1guas de Lind\\u00f3ia\"],[\"\\u00c1guas de Santa B\\u00e1rbara\"],[\"\\u00c1guas de S\\u00e3o Pedro\"],[\"Agudos\"],[\"Alambari\"],[\"Alfredo Marcondes\"],[\"Altair\"],[\"Altin\\u00f3polis\"],[\"Alto Alegre\"],[\"Alum\\u00ednio\"],[\"\\u00c1lvares Florence\"],[\"\\u00c1lvares Machado\"],[\"\\u00c1lvaro de Carvalho\"],[\"Alvinl\\u00e2ndia\"],[\"Americana\"],[\"Am\\u00e9rico Brasiliense\"],[\"Am\\u00e9rico de Campos\"],[\"Amparo\"],[\"Anal\\u00e2ndia\"],[\"Andradina\"],[\"Angatuba\"],[\"Anhembi\"],[\"Anhumas\"],[\"Aparecida\"],[\"Aparecida d'Oeste\"],[\"Apia\\u00ed\"],[\"Ara\\u00e7ariguama\"],[\"Ara\\u00e7atuba\"],[\"Ara\\u00e7oiaba da Serra\"],[\"Aramina\"],[\"Arandu\"],[\"Arape\\u00ed\"],[\"Araraquara\"],[\"Araras\"],[\"Arco-\\u00cdris\"],[\"Arealva\"],[\"Areias\"],[\"Arei\\u00f3polis\"],[\"Ariranha\"],[\"Artur Nogueira\"],[\"Aruj\\u00e1\"],[\"Asp\\u00e1sia\"],[\"Assis\"],[\"Atibaia\"],[\"Auriflama\"],[\"Ava\\u00ed\"],[\"Avar\\u00e9\"],[\"Balbinos\"],[\"B\\u00e1lsamo\"],[\"Bananal\"],[\"Bar\\u00e3o de Antonina\"],[\"Barbosa\"],[\"Bariri\"],[\"Barra Bonita\"],[\"Barra do Chap\\u00e9u\"],[\"Barra do Turvo\"],[\"Barretos\"],[\"Barrinha\"],[\"Barueri\"],[\"Bastos\"],[\"Batatais\"],[\"Bauru\"],[\"Bebedouro\"],[\"Bento de Abreu\"],[\"Bernardino de Campos\"],[\"Bertioga\"],[\"Bilac\"],[\"Birigui\"],[\"Biritiba-Mirim\"],[\"Boa Esperan\\u00e7a do Sul\"],[\"Bocaina\"],[\"Bofete\"],[\"Boituva\"],[\"Bom Jesus dos Perd\\u00f5es\"],[\"Bor\\u00e1\"],[\"Borac\\u00e9ia\"],[\"Borborema\"],[\"Borebi\"],[\"Botucatu\"],[\"Bragan\\u00e7a Paulista\"],[\"Bra\\u00fana\"],[\"Brejo Alegre\"],[\"Buri\"],[\"Buritama\"],[\"Buritizal\"],[\"Cabr\\u00e1lia Paulista\"],[\"Cabre\\u00fava\"],[\"Ca\\u00e7apava\"],[\"Cachoeira Paulista\"],[\"Caconde\"],[\"Cafel\\u00e2ndia\"],[\"Caiabu\"],[\"Caiu\\u00e1\"],[\"Cajamar\"],[\"Cajati\"],[\"Cajobi\"],[\"Cajuru\"],[\"Campina do Monte Alegre\"],[\"Campinas\"],[\"Campo Limpo Paulista\"],[\"Campos do Jord\\u00e3o\"],[\"Campos Novos Paulista\"],[\"Canan\\u00e9ia\"],[\"C\\u00e2ndido Rodrigues\"],[\"Canitar\"],[\"Cap\\u00e3o Bonito\"],[\"Capela do Alto\"],[\"Capivari\"],[\"Caraguatatuba\"],[\"Cardoso\"],[\"Casa Branca\"],[\"C\\u00e1ssia dos Coqueiros\"],[\"Castilho\"],[\"Catanduva\"],[\"Catigu\\u00e1\"],[\"Cedral\"],[\"Cerqueira C\\u00e9sar\"],[\"Cerquilho\"],[\"Ces\\u00e1rio Lange\"],[\"Charqueada\"],[\"Clementina\"],[\"Colina\"],[\"Col\\u00f4mbia\"],[\"Conchal\"],[\"Conchas\"],[\"Cordeir\\u00f3polis\"],[\"Coroados\"],[\"Coronel Macedo\"],[\"Corumbata\\u00ed\"],[\"Cosm\\u00f3polis\"],[\"Cosmorama\"],[\"Cotia\"],[\"Cravinhos\"],[\"Cristais Paulista\"],[\"Cruz\\u00e1lia\"],[\"Cruzeiro\"],[\"Cubat\\u00e3o\"],[\"Cunha\"],[\"Descalvado\"],[\"Dirce Reis\"],[\"Divinol\\u00e2ndia\"],[\"Dobrada\"],[\"Dois C\\u00f3rregos\"],[\"Dolcin\\u00f3polis\"],[\"Dourado\"],[\"Dracena\"],[\"Duartina\"],[\"Dumont\"],[\"Echapor\\u00e3\"],[\"Eldorado\"],[\"Elias Fausto\"],[\"Elisi\\u00e1rio\"],[\"Emba\\u00faba\"],[\"Embu\"],[\"Embu-Gua\\u00e7u\"],[\"Emilian\\u00f3polis\"],[\"Engenheiro Coelho\"],[\"Esp\\u00edrito Santo do Pinhal\"],[\"Esp\\u00edrito Santo do Turvo\"],[\"Estrela d'Oeste\"],[\"Estrela do Norte\"],[\"Euclides da Cunha Paulista\"],[\"Fartura\"],[\"Fernand\\u00f3polis\"],[\"Fernando Prestes\"],[\"Fern\\u00e3o\"],[\"Ferraz de Vasconcelos\"],[\"Flora Rica\"],[\"Floreal\"],[\"Fl\\u00f3rida Paulista\"],[\"Flor\\u00ednia\"],[\"Franca\"],[\"Francisco Morato\"],[\"Franco da Rocha\"],[\"Gabriel Monteiro\"],[\"G\\u00e1lia\"],[\"Gar\\u00e7a\"],[\"Gast\\u00e3o Vidigal\"],[\"Gavi\\u00e3o Peixoto\"],[\"General Salgado\"],[\"Getulina\"],[\"Glic\\u00e9rio\"],[\"Guai\\u00e7ara\"],[\"Guaimb\\u00ea\"],[\"Gua\\u00edra\"],[\"Guapia\\u00e7u\"],[\"Guapiara\"],[\"Guar\\u00e1\"],[\"Guara\\u00e7a\\u00ed\"],[\"Guaraci\"],[\"Guarani d'Oeste\"],[\"Guarant\\u00e3\"],[\"Guararapes\"],[\"Guararema\"],[\"Guare\\u00ed\"],[\"Guariba\"],[\"Guarulhos\"],[\"Guatapar\\u00e1\"],[\"Guzol\\u00e2ndia\"],[\"Hercul\\u00e2ndia\"],[\"Holambra\"],[\"Hortol\\u00e2ndia\"],[\"Iacanga\"],[\"Iacri\"],[\"Iaras\"],[\"Ibat\\u00e9\"],[\"Ibir\\u00e1\"],[\"Ibitinga\"],[\"Ibi\\u00fana\"],[\"Ic\\u00e9m\"],[\"Iep\\u00ea\"],[\"Igara\\u00e7u do Tiet\\u00ea\"],[\"Igarapava\"],[\"Igarat\\u00e1\"],[\"Ilhabela\"],[\"Ilha Comprida\"],[\"Ilha Solteira\"],[\"Indaiatuba\"],[\"Indiana\"],[\"Indiapor\\u00e3\"],[\"In\\u00fabia Paulista\"],[\"Iper\\u00f3\"],[\"Ipe\\u00fana\"],[\"Ipigu\\u00e1\"],[\"Iporanga\"],[\"Ipu\\u00e3\"],[\"Iracem\\u00e1polis\"],[\"Irapu\\u00e3\"],[\"Irapuru\"],[\"Itaber\\u00e1\"],[\"Ita\\u00ed\"],[\"Itajobi\"],[\"Itaju\"],[\"Itanha\\u00e9m\"],[\"Ita\\u00f3ca\"],[\"Itapecerica da Serra\"],[\"Itapeva\"],[\"Itapevi\"],[\"Itapira\"],[\"Itapirapu\\u00e3 Paulista\"],[\"It\\u00e1polis\"],[\"Itaporanga\"],[\"Itapura\"],[\"Itaquaquecetuba\"],[\"Itarar\\u00e9\"],[\"Itariri\"],[\"Itatiba\"],[\"Itatinga\"],[\"Itirapina\"],[\"Itobi\"],[\"Itu\"],[\"Itupeva\"],[\"Jaborandi\"],[\"Jaboticabal\"],[\"Jacare\\u00ed\"],[\"Jaci\"],[\"Jacupiranga\"],[\"Jaguari\\u00fana\"],[\"Jales\"],[\"Jambeiro\"],[\"Jandira\"],[\"Jardin\\u00f3polis\"],[\"Jarinu\"],[\"Ja\\u00fa\"],[\"Jeriquara\"],[\"Joan\\u00f3polis\"],[\"Jo\\u00e3o Ramalho\"],[\"Jos\\u00e9 Bonif\\u00e1cio\"],[\"J\\u00falio Mesquita\"],[\"Jumirim\"],[\"Jundia\\u00ed\"],[\"Junqueir\\u00f3polis\"],[\"Juqui\\u00e1\"],[\"Juquitiba\"],[\"Lagoinha\"],[\"Laranjal Paulista\"],[\"Lav\\u00ednia\"],[\"Leme\"],[\"Len\\u00e7\\u00f3is Paulista\"],[\"Lind\\u00f3ia\"],[\"Lins\"],[\"Lorena\"],[\"Lourdes\"],[\"Louveira\"],[\"Luc\\u00e9lia\"],[\"Lucian\\u00f3polis\"],[\"Luizi\\u00e2nia\"],[\"Lup\\u00e9rcio\"],[\"Macatuba\"],[\"Macaubal\"],[\"Maced\\u00f4nia\"],[\"Magda\"],[\"Mairinque\"],[\"Mairipor\\u00e3\"],[\"Manduri\"],[\"Marab\\u00e1 Paulista\"],[\"Maraca\\u00ed\"],[\"Marapoama\"],[\"Mari\\u00e1polis\"],[\"Mar\\u00edlia\"],[\"Marin\\u00f3polis\"],[\"Martin\\u00f3polis\"],[\"Mat\\u00e3o\"],[\"Mau\\u00e1\"],[\"Mendon\\u00e7a\"],[\"Meridiano\"],[\"Mes\\u00f3polis\"],[\"Mineiros do Tiet\\u00ea\"],[\"Miracatu\"],[\"Mira Estrela\"],[\"Mirand\\u00f3polis\"],[\"Mirante do Paranapanema\"],[\"Mirassol\"],[\"Mirassol\\u00e2ndia\"],[\"Mococa\"],[\"Mogi Gua\\u00e7u\"],[\"Moji Mirim\"],[\"Mombuca\"],[\"Mon\\u00e7\\u00f5es\"],[\"Mongagu\\u00e1\"],[\"Monte Alegre do Sul\"],[\"Monte Alto\"],[\"Monte Apraz\\u00edvel\"],[\"Monte Azul Paulista\"],[\"Monte Castelo\"],[\"Monteiro Lobato\"],[\"Morro Agudo\"],[\"Motuca\"],[\"Murutinga do Sul\"],[\"Nantes\"],[\"Narandiba\"],[\"Natividade da Serra\"],[\"Nazar\\u00e9 Paulista\"],[\"Neves Paulista\"],[\"Nhandeara\"],[\"Nipo\\u00e3\"],[\"Nova Campina\"],[\"Nova Cana\\u00e3 Paulista\"],[\"Nova Castilho\"],[\"Nova Europa\"],[\"Nova Granada\"],[\"Nova Guataporanga\"],[\"Nova Independ\\u00eancia\"],[\"Novais\"],[\"Nova Luzit\\u00e2nia\"],[\"Nova Odessa\"],[\"Nuporanga\"],[\"Ocau\\u00e7u\"],[\"\\u00d3leo\"],[\"Ol\\u00edmpia\"],[\"Onda Verde\"],[\"Oriente\"],[\"Orindi\\u00fava\"],[\"Orl\\u00e2ndia\"],[\"Osasco\"],[\"Oscar Bressane\"],[\"Osvaldo Cruz\"],[\"Ourinhos\"],[\"Ouroeste\"],[\"Ouro Verde\"],[\"Pacaembu\"],[\"Palestina\"],[\"Palmares Paulista\"],[\"Palmeira d'Oeste\"],[\"Palmital\"],[\"Panorama\"],[\"Paragua\\u00e7u Paulista\"],[\"Paraibuna\"],[\"Para\\u00edso\"],[\"Paranapanema\"],[\"Paranapu\\u00e3\"],[\"Parapu\\u00e3\"],[\"Pariquera-A\\u00e7u\"],[\"Parisi\"],[\"Paulic\\u00e9ia\"],[\"Paul\\u00ednia\"],[\"Paulist\\u00e2nia\"],[\"Paulo de Faria\"],[\"Pederneiras\"],[\"Pedra Bela\"],[\"Pedran\\u00f3polis\"],[\"Pedregulho\"],[\"Pedreira\"],[\"Pedrinhas Paulista\"],[\"Pedro de Toledo\"],[\"Pen\\u00e1polis\"],[\"Pereira Barreto\"],[\"Pereiras\"],[\"Peru\\u00edbe\"],[\"Piacatu\"],[\"Piedade\"],[\"Pilar do Sul\"],[\"Pindorama\"],[\"Pinhalzinho\"],[\"Piquerobi\"],[\"Piquete\"],[\"Piracaia\"],[\"Piraju\"],[\"Piraju\\u00ed\"],[\"Pirangi\"],[\"Pirapozinho\"],[\"Pirassununga\"],[\"Piratininga\"],[\"Pitangueiras\"],[\"Planalto\"],[\"Platina\"],[\"Po\\u00e1\"],[\"Poloni\"],[\"Pomp\\u00e9ia\"],[\"Ponga\\u00ed\"],[\"Pontal\"],[\"Pontalinda\"],[\"Pontes Gestal\"],[\"Populina\"],[\"Porangaba\"],[\"Porto Feliz\"],[\"Potirendaba\"],[\"Pracinha\"],[\"Prad\\u00f3polis\"],[\"Praia Grande\"],[\"Prat\\u00e2nia\"],[\"Presidente Alves\"],[\"Presidente Bernardes\"],[\"Presidente Epit\\u00e1cio\"],[\"Presidente Venceslau\"],[\"Promiss\\u00e3o\"],[\"Quadra\"],[\"Quat\\u00e1\"],[\"Queiroz\"],[\"Queluz\"],[\"Quintana\"],[\"Rafard\"],[\"Rancharia\"],[\"Reden\\u00e7\\u00e3o da Serra\"],[\"Regente Feij\\u00f3\"],[\"Regin\\u00f3polis\"],[\"Registro\"],[\"Restinga\"],[\"Ribeira\"],[\"Ribeir\\u00e3o Branco\"],[\"Ribeir\\u00e3o Corrente\"],[\"Ribeir\\u00e3o do Sul\"],[\"Ribeir\\u00e3o dos \\u00cdndios\"],[\"Ribeir\\u00e3o Grande\"],[\"Ribeir\\u00e3o Pires\"],[\"Ribeir\\u00e3o Preto\"],[\"Riversul\"],[\"Rifaina\"],[\"Rinc\\u00e3o\"],[\"Rin\\u00f3polis\"],[\"Rio Claro\"],[\"Rio das Pedras\"],[\"Rio Grande da Serra\"],[\"Riol\\u00e2ndia\"],[\"Rubi\\u00e1cea\"],[\"Rubin\\u00e9ia\"],[\"Sabino\"],[\"Sagres\"],[\"Sales\"],[\"Sales Oliveira\"],[\"Salmour\\u00e3o\"],[\"Saltinho\"],[\"Salto\"],[\"Salto de Pirapora\"],[\"Salto Grande\"],[\"Sandovalina\"],[\"Santa Ad\\u00e9lia\"],[\"Santa Albertina\"],[\"Santa B\\u00e1rbara d'Oeste\"],[\"Santa Branca\"],[\"Santa Clara d'Oeste\"],[\"Santa Cruz da Concei\\u00e7\\u00e3o\"],[\"Santa Cruz da Esperan\\u00e7a\"],[\"Santa Cruz das Palmeiras\"],[\"Santa Cruz do Rio Pardo\"],[\"Santa Ernestina\"],[\"Santa F\\u00e9 do Sul\"],[\"Santa Gertrudes\"],[\"Santa Isabel\"],[\"Santa L\\u00facia\"],[\"Santa Maria da Serra\"],[\"Santa Mercedes\"],[\"Santana da Ponte Pensa\"],[\"Santa Rita d'Oeste\"],[\"Santa Rita do Passa Quatro\"],[\"Santa Rosa de Viterbo\"],[\"Santa Salete\"],[\"Santo Anast\\u00e1cio\"],[\"Santo Ant\\u00f4nio da Alegria\"],[\"Santo Ant\\u00f4nio de Posse\"],[\"Santo Ant\\u00f4nio do Aracangu\\u00e1\"],[\"Santo Ant\\u00f4nio do Jardim\"],[\"Santo Ant\\u00f4nio do Pinhal\"],[\"Santo Expedito\"],[\"Sant\\u00f3polis do Aguape\\u00ed\"],[\"Santos\"],[\"S\\u00e3o Bento do Sapuca\\u00ed\"],[\"S\\u00e3o Carlos\"],[\"S\\u00e3o Francisco\"],[\"S\\u00e3o Jo\\u00e3o da Boa Vista\"],[\"S\\u00e3o Jo\\u00e3o das Duas Pontes\"],[\"S\\u00e3o Jo\\u00e3o de Iracema\"],[\"S\\u00e3o Jo\\u00e3o do Pau d'Alho\"],[\"S\\u00e3o Joaquim da Barra\"],[\"S\\u00e3o Jos\\u00e9 do Barreiro\"],[\"S\\u00e3o Jos\\u00e9 do Rio Pardo\"],[\"S\\u00e3o Jos\\u00e9 do Rio Preto\"],[\"S\\u00e3o Jos\\u00e9 dos Campos\"],[\"S\\u00e3o Louren\\u00e7o da Serra\"],[\"S\\u00e3o Lu\\u00eds do Paraitinga\"],[\"S\\u00e3o Manuel\"],[\"S\\u00e3o Miguel Arcanjo\"],[\"S\\u00e3o Paulo\"],[\"S\\u00e3o Pedro\"],[\"S\\u00e3o Pedro do Turvo\"],[\"S\\u00e3o Roque\"],[\"S\\u00e3o Sebasti\\u00e3o\"],[\"S\\u00e3o Sebasti\\u00e3o da Grama\"],[\"S\\u00e3o Sim\\u00e3o\"],[\"S\\u00e3o Vicente\"],[\"Sarapu\\u00ed\"],[\"Sebastian\\u00f3polis do Sul\"],[\"Serra Azul\"],[\"Serrana\"],[\"Serra Negra\"],[\"Sert\\u00e3ozinho\"],[\"Sete Barras\"],[\"Sever\\u00ednia\"],[\"Silveiras\"],[\"Socorro\"],[\"Sorocaba\"],[\"Sud Mennucci\"],[\"Suzan\\u00e1polis\"],[\"Tabapu\\u00e3\"],[\"Tabatinga\"],[\"Taciba\"],[\"Tagua\\u00ed\"],[\"Taia\\u00e7u\"],[\"Tai\\u00fava\"],[\"Tamba\\u00fa\"],[\"Tanabi\"],[\"Tapira\\u00ed\"],[\"Tapiratiba\"],[\"Taquaral\"],[\"Taquaritinga\"],[\"Taquarituba\"],[\"Taquariva\\u00ed\"],[\"Tarabai\"],[\"Tatu\\u00ed\"],[\"Taubat\\u00e9\"],[\"Tejup\\u00e1\"],[\"Teodoro Sampaio\"],[\"Terra Roxa\"],[\"Tiet\\u00ea\"],[\"Timburi\"],[\"Torre de Pedra\"],[\"Torrinha\"],[\"Trememb\\u00e9\"],[\"Tr\\u00eas Fronteiras\"],[\"Tuiuti\"],[\"Tup\\u00e3\"],[\"Tupi Paulista\"],[\"Turi\\u00faba\"],[\"Turmalina\"],[\"Ubarana\"],[\"Ubatuba\"],[\"Ubirajara\"],[\"Uchoa\"],[\"Uni\\u00e3o Paulista\"],[\"Ur\\u00e2nia\"],[\"Uru\"],[\"Urup\\u00eas\"],[\"Valentim Gentil\"],[\"Valinhos\"],[\"Valpara\\u00edso\"],[\"Vargem\"],[\"Vargem Grande do Sul\"],[\"Vargem Grande Paulista\"],[\"V\\u00e1rzea Paulista\"],[\"Vera Cruz\"],[\"Vinhedo\"],[\"Viradouro\"],[\"Vista Alegre do Alto\"],[\"Vit\\u00f3ria Brasil\"],[\"Votorantim\"],[\"Votuporanga\"],[\"Zacarias\"],[\"Estiva Gerbi\"]],\"hovertemplate\":\"prop_aprovados_em=%{y}<br>name=%{customdata[0]}<extra></extra>\",\"legendgroup\":\"\",\"marker\":{\"color\":\"#636efa\"},\"name\":\"\",\"notched\":false,\"offsetgroup\":\"\",\"orientation\":\"v\",\"showlegend\":false,\"x0\":\" \",\"xaxis\":\"x\",\"y\":[77.6561357262963,81.6984531942857,52.93325889611111,42.664263714444445,77.27934639125,76.19631903777778,83.20782453285713,77.31502724703704,79.78836034333332,75.20794905555556,83.40420072333333,76.13104489777778,81.67686911333334,81.71387856571428,81.08843798333334,67.94248966714285,81.91717109888889,76.15389761444445,42.44826534111765,74.5790537874074,84.27410935333333,55.19571374853449,72.21606201142858,76.43656122277778,50.925360544074074,73.92773154142857,80.8110358088889,76.20608976071428,84.44534202333334,82.385818594321,75.96606863857143,70.78851387096154,78.40639096583334,79.29968834888888,75.72750993555556,76.40632302428571,44.43802780717472,38.854843555,84.83935712444445,84.41247516555556,72.13731680714285,77.51254630000001,84.84680517111111,63.60397312384615,65.16285788518519,86.99325073777777,77.97749346277777,53.19685844723164,86.53160384111112,79.92282601777778,50.442453399444446,88.13380157555555,80.79003739555554,72.91361585285713,80.44774854666667,73.8692244088889,81.67771886833333,82.96817095388889,85.09157742740742,77.90537989666667,72.93527436009708,75.50893304,71.71337500013605,40.27699136425926,52.947993939999996,45.49986759291391,80.66697634160494,82.87564709666667,78.26859267944445,65.72916700013889,78.7344999511111,70.5871890591453,48.588135683703705,67.99897038,76.17462904923077,40.638355190000006,72.87397460999999,51.87069694518519,87.68984151222223,80.39128142666667,27.899403535925924,73.66532457571428,66.7608351762295,58.477861462363634,80.72297397111112,82.19369952444444,78.75381081714285,84.67156851722223,82.78848066,76.35754021777778,79.32542621537037,77.0157619570297,64.81476130194805,80.75566765555556,54.45132984944444,76.43605213,76.35620953722223,78.10978108083333,80.98370829088888,77.1898915757143,80.66754821037037,74.83568154428572,43.7754021012369,76.15691566711538,67.61635218692308,79.76765463888889,76.67546807527778,85.55377197285715,79.74708831857143,79.315753083125,74.80777975857143,74.30592759806451,85.04738468302753,82.28771259333332,37.76337729631579,83.04775525714285,39.818970990555556,81.23111278602272,84.27539144222222,79.06518768285714,74.88113490388889,73.74251560785714,69.84309265142858,74.71334073055556,82.2797216,75.69315133285714,76.47177459714285,80.45603705666667,40.749341259375,78.2216177168,79.67182907888889,75.51722771444445,83.49867409857143,68.22691683690476,80.00569109777777,55.53265028506024,71.08815966666667,74.30177111,87.31315512777778,74.08441412885715,43.26150156728261,41.04221696724638,76.50144207333332,80.36994798555556,79.65716672666667,29.48898938222222,81.70747993111111,81.87212262222222,79.53201270777778,75.81619110722221,78.9586778088889,81.32667641714285,77.84277438444445,54.28657002592593,77.70385603866666,85.11302852142856,82.10743904666667,51.16174048063939,39.75169706483333,78.85000043571428,76.24635736111111,33.4986005762963,81.40337877333333,81.8216640411111,81.31115987,86.00912338622221,85.25202084777779,79.01471329411112,82.97849635571428,83.96412612111111,69.6476760317647,82.27158573714284,80.66314996222223,77.62500624111111,40.41027889833333,47.27673648718563,80.80275985019608,77.59548328783131,87.5686747911111,78.56511454666666,66.70995526185186,85.94222852888889,72.54814727888889,33.68970821375,44.61667647037037,79.39880261,37.971767808125,73.95675426888889,78.06819218666666,70.95468667142858,86.35455981934427,73.31065155,79.82720711,83.87039965,82.76728620888889,39.8019533225,83.4905058825926,76.04852599224489,40.56278228111111,80.18848584857143,44.11659707485621,78.75663430285715,85.93342381777778,40.23129885388889,71.34560481428572,72.58667769571429,81.99853283333333,40.148684435,76.06985898333333,76.67122797367347,77.66984226714285,50.66414819972223,65.11647766413793,74.05117610428572,83.07172256111112,73.11885919333334,68.40745125857143,71.62225096555557,78.33928278294118,72.70288421571429,24.870947012692305,69.05296871574585,82.42111349888889,75.29965591555555,79.67152001555556,77.29660361142858,85.16324513777778,78.2429436388889,77.94765729555554,82.20561166,50.617531809999996,82.06865512333333,80.34697958222222,36.2392185920202,70.67553439148148,79.17966652999999,85.37060090333334,70.4692106456338,85.40070586333333,57.78599346351254,79.56736930097222,73.80142831282828,63.85988340986111,84.90708297444445,33.198112127222224,78.61101030666667,81.90099973000001,71.10965709173333,76.71665733730158,80.13896396888889,73.03533502285714,75.49385899833334,77.90784665333334,25.556947681481482,76.29129666596027,78.30807062777778,80.23425750714286,77.37495304722222,61.092116683576926,82.86073195777777,28.26702454740741,76.9612930152381,85.14180205462964,79.49967947857144,73.97361310031746,76.68604285142858,78.01946988916667,71.77116954838984,78.6138671442857,77.91319205142858,79.05686281,62.56753424888889,84.59627594777777,81.98024675571428,72.30879434280374,60.38626526611111,81.40446799466667,49.11209728311111,82.65263859111111,75.41297442055556,79.43306091285714,60.08788666861111,78.29340773166668,79.56796975285714,17.54998481133333,62.10071372000001,83.18692438333333,59.08551622805555,56.30344407076923,84.98296268,80.19357520777777,40.04558110944444,85.56437252814814,46.089271858125,83.63000273111112,77.88942494666667,82.44740503571428,73.6505270704762,76.0456183388889,82.50433971555556,85.67156724083333,81.09565800555555,75.01575801777777,47.58562477940994,86.42648313222223,79.16341930120001,33.10711598158621,37.14304241611993,77.09862355555555,83.28364963555555,80.41078410666667,81.16355268111111,79.66382679861111,84.34937533444445,86.22390572814814,83.07607634759259,81.1742720682,74.60249723,63.18224645566667,69.63815920923611,68.72159995917647,81.59807429714286,86.53084858222222,71.15210430285714,79.96869781428572,78.12685026925926,77.79524060222222,84.03327854888889,84.08375015333333,76.2056577088889,63.829717739,72.00193573,84.26655274888888,87.42797966777778,76.17059805714287,79.82143798777777,65.0147856177551,87.02798184333334,41.31256823388889,84.43838692222222,80.11566286357143,87.16268580111111,83.57601464222222,79.45865927571428,35.107112575555554,82.62931223555556,79.43868948857143,81.99632668571428,84.47257156333333,80.54390594509803,82.63731144428571,80.76974837555557,75.62206886666667,74.46335766962963,81.26793980444444,39.520852750555555,84.29997728571428,71.25033255428572,75.40607365490364,84.11,81.10980977694445,65.12093727254238,81.85684346333333,82.65860791857143,73.93520524222222,74.57246743285714,65.41105134636364,86.18383524333333,74.50917799259258,79.84670328444444,81.1862100825926,61.79215498944445,80.11321781714285,75.81939721285714,81.42852601999999,33.371953735625,61.0641676475,86.10355607777778,78.60566572555555,66.746158175,83.62551975555556,87.55865944,54.9503173056579,77.85477438857143,86.40492590444444,55.47537728702703,70.32439038822221,87.53395701111111,81.08230676222223,58.250400409605255,41.0252194068,78.00265473777777,66.3979254692405,81.19806561,80.51963817000001,77.84979006388889,78.29016660111111,75.63682551857143,80.79867689333334,78.74431571222222,59.3035476,81.19765843925926,75.929007379,88.37222222222222,79.40573083722222,44.42360056444444,79.08160508333333,80.8127618886111,80.95430382,82.40446172,75.40726649411765,40.10379471833333,81.09353189277778,78.27466698222221,65.32397557860465,81.4869831,75.57492472333334,84.42682093333333,76.20736352333333,77.02726682081081,73.82527134428572,83.88309745222222,77.53170588857142,76.063281169801,82.19307586777778,41.35609774222222,76.23406568285714,31.75796849911111,63.04606257277778,35.139108771486484,78.35149649428571,77.93635803666666,82.5907054311111,71.97456721666667,79.51515872888889,74.1264984011111,55.805625172888895,75.19245247111111,51.592199408518525,85.08608561,64.81800013830357,73.32489811428572,86.2128017,85.25160423722221,78.99285714285715,78.50427290333333,80.02958804666667,86.21812756444444,39.29944966708812,35.528634727874795,82.50350692666666,78.72460764888889,78.44909234888888,19.656802575,61.02959015565715,77.64241127,60.976116808484846,74.516332788125,82.97176805555556,81.45161760444445,74.34369539777778,79.40930835111111,79.03746846,80.83206720666666,80.33753600555556,78.38961300222223,54.92178095907285,37.653845434000004,77.12290562555556,77.89080893428572,84.68304300999999,84.99423543333333,46.38959244217106,70.98401367142857,85.21286241666667,78.95417282555556,83.36897251714286,55.70302218027778,48.96040085403846,85.49114333222222,81.29169526666666,73.001888031,72.11967520395062,78.60801789888889,67.72498991647059,83.21692179444443,87.10492713111111,82.13621288111112,74.63118909666667,31.946775526764707,86.60060003555556,74.22401619888889,82.04101711666667,73.90607142857142,81.15205625214286,87.08290650722222,74.90260027142857,78.05290642444444,86.43661577888889,70.56344187625616,44.38625419666666,46.1595174647138,86.60852691666668,65.21320819721154,83.34461659,84.2245565511111,88.08187103222222,34.07097727556962,77.97223750571428,41.9556219302439,57.174509780437496,47.35429763521538,79.24327091481481,77.64619084,78.45905498340909,79.82234225962964,70.21808963247982,71.34832188826087,79.83134928444446,77.17103821961538,81.40094899491228,81.51078431111111,42.02406523612903,69.37586741124325,80.91607952333334,84.50435811666667,74.32487394722222,70.19025866222222,35.339129293492064,80.92519099215191,53.19487874740741,75.83275116,77.38201443333334,80.61364649166666,53.14127038157682,77.58013026714286,87.58999728111111,84.91620716999999,80.87610596666667,76.63171914666667,84.14580242666666,86.49622402666667,87.06523133888889,48.63870278814815,38.53968591388889,78.02683432133334,78.86535913333334,86.24666060666667,75.01219049622222,79.09629938933334,80.06551199714285,70.38192605142856,78.39334446432099,76.81536618326668,78.97567996000001,79.46618315301588,79.98991110714285,75.55741311142857,79.02050317777778,76.89492012,40.574043735555556,75.58023882190476,83.64511790222222,76.11121255,34.30940979353535,79.58723362571428,84.89754102444445,84.44543826555555,72.35438502714285,67.04906873757577,80.22889726888889,73.89628426714286,86.51876484888889,27.80270672814815,74.11958472777778,76.50936253142856,84.84082940666667,77.41208870934426,60.59074833458334,69.68091644285714,59.609869339111114,80.60019494847222,70.93225999676767,42.39936658833333,74.49551065260869,83.57914050333333,87.20097211555554,84.03357780222223,79.6653395181982,70.7199360054321,83.46482484333333,79.93727870428572],\"y0\":\" \",\"yaxis\":\"y\",\"type\":\"box\"}],                        {\"template\":{\"data\":{\"bar\":[{\"error_x\":{\"color\":\"#2a3f5f\"},\"error_y\":{\"color\":\"#2a3f5f\"},\"marker\":{\"line\":{\"color\":\"#E5ECF6\",\"width\":0.5},\"pattern\":{\"fillmode\":\"overlay\",\"size\":10,\"solidity\":0.2}},\"type\":\"bar\"}],\"barpolar\":[{\"marker\":{\"line\":{\"color\":\"#E5ECF6\",\"width\":0.5},\"pattern\":{\"fillmode\":\"overlay\",\"size\":10,\"solidity\":0.2}},\"type\":\"barpolar\"}],\"carpet\":[{\"aaxis\":{\"endlinecolor\":\"#2a3f5f\",\"gridcolor\":\"white\",\"linecolor\":\"white\",\"minorgridcolor\":\"white\",\"startlinecolor\":\"#2a3f5f\"},\"baxis\":{\"endlinecolor\":\"#2a3f5f\",\"gridcolor\":\"white\",\"linecolor\":\"white\",\"minorgridcolor\":\"white\",\"startlinecolor\":\"#2a3f5f\"},\"type\":\"carpet\"}],\"choropleth\":[{\"colorbar\":{\"outlinewidth\":0,\"ticks\":\"\"},\"type\":\"choropleth\"}],\"contour\":[{\"colorbar\":{\"outlinewidth\":0,\"ticks\":\"\"},\"colorscale\":[[0.0,\"#0d0887\"],[0.1111111111111111,\"#46039f\"],[0.2222222222222222,\"#7201a8\"],[0.3333333333333333,\"#9c179e\"],[0.4444444444444444,\"#bd3786\"],[0.5555555555555556,\"#d8576b\"],[0.6666666666666666,\"#ed7953\"],[0.7777777777777778,\"#fb9f3a\"],[0.8888888888888888,\"#fdca26\"],[1.0,\"#f0f921\"]],\"type\":\"contour\"}],\"contourcarpet\":[{\"colorbar\":{\"outlinewidth\":0,\"ticks\":\"\"},\"type\":\"contourcarpet\"}],\"heatmap\":[{\"colorbar\":{\"outlinewidth\":0,\"ticks\":\"\"},\"colorscale\":[[0.0,\"#0d0887\"],[0.1111111111111111,\"#46039f\"],[0.2222222222222222,\"#7201a8\"],[0.3333333333333333,\"#9c179e\"],[0.4444444444444444,\"#bd3786\"],[0.5555555555555556,\"#d8576b\"],[0.6666666666666666,\"#ed7953\"],[0.7777777777777778,\"#fb9f3a\"],[0.8888888888888888,\"#fdca26\"],[1.0,\"#f0f921\"]],\"type\":\"heatmap\"}],\"heatmapgl\":[{\"colorbar\":{\"outlinewidth\":0,\"ticks\":\"\"},\"colorscale\":[[0.0,\"#0d0887\"],[0.1111111111111111,\"#46039f\"],[0.2222222222222222,\"#7201a8\"],[0.3333333333333333,\"#9c179e\"],[0.4444444444444444,\"#bd3786\"],[0.5555555555555556,\"#d8576b\"],[0.6666666666666666,\"#ed7953\"],[0.7777777777777778,\"#fb9f3a\"],[0.8888888888888888,\"#fdca26\"],[1.0,\"#f0f921\"]],\"type\":\"heatmapgl\"}],\"histogram\":[{\"marker\":{\"pattern\":{\"fillmode\":\"overlay\",\"size\":10,\"solidity\":0.2}},\"type\":\"histogram\"}],\"histogram2d\":[{\"colorbar\":{\"outlinewidth\":0,\"ticks\":\"\"},\"colorscale\":[[0.0,\"#0d0887\"],[0.1111111111111111,\"#46039f\"],[0.2222222222222222,\"#7201a8\"],[0.3333333333333333,\"#9c179e\"],[0.4444444444444444,\"#bd3786\"],[0.5555555555555556,\"#d8576b\"],[0.6666666666666666,\"#ed7953\"],[0.7777777777777778,\"#fb9f3a\"],[0.8888888888888888,\"#fdca26\"],[1.0,\"#f0f921\"]],\"type\":\"histogram2d\"}],\"histogram2dcontour\":[{\"colorbar\":{\"outlinewidth\":0,\"ticks\":\"\"},\"colorscale\":[[0.0,\"#0d0887\"],[0.1111111111111111,\"#46039f\"],[0.2222222222222222,\"#7201a8\"],[0.3333333333333333,\"#9c179e\"],[0.4444444444444444,\"#bd3786\"],[0.5555555555555556,\"#d8576b\"],[0.6666666666666666,\"#ed7953\"],[0.7777777777777778,\"#fb9f3a\"],[0.8888888888888888,\"#fdca26\"],[1.0,\"#f0f921\"]],\"type\":\"histogram2dcontour\"}],\"mesh3d\":[{\"colorbar\":{\"outlinewidth\":0,\"ticks\":\"\"},\"type\":\"mesh3d\"}],\"parcoords\":[{\"line\":{\"colorbar\":{\"outlinewidth\":0,\"ticks\":\"\"}},\"type\":\"parcoords\"}],\"pie\":[{\"automargin\":true,\"type\":\"pie\"}],\"scatter\":[{\"marker\":{\"colorbar\":{\"outlinewidth\":0,\"ticks\":\"\"}},\"type\":\"scatter\"}],\"scatter3d\":[{\"line\":{\"colorbar\":{\"outlinewidth\":0,\"ticks\":\"\"}},\"marker\":{\"colorbar\":{\"outlinewidth\":0,\"ticks\":\"\"}},\"type\":\"scatter3d\"}],\"scattercarpet\":[{\"marker\":{\"colorbar\":{\"outlinewidth\":0,\"ticks\":\"\"}},\"type\":\"scattercarpet\"}],\"scattergeo\":[{\"marker\":{\"colorbar\":{\"outlinewidth\":0,\"ticks\":\"\"}},\"type\":\"scattergeo\"}],\"scattergl\":[{\"marker\":{\"colorbar\":{\"outlinewidth\":0,\"ticks\":\"\"}},\"type\":\"scattergl\"}],\"scattermapbox\":[{\"marker\":{\"colorbar\":{\"outlinewidth\":0,\"ticks\":\"\"}},\"type\":\"scattermapbox\"}],\"scatterpolar\":[{\"marker\":{\"colorbar\":{\"outlinewidth\":0,\"ticks\":\"\"}},\"type\":\"scatterpolar\"}],\"scatterpolargl\":[{\"marker\":{\"colorbar\":{\"outlinewidth\":0,\"ticks\":\"\"}},\"type\":\"scatterpolargl\"}],\"scatterternary\":[{\"marker\":{\"colorbar\":{\"outlinewidth\":0,\"ticks\":\"\"}},\"type\":\"scatterternary\"}],\"surface\":[{\"colorbar\":{\"outlinewidth\":0,\"ticks\":\"\"},\"colorscale\":[[0.0,\"#0d0887\"],[0.1111111111111111,\"#46039f\"],[0.2222222222222222,\"#7201a8\"],[0.3333333333333333,\"#9c179e\"],[0.4444444444444444,\"#bd3786\"],[0.5555555555555556,\"#d8576b\"],[0.6666666666666666,\"#ed7953\"],[0.7777777777777778,\"#fb9f3a\"],[0.8888888888888888,\"#fdca26\"],[1.0,\"#f0f921\"]],\"type\":\"surface\"}],\"table\":[{\"cells\":{\"fill\":{\"color\":\"#EBF0F8\"},\"line\":{\"color\":\"white\"}},\"header\":{\"fill\":{\"color\":\"#C8D4E3\"},\"line\":{\"color\":\"white\"}},\"type\":\"table\"}]},\"layout\":{\"annotationdefaults\":{\"arrowcolor\":\"#2a3f5f\",\"arrowhead\":0,\"arrowwidth\":1},\"autotypenumbers\":\"strict\",\"coloraxis\":{\"colorbar\":{\"outlinewidth\":0,\"ticks\":\"\"}},\"colorscale\":{\"diverging\":[[0,\"#8e0152\"],[0.1,\"#c51b7d\"],[0.2,\"#de77ae\"],[0.3,\"#f1b6da\"],[0.4,\"#fde0ef\"],[0.5,\"#f7f7f7\"],[0.6,\"#e6f5d0\"],[0.7,\"#b8e186\"],[0.8,\"#7fbc41\"],[0.9,\"#4d9221\"],[1,\"#276419\"]],\"sequential\":[[0.0,\"#0d0887\"],[0.1111111111111111,\"#46039f\"],[0.2222222222222222,\"#7201a8\"],[0.3333333333333333,\"#9c179e\"],[0.4444444444444444,\"#bd3786\"],[0.5555555555555556,\"#d8576b\"],[0.6666666666666666,\"#ed7953\"],[0.7777777777777778,\"#fb9f3a\"],[0.8888888888888888,\"#fdca26\"],[1.0,\"#f0f921\"]],\"sequentialminus\":[[0.0,\"#0d0887\"],[0.1111111111111111,\"#46039f\"],[0.2222222222222222,\"#7201a8\"],[0.3333333333333333,\"#9c179e\"],[0.4444444444444444,\"#bd3786\"],[0.5555555555555556,\"#d8576b\"],[0.6666666666666666,\"#ed7953\"],[0.7777777777777778,\"#fb9f3a\"],[0.8888888888888888,\"#fdca26\"],[1.0,\"#f0f921\"]]},\"colorway\":[\"#636efa\",\"#EF553B\",\"#00cc96\",\"#ab63fa\",\"#FFA15A\",\"#19d3f3\",\"#FF6692\",\"#B6E880\",\"#FF97FF\",\"#FECB52\"],\"font\":{\"color\":\"#2a3f5f\"},\"geo\":{\"bgcolor\":\"white\",\"lakecolor\":\"white\",\"landcolor\":\"#E5ECF6\",\"showlakes\":true,\"showland\":true,\"subunitcolor\":\"white\"},\"hoverlabel\":{\"align\":\"left\"},\"hovermode\":\"closest\",\"mapbox\":{\"style\":\"light\"},\"paper_bgcolor\":\"white\",\"plot_bgcolor\":\"#E5ECF6\",\"polar\":{\"angularaxis\":{\"gridcolor\":\"white\",\"linecolor\":\"white\",\"ticks\":\"\"},\"bgcolor\":\"#E5ECF6\",\"radialaxis\":{\"gridcolor\":\"white\",\"linecolor\":\"white\",\"ticks\":\"\"}},\"scene\":{\"xaxis\":{\"backgroundcolor\":\"#E5ECF6\",\"gridcolor\":\"white\",\"gridwidth\":2,\"linecolor\":\"white\",\"showbackground\":true,\"ticks\":\"\",\"zerolinecolor\":\"white\"},\"yaxis\":{\"backgroundcolor\":\"#E5ECF6\",\"gridcolor\":\"white\",\"gridwidth\":2,\"linecolor\":\"white\",\"showbackground\":true,\"ticks\":\"\",\"zerolinecolor\":\"white\"},\"zaxis\":{\"backgroundcolor\":\"#E5ECF6\",\"gridcolor\":\"white\",\"gridwidth\":2,\"linecolor\":\"white\",\"showbackground\":true,\"ticks\":\"\",\"zerolinecolor\":\"white\"}},\"shapedefaults\":{\"line\":{\"color\":\"#2a3f5f\"}},\"ternary\":{\"aaxis\":{\"gridcolor\":\"white\",\"linecolor\":\"white\",\"ticks\":\"\"},\"baxis\":{\"gridcolor\":\"white\",\"linecolor\":\"white\",\"ticks\":\"\"},\"bgcolor\":\"#E5ECF6\",\"caxis\":{\"gridcolor\":\"white\",\"linecolor\":\"white\",\"ticks\":\"\"}},\"title\":{\"x\":0.05},\"xaxis\":{\"automargin\":true,\"gridcolor\":\"white\",\"linecolor\":\"white\",\"ticks\":\"\",\"title\":{\"standoff\":15},\"zerolinecolor\":\"white\",\"zerolinewidth\":2},\"yaxis\":{\"automargin\":true,\"gridcolor\":\"white\",\"linecolor\":\"white\",\"ticks\":\"\",\"title\":{\"standoff\":15},\"zerolinecolor\":\"white\",\"zerolinewidth\":2}}},\"xaxis\":{\"anchor\":\"y\",\"domain\":[0.0,1.0]},\"yaxis\":{\"anchor\":\"x\",\"domain\":[0.0,1.0],\"title\":{\"text\":\"prop_aprovados_em\"}},\"legend\":{\"tracegroupgap\":0},\"margin\":{\"t\":60},\"boxmode\":\"group\",\"title\":{\"text\":\"Propor\\u00e7\\u00e3o de aprovados no final do ensino m\\u00e9dio\"}},                        {\"responsive\": true}                    ).then(function(){\n",
       "                            \n",
       "var gd = document.getElementById('430cac2b-cf85-4d1c-a65c-60dfdb51656b');\n",
       "var x = new MutationObserver(function (mutations, observer) {{\n",
       "        var display = window.getComputedStyle(gd).display;\n",
       "        if (!display || display === 'none') {{\n",
       "            console.log([gd, 'removed!']);\n",
       "            Plotly.purge(gd);\n",
       "            observer.disconnect();\n",
       "        }}\n",
       "}});\n",
       "\n",
       "// Listen for the removal of the full notebook cells\n",
       "var notebookContainer = gd.closest('#notebook-container');\n",
       "if (notebookContainer) {{\n",
       "    x.observe(notebookContainer, {childList: true});\n",
       "}}\n",
       "\n",
       "// Listen for the clearing of the current output cell\n",
       "var outputEl = gd.closest('.output');\n",
       "if (outputEl) {{\n",
       "    x.observe(outputEl, {childList: true});\n",
       "}}\n",
       "\n",
       "                        })                };                });            </script>        </div>"
      ]
     },
     "metadata": {},
     "output_type": "display_data"
    }
   ],
   "source": [
    "#Organizing data\n",
    "flux_filtered = flux[flux['prop_aprovados_em'] < 81.403392*1.75]\n",
    "flux_filtered = flux_filtered[flux_filtered['prop_reprovados_em'] < 7.448878*1.75]\n",
    "flux_filtered = flux_filtered[flux_filtered['prop_abandono_em'] < 4.283583*1.75]\n",
    "#Ploting\n",
    "fig = px.box(flux_filtered, y=\"prop_aprovados_em\", points = \"all\", hover_data=['name'], labels={'y':'gdp'})\n",
    "fig.update_layout(title_text=\"Proporção de concluintes do ensino médio no estado de SP\")\n",
    "fig.show()"
   ]
  },
  {
   "cell_type": "markdown",
   "id": "9b6a8efd",
   "metadata": {},
   "source": [
    "Limpando os dados e criando um novo gráfico podemos ver que o nível de aprovação do ensino médio no estado de São Paulo não é tão baixo.  "
   ]
  },
  {
   "cell_type": "code",
   "execution_count": 77,
   "id": "b90f0a5f",
   "metadata": {},
   "outputs": [
    {
     "data": {
      "image/png": "[encoded data removed]",
      "text/plain": [
       "<Figure size 720x720 with 2 Axes>"
      ]
     },
     "metadata": {
      "needs_background": "light"
     },
     "output_type": "display_data"
    }
   ],
   "source": [
    "fig, ax = plt.subplots(figsize=(10, 10))\n",
    "flux_filtered.plot( ax=ax, column='prop_aprovados_em', cmap='twilight_shifted', legend=True, legend_kwds={'shrink': 0.4})\n",
    "ax.axis('off');\n",
    "plt.title('Proporção de aprovados no ensino médio por munícipio no estado de SP', size=15); "
   ]
  },
  {
   "cell_type": "markdown",
   "id": "9d8d9ba5",
   "metadata": {},
   "source": [
    "Podemos observar graças a esse gráfico que há um maior número de estados com uma aprovação superior a 50 %, entretanto o que accontece com os alunos que não são aprovados ?"
   ]
  },
  {
   "cell_type": "code",
   "execution_count": 85,
   "id": "25b1ca8f",
   "metadata": {},
   "outputs": [
    {
     "data": {
      "text/plain": [
       "''"
      ]
     },
     "execution_count": 85,
     "metadata": {},
     "output_type": "execute_result"
    },
    {
     "data": {
      "image/png": "[encoded data removed]",
      "text/plain": [
       "<Figure size 1008x1008 with 4 Axes>"
      ]
     },
     "metadata": {
      "needs_background": "light"
     },
     "output_type": "display_data"
    }
   ],
   "source": [
    "fig, axs = plt.subplots(2, figsize=(14, 14))\n",
    "flux_filtered.plot(ax=axs[0], column='prop_reprovados_em', cmap='twilight_shifted', legend=True, legend_kwds={'label': \"Porcentagem de reprovados\", 'shrink': 0.6})\n",
    "axs[0].set_title('Mapa do estado de SP com a proporção de reprovados no ensino médio', fontsize=15)\n",
    "flux_filtered.plot(ax=axs[1], column='prop_abandono_em', cmap='twilight_shifted', legend=True, legend_kwds={'label': \"Porcentagem de abandonos\", 'shrink': 0.6})\n",
    "axs[1].set_title('Mapa do estado de SP com a proporção de abandonos no ensino médio', fontsize=15)\n",
    "\n",
    ";"
   ]
  },
  {
   "cell_type": "code",
   "execution_count": 107,
   "id": "456398ba",
   "metadata": {},
   "outputs": [
    {
     "data": {
      "text/html": [
       "<div>\n",
       "<style scoped>\n",
       "    .dataframe tbody tr th:only-of-type {\n",
       "        vertical-align: middle;\n",
       "    }\n",
       "\n",
       "    .dataframe tbody tr th {\n",
       "        vertical-align: top;\n",
       "    }\n",
       "\n",
       "    .dataframe thead th {\n",
       "        text-align: right;\n",
       "    }\n",
       "</style>\n",
       "<table border=\"1\" class=\"dataframe\">\n",
       "  <thead>\n",
       "    <tr style=\"text-align: right;\">\n",
       "      <th></th>\n",
       "      <th>name</th>\n",
       "      <th>prop_reprovados_em</th>\n",
       "      <th>prop_abandono_em</th>\n",
       "    </tr>\n",
       "  </thead>\n",
       "  <tbody>\n",
       "    <tr>\n",
       "      <th>2</th>\n",
       "      <td>Aguaí</td>\n",
       "      <td>6.949182</td>\n",
       "      <td>1.228948</td>\n",
       "    </tr>\n",
       "    <tr>\n",
       "      <th>3</th>\n",
       "      <td>Águas da Prata</td>\n",
       "      <td>1.623514</td>\n",
       "      <td>0.156667</td>\n",
       "    </tr>\n",
       "    <tr>\n",
       "      <th>15</th>\n",
       "      <td>Álvares Machado</td>\n",
       "      <td>12.203966</td>\n",
       "      <td>5.567830</td>\n",
       "    </tr>\n",
       "    <tr>\n",
       "      <th>18</th>\n",
       "      <td>Americana</td>\n",
       "      <td>4.560133</td>\n",
       "      <td>2.109248</td>\n",
       "    </tr>\n",
       "    <tr>\n",
       "      <th>21</th>\n",
       "      <td>Amparo</td>\n",
       "      <td>3.523008</td>\n",
       "      <td>3.350330</td>\n",
       "    </tr>\n",
       "    <tr>\n",
       "      <th>...</th>\n",
       "      <td>...</td>\n",
       "      <td>...</td>\n",
       "      <td>...</td>\n",
       "    </tr>\n",
       "    <tr>\n",
       "      <th>625</th>\n",
       "      <td>Urânia</td>\n",
       "      <td>1.736886</td>\n",
       "      <td>0.090037</td>\n",
       "    </tr>\n",
       "    <tr>\n",
       "      <th>630</th>\n",
       "      <td>Valparaíso</td>\n",
       "      <td>1.746424</td>\n",
       "      <td>4.329494</td>\n",
       "    </tr>\n",
       "    <tr>\n",
       "      <th>631</th>\n",
       "      <td>Vargem</td>\n",
       "      <td>10.590512</td>\n",
       "      <td>5.442857</td>\n",
       "    </tr>\n",
       "    <tr>\n",
       "      <th>632</th>\n",
       "      <td>Vargem Grande do Sul</td>\n",
       "      <td>6.850661</td>\n",
       "      <td>4.650581</td>\n",
       "    </tr>\n",
       "    <tr>\n",
       "      <th>635</th>\n",
       "      <td>Vera Cruz</td>\n",
       "      <td>1.948412</td>\n",
       "      <td>0.096667</td>\n",
       "    </tr>\n",
       "  </tbody>\n",
       "</table>\n",
       "<p>161 rows × 3 columns</p>\n",
       "</div>"
      ],
      "text/plain": [
       "                     name  prop_reprovados_em  prop_abandono_em\n",
       "2                   Aguaí            6.949182          1.228948\n",
       "3          Águas da Prata            1.623514          0.156667\n",
       "15        Álvares Machado           12.203966          5.567830\n",
       "18              Americana            4.560133          2.109248\n",
       "21                 Amparo            3.523008          3.350330\n",
       "..                    ...                 ...               ...\n",
       "625                Urânia            1.736886          0.090037\n",
       "630            Valparaíso            1.746424          4.329494\n",
       "631                Vargem           10.590512          5.442857\n",
       "632  Vargem Grande do Sul            6.850661          4.650581\n",
       "635             Vera Cruz            1.948412          0.096667\n",
       "\n",
       "[161 rows x 3 columns]"
      ]
     },
     "execution_count": 107,
     "metadata": {},
     "output_type": "execute_result"
    }
   ],
   "source": [
    "flux['prop_aprovados_em'].describe()\n",
    "flux_menor = flux[flux['prop_aprovados_em'] < 69.735006]\n",
    "tab = flux_menor[['name', \"prop_reprovados_em\", \"prop_abandono_em\"]]\n",
    "tab"
   ]
  },
  {
   "cell_type": "markdown",
   "id": "aa1a5e9f",
   "metadata": {},
   "source": [
    "Pela tabela e os dois gráficos acima podemos supor que entre os alunos do ensino médio houve mais alunos que foram reprovados do que alunos que abadoram a escola. Entretanto nem o gráfico e nem a tabela nos permitem de confirrmarr esta hipótese. "
   ]
  },
  {
   "cell_type": "code",
   "execution_count": 122,
   "id": "a8deb266",
   "metadata": {},
   "outputs": [
    {
     "name": "stdout",
     "output_type": "stream",
     "text": [
      "Razão das saídas: \n",
      " razao_saida \n",
      "Reprovados :    146\n",
      "Abandonos :      15\n",
      "dtype: int64\n"
     ]
    },
    {
     "name": "stderr",
     "output_type": "stream",
     "text": [
      "C:\\Users\\Pichau\\AppData\\Local\\Temp/ipykernel_13340/3950777027.py:4: SettingWithCopyWarning:\n",
      "\n",
      "\n",
      "A value is trying to be set on a copy of a slice from a DataFrame.\n",
      "Try using .loc[row_indexer,col_indexer] = value instead\n",
      "\n",
      "See the caveats in the documentation: https://pandas.pydata.org/pandas-docs/stable/user_guide/indexing.html#returning-a-view-versus-a-copy\n",
      "\n"
     ]
    }
   ],
   "source": [
    "razao = [tab['prop_reprovados_em'] > tab['prop_abandono_em'], \n",
    "        tab['prop_reprovados_em'] < tab['prop_abandono_em']]\n",
    "valor = ['Reprovados :', 'Abandonos :']\n",
    "tab['razao_saida'] = np.select(razao, valor, default='0.5')\n",
    "print(\"Razão das saídas: \\n\",tab[['razao_saida']].value_counts())"
   ]
  },
  {
   "cell_type": "markdown",
   "id": "ff336aad",
   "metadata": {},
   "source": [
    "Graças a tabela acima é possível afirmar que nos municipios com a menor taxa de aprovação, a mairia dos alunos não completou o ensino médio devido a reprovação.   "
   ]
  }
 ],
 "metadata": {
  "kernelspec": {
   "display_name": "Python 3 (ipykernel)",
   "language": "python",
   "name": "python3"
  },
  "language_info": {
   "codemirror_mode": {
    "name": "ipython",
    "version": 3
   },
   "file_extension": ".py",
   "mimetype": "text/x-python",
   "name": "python",
   "nbconvert_exporter": "python",
   "pygments_lexer": "ipython3",
   "version": "3.9.7"
  }
 },
 "nbformat": 4,
 "nbformat_minor": 5
}
